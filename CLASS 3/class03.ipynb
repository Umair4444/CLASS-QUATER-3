{
 "cells": [
  {
   "cell_type": "code",
   "execution_count": null,
   "metadata": {},
   "outputs": [
    {
     "name": "stdout",
     "output_type": "stream",
     "text": [
      "['apple', 'cheery']\n",
      "['apple', 'banana']\n",
      "['apple', 'lion', 'banana']\n"
     ]
    }
   ],
   "source": [
    "fruits = [\"apple\",\"cheery\"]\n",
    "print(fruits)\n",
    "fruits[1] = \"banana\"\n",
    "print(fruits)\n",
    "fruits.insert(1,\"lion\")\n",
    "fruits.remove()\n",
    "print(fruits)"
   ]
  },
  {
   "cell_type": "code",
   "execution_count": 32,
   "metadata": {},
   "outputs": [
    {
     "name": "stdout",
     "output_type": "stream",
     "text": [
      "('eat', 'code', 'sleep')\n",
      "code\n",
      "<class 'tuple'>\n"
     ]
    }
   ],
   "source": [
    "my_rules = (\"eat\",\"code\",\"sleep\")\n",
    "# dir(tuple)\n",
    "# my_rules = (\"asas\")\n",
    "print(my_rules)\n",
    "print(my_rules[1])\n",
    "print(type(my_rules))\n"
   ]
  },
  {
   "cell_type": "code",
   "execution_count": 63,
   "metadata": {},
   "outputs": [
    {
     "name": "stdout",
     "output_type": "stream",
     "text": [
      "000001\n"
     ]
    },
    {
     "data": {
      "text/plain": [
       "['name', 'class', 'id', 'fruuits']"
      ]
     },
     "execution_count": 63,
     "metadata": {},
     "output_type": "execute_result"
    }
   ],
   "source": [
    "my_card = ({\"name\" : \"umair\",\n",
    "            \"class\" : \"GIAIC\",\n",
    "            \"id\" : \"000001\",\n",
    "            \"fruuits\" : [\"apple\",\"banaa\"]\n",
    "            })\n",
    "\n",
    "# print(my_card)\n",
    "# print(my_card[\"name\"])\n",
    "# print(my_card[\"fruuits\"][1])\n",
    "# my_card[\"id\"] = 1234\n",
    "print(my_card[\"id\"])\n",
    "\n",
    "[ i for i in my_card ]  \n",
    "\n",
    "\n",
    "# my_card.keys()"
   ]
  },
  {
   "cell_type": "code",
   "execution_count": null,
   "metadata": {},
   "outputs": [
    {
     "name": "stdout",
     "output_type": "stream",
     "text": [
      "My name is umair\n"
     ]
    }
   ],
   "source": []
  },
  {
   "cell_type": "code",
   "execution_count": 37,
   "metadata": {},
   "outputs": [
    {
     "name": "stdout",
     "output_type": "stream",
     "text": [
      "<class 'set'> my_set =  {1, 2, 33, 4, 5}\n"
     ]
    }
   ],
   "source": [
    "my_set: set = {1, 2, 33, 4, 4, 5}\n",
    "print(type(my_set), \"my_set = \", my_set)  # <class 'set'>\n",
    "\n",
    "# print(my_set[2]) #cannot access by indexing"
   ]
  },
  {
   "cell_type": "code",
   "execution_count": 49,
   "metadata": {},
   "outputs": [
    {
     "data": {
      "text/plain": [
       "4"
      ]
     },
     "execution_count": 49,
     "metadata": {},
     "output_type": "execute_result"
    }
   ],
   "source": [
    "dir(dict)\n",
    "len(my_card)"
   ]
  },
  {
   "cell_type": "code",
   "execution_count": 67,
   "metadata": {},
   "outputs": [
    {
     "name": "stdout",
     "output_type": "stream",
     "text": [
      "{'Umair': {'subject': 'Maths', 'score': 99}}\n",
      "{'subject': 'Maths', 'score': 99}\n",
      "99\n"
     ]
    }
   ],
   "source": [
    "my_info = {\n",
    "        \"Umair\" : \n",
    "{\n",
    "    \"subject\" : \"Maths\",\n",
    "    \"score\" : 99\n",
    "}\n",
    "    }\n",
    "\n",
    "print(my_info)\n",
    "print(my_info[\"Umair\"])\n",
    "print(my_info[\"Umair\"][\"score\"])"
   ]
  }
 ],
 "metadata": {
  "kernelspec": {
   "display_name": "Python 3",
   "language": "python",
   "name": "python3"
  },
  "language_info": {
   "codemirror_mode": {
    "name": "ipython",
    "version": 3
   },
   "file_extension": ".py",
   "mimetype": "text/x-python",
   "name": "python",
   "nbconvert_exporter": "python",
   "pygments_lexer": "ipython3",
   "version": "undefined.undefined.undefined"
  }
 },
 "nbformat": 4,
 "nbformat_minor": 2
}
