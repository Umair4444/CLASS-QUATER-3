{
 "cells": [
  {
   "cell_type": "markdown",
   "metadata": {},
   "source": [
    "# Conditions\n",
    "### if when condition is true and\n",
    "### else if condition is false "
   ]
  },
  {
   "cell_type": "code",
   "execution_count": 17,
   "metadata": {},
   "outputs": [
    {
     "data": {
      "text/plain": [
       "'Ali Jawwad'"
      ]
     },
     "execution_count": 17,
     "metadata": {},
     "output_type": "execute_result"
    }
   ],
   "source": [
    "user_input = input(\"What is your name?\").title()\n",
    "user_input"
   ]
  },
  {
   "cell_type": "code",
   "execution_count": 20,
   "metadata": {},
   "outputs": [
    {
     "name": "stdout",
     "output_type": "stream",
     "text": [
      "Yes, You can teach the class\n"
     ]
    }
   ],
   "source": [
    "if user_input == \"Umair\":\n",
    "    print(\"You are wwelcome to GIAIC Class\")\n",
    "elif user_input == \"Ali Jawwad\":\n",
    "    print(\"Yes, You can teach the class\")\n",
    "else:\n",
    "    print(\"You are not welcome \")"
   ]
  },
  {
   "cell_type": "markdown",
   "metadata": {},
   "source": [
    "## in\n",
    "## not in"
   ]
  },
  {
   "cell_type": "code",
   "execution_count": 21,
   "metadata": {},
   "outputs": [
    {
     "name": "stdout",
     "output_type": "stream",
     "text": [
      "food items\n"
     ]
    }
   ],
   "source": [
    "food_items = ['Biryani','kabab','Nihari']\n",
    "\n",
    "if 'Biryani' in food_items:\n",
    "    print('food items')"
   ]
  },
  {
   "cell_type": "code",
   "execution_count": 38,
   "metadata": {},
   "outputs": [
    {
     "name": "stdout",
     "output_type": "stream",
     "text": [
      "Maaza AAgaya!!\n"
     ]
    }
   ],
   "source": [
    "if ('Biryani' in food_items) and ('dal roti' not in food_items):\n",
    "    print('Maaza AAgaya!!')\n",
    "else:\n",
    "    print(\"Kuch bhi chala ga!\")    "
   ]
  },
  {
   "cell_type": "code",
   "execution_count": 39,
   "metadata": {},
   "outputs": [
    {
     "name": "stdout",
     "output_type": "stream",
     "text": [
      "hello\n"
     ]
    }
   ],
   "source": [
    "def greet():\n",
    "    print(\"hello\")\n",
    "\n",
    "greet()"
   ]
  },
  {
   "cell_type": "code",
   "execution_count": 55,
   "metadata": {},
   "outputs": [
    {
     "data": {
      "text/plain": [
       "5"
      ]
     },
     "execution_count": 55,
     "metadata": {},
     "output_type": "execute_result"
    }
   ],
   "source": [
    "def sum(num1:int,num2:int)->int:\n",
    "    return(num1 + num2)\n",
    "\n",
    "sum(1,4)"
   ]
  },
  {
   "cell_type": "code",
   "execution_count": 52,
   "metadata": {},
   "outputs": [
    {
     "name": "stdout",
     "output_type": "stream",
     "text": [
      "hello my name is Umair and email is umair@gmail.com\n",
      "hello my name is Umair and email is \n"
     ]
    }
   ],
   "source": [
    "def greet(name,email=\"\")->None:\n",
    "    print(f\"hello my name is {name} and email is {email}\")\n",
    "\n",
    "greet(\"Umair\" , \"umair@gmail.com\")\n",
    "greet(\"Umair\" )"
   ]
  }
 ],
 "metadata": {
  "kernelspec": {
   "display_name": "Python 3",
   "language": "python",
   "name": "python3"
  },
  "language_info": {
   "codemirror_mode": {
    "name": "ipython",
    "version": 3
   },
   "file_extension": ".py",
   "mimetype": "text/x-python",
   "name": "python",
   "nbconvert_exporter": "python",
   "pygments_lexer": "ipython3",
   "version": "3.12.5"
  }
 },
 "nbformat": 4,
 "nbformat_minor": 2
}
