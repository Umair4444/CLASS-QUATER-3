{
 "cells": [
  {
   "cell_type": "markdown",
   "id": "2eb028b2",
   "metadata": {},
   "source": [
    "# Topics Covered So Far\n",
    "\n",
    "* Variables\n",
    "* Daata Types\n",
    "* List\n",
    "* Tuples\n",
    "* Dict\n",
    "* Fuctions\n",
    "* Conditions\n",
    "* Operator\n"
   ]
  },
  {
   "cell_type": "markdown",
   "id": "cfeff6dd",
   "metadata": {},
   "source": [
    "# Today Topics\n",
    "* functions\n",
    "\n"
   ]
  },
  {
   "cell_type": "code",
   "execution_count": 11,
   "id": "1aa9c0b6",
   "metadata": {},
   "outputs": [
    {
     "data": {
      "text/plain": [
       "{'email': 'umair@gmial/com', 'password': 123}"
      ]
     },
     "execution_count": 11,
     "metadata": {},
     "output_type": "execute_result"
    }
   ],
   "source": [
    "def Login(email,password):\n",
    "    userinfo = {\n",
    "        \"email\" : email,\n",
    "        \"password\" : password\n",
    "    }\n",
    "    return userinfo\n",
    "    # print(userinfo)\n",
    "\n",
    "(Login(\"umair@gmial/com\",123))"
   ]
  },
  {
   "cell_type": "markdown",
   "id": "64912b04",
   "metadata": {},
   "source": [
    "* Keywords Arguments\n",
    "* Declare arguments in the forms of keywords (kwargs)\n",
    "\n"
   ]
  },
  {
   "cell_type": "code",
   "execution_count": null,
   "id": "e9097b28",
   "metadata": {},
   "outputs": [
    {
     "name": "stdout",
     "output_type": "stream",
     "text": [
      "name: Alice\n",
      "age: 25\n",
      "hobby: Reading\n",
      "staus: True\n"
     ]
    }
   ],
   "source": [
    "def print_details(**kwargs):\n",
    "    for key, value in kwargs.items():\n",
    "        print(f\"{key}: {value}\")\n",
    "\n",
    "print_details(name=\"Alice\", age=25, hobby=\"Reading\",staus=True)\n"
   ]
  },
  {
   "cell_type": "code",
   "execution_count": null,
   "id": "ba6cbe48",
   "metadata": {},
   "outputs": [
    {
     "data": {
      "text/plain": [
       "{'id': 1, 'email': 'ali@gmail.com', 'password': 12345, 'status': 'Idle'}"
      ]
     },
     "execution_count": 65,
     "metadata": {},
     "output_type": "execute_result"
    }
   ],
   "source": [
    "# keywwords arguments \n",
    "# sequence matter not\n",
    "# after * are keywords arguments and before are positional arguments\n",
    "# positional arguments are directly pass in the fuction and sequence matters\n",
    "\n",
    "def Login(id,*,email,password,status=\"Idle\"): # to avoid confusion\n",
    "    userinfo = {\n",
    "        \"id\" : id,\n",
    "        \"email\" : email,\n",
    "        \"password\" : password,\n",
    "        \"status\" : status\n",
    "    }\n",
    "    return userinfo\n",
    "    # print(userinfo)\n",
    "\n",
    "# (Login(1,email=\"ali@gmail.com\",password=12345,status=\"online\")) # in sequence\n",
    "# (Login(1,status=\"online\",email=\"ali@gmail.com\",password=12345)) # keywords are not in sequence\n",
    "(Login(1,email=\"ali@gmail.com\",password=12345)) # status is set to default\n"
   ]
  },
  {
   "cell_type": "code",
   "execution_count": null,
   "id": "233c4447",
   "metadata": {},
   "outputs": [
    {
     "name": "stdout",
     "output_type": "stream",
     "text": [
      "{'id': 1, 'email': 'ali@gmail.com', 'password': 12345, 'status': 'online'}\n",
      "{'id': 1, 'email': 'ali@gmail.com', 'password': 12345, 'status': 'online'}\n",
      "{'id': 1, 'email': 'ali@gmail.com', 'password': 12345, 'status': 'Idle'}\n"
     ]
    }
   ],
   "source": [
    "# keywwords arguments \n",
    "# sequence matter not\n",
    "# after * are keywords arguments and before are positional arguments\n",
    "# positional arguments are directly pass in the fuction and sequence matters\n",
    "\n",
    "def Login(id,email,password,status=\"Idle\"): # positional and keywords are not clear here\n",
    "    userinfo = {\n",
    "        \"id\" : id,\n",
    "        \"email\" : email,\n",
    "        \"password\" : password,\n",
    "        \"status\" : status\n",
    "    }\n",
    "    return userinfo\n",
    "    # print(userinfo)\n",
    "\n",
    "print((Login(1,email=\"ali@gmail.com\",password=12345,status=\"online\"))) # in sequence\n",
    "print((Login(1,status=\"online\",email=\"ali@gmail.com\",password=12345))) # keywords are not in sequence\n",
    "print((Login(1,email=\"ali@gmail.com\",password=12345))) # status is set to default\n"
   ]
  },
  {
   "cell_type": "markdown",
   "id": "e3ec3b1b",
   "metadata": {},
   "source": [
    "* \\* for unlimited arguments"
   ]
  },
  {
   "cell_type": "code",
   "execution_count": 127,
   "id": "c410b2fd",
   "metadata": {},
   "outputs": [],
   "source": [
    "def print_numbers(*args):\n",
    "    for num in args:\n",
    "        print(num , end=\", \")\n",
    "    \n",
    "    print(sum(num))\n",
    "\n",
    "    print(\"\\n---------------------\")\n",
    "    print(args)\n",
    "    print(type(args))\n",
    "    print(\"____________________\")\n",
    "    print(type(list(args)))\n",
    "    print(type(str(args)))\n",
    "    # print(type(int(args)))\n",
    "    print(type(bool(args)))\n",
    "    print(type(bool(args)))\n",
    "    print(bool(args))\n",
    "    print(type(args))\n",
    "\n",
    "# You can pass any number of arguments\n",
    "# print_numbers(1, 2, 3, 4, 5)  \n",
    "# print_numbers(*(1, 2, 3, 4, 5))  \n"
   ]
  },
  {
   "cell_type": "markdown",
   "id": "3cc1b0da",
   "metadata": {},
   "source": [
    "* \\* for unlimited keywords arguments"
   ]
  },
  {
   "cell_type": "code",
   "execution_count": 113,
   "id": "d3ed53d3",
   "metadata": {},
   "outputs": [
    {
     "name": "stdout",
     "output_type": "stream",
     "text": [
      "Printing ..... \n",
      "{'bitcoin': 1, 'etherum': 10, 'xlr': 20}\n",
      "<class 'dict'>\n"
     ]
    }
   ],
   "source": [
    "def Binance (**kwargs): # kwargs can be aany name\n",
    "    print (\"Printing ..... \")\n",
    "    print(kwargs)\n",
    "    print(type(kwargs))\n",
    "\n",
    "Binance(bitcoin=1,etherum=10,xlr=20)"
   ]
  },
  {
   "cell_type": "code",
   "execution_count": 111,
   "id": "d04ce3bc",
   "metadata": {},
   "outputs": [
    {
     "name": "stdout",
     "output_type": "stream",
     "text": [
      "{'coins': 100, 'idcards': 3, 'bill': 0}\n",
      "declared kwargs in arg 100\n",
      "dict_keys(['coins', 'idcards', 'bill'])\n",
      "<class 'dict_keys'>\n",
      "<class 'dict_values'>\n",
      "<class 'dict_items'>\n",
      "type of declared kwargs in arg <class 'int'>\n",
      "not declared in arg nil\n"
     ]
    }
   ],
   "source": [
    "def Wallet(**kwargs):\n",
    "    print(kwargs)\n",
    "    print(\"declared kwargs in arg\",kwargs[\"coins\"]) # print if declare in args\n",
    "    print(kwargs.keys())\n",
    "    print(type(kwargs.keys()))\n",
    "    print(type(kwargs.values()))\n",
    "    print(type(kwargs.items()))\n",
    "    print(\"type of declared kwargs in arg\",type(kwargs[\"coins\"])) # print if declare in args\n",
    "\n",
    "    print(\"not declared in arg\",kwargs.get(\"paper\",\"nil\")) # .get will show default if key is not declare\n",
    "Wallet(coins=100,idcards=3,bill=0)"
   ]
  },
  {
   "cell_type": "code",
   "execution_count": 129,
   "id": "76854744",
   "metadata": {},
   "outputs": [
    {
     "name": "stdout",
     "output_type": "stream",
     "text": [
      "Sir ALi\n"
     ]
    }
   ],
   "source": [
    "teacher_name : int = \"Sir ALi\"\n",
    "\n",
    "print(teacher_name)"
   ]
  },
  {
   "cell_type": "markdown",
   "id": "f144d5c7",
   "metadata": {},
   "source": [
    "* Just in time Compiler to check type checking\n",
    "* mypy\n"
   ]
  },
  {
   "cell_type": "code",
   "execution_count": null,
   "id": "69ba819c",
   "metadata": {},
   "outputs": [],
   "source": [
    "list = [1,2,3,4] # has time complexity\n",
    "list = (1,2)"
   ]
  },
  {
   "cell_type": "markdown",
   "id": "def8a418",
   "metadata": {},
   "source": [
    "variable is actually pointer"
   ]
  }
 ],
 "metadata": {
  "kernelspec": {
   "display_name": "python12",
   "language": "python",
   "name": "python3"
  },
  "language_info": {
   "codemirror_mode": {
    "name": "ipython",
    "version": 3
   },
   "file_extension": ".py",
   "mimetype": "text/x-python",
   "name": "python",
   "nbconvert_exporter": "python",
   "pygments_lexer": "ipython3",
   "version": "3.12.0"
  }
 },
 "nbformat": 4,
 "nbformat_minor": 5
}
