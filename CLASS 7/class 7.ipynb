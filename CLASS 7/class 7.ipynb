{
 "cells": [
  {
   "cell_type": "code",
   "execution_count": 90,
   "id": "ebce9a02",
   "metadata": {},
   "outputs": [
    {
     "data": {
      "text/plain": [
       "12"
      ]
     },
     "execution_count": 90,
     "metadata": {},
     "output_type": "execute_result"
    }
   ],
   "source": [
    "months : list = ['jan','feb','mar','apr','may','june','july','aug','sept','oct','nov','dec']\n",
    "months\n",
    "len(months)"
   ]
  },
  {
   "cell_type": "code",
   "execution_count": 91,
   "id": "5024fc15",
   "metadata": {},
   "outputs": [
    {
     "data": {
      "text/plain": [
       "['append',\n",
       " 'clear',\n",
       " 'copy',\n",
       " 'count',\n",
       " 'extend',\n",
       " 'index',\n",
       " 'insert',\n",
       " 'pop',\n",
       " 'remove',\n",
       " 'reverse',\n",
       " 'sort']"
      ]
     },
     "execution_count": 91,
     "metadata": {},
     "output_type": "execute_result"
    }
   ],
   "source": [
    "[i for i in dir(list) if \"__\" not in i ]"
   ]
  },
  {
   "cell_type": "code",
   "execution_count": 92,
   "id": "d48649d0",
   "metadata": {},
   "outputs": [
    {
     "data": {
      "text/plain": [
       "['jan',\n",
       " 'feb',\n",
       " 'mar',\n",
       " 'apr',\n",
       " 'may',\n",
       " 'june',\n",
       " 'july',\n",
       " 'aug',\n",
       " 'sept',\n",
       " 'oct',\n",
       " 'nov',\n",
       " 'dec']"
      ]
     },
     "execution_count": 92,
     "metadata": {},
     "output_type": "execute_result"
    }
   ],
   "source": [
    "months"
   ]
  },
  {
   "cell_type": "code",
   "execution_count": 93,
   "id": "ea93c349",
   "metadata": {},
   "outputs": [
    {
     "data": {
      "text/plain": [
       "['oct', 'nov', 'dec']"
      ]
     },
     "execution_count": 93,
     "metadata": {},
     "output_type": "execute_result"
    }
   ],
   "source": [
    "months[0:3]\n",
    "months[3:6]\n",
    "months[-3:]"
   ]
  },
  {
   "cell_type": "code",
   "execution_count": 94,
   "id": "fc18bda7",
   "metadata": {},
   "outputs": [
    {
     "data": {
      "text/plain": [
       "(11, 25, -35, 24, 95)"
      ]
     },
     "execution_count": 94,
     "metadata": {},
     "output_type": "execute_result"
    }
   ],
   "source": [
    "numbers:tuple = (11,25,-35,24,95)\n",
    "numbers"
   ]
  },
  {
   "cell_type": "code",
   "execution_count": 95,
   "id": "a0e4597c",
   "metadata": {},
   "outputs": [
    {
     "data": {
      "text/plain": [
       "-35"
      ]
     },
     "execution_count": 95,
     "metadata": {},
     "output_type": "execute_result"
    }
   ],
   "source": [
    "numbers[2]"
   ]
  },
  {
   "cell_type": "code",
   "execution_count": 96,
   "id": "64ea8d71",
   "metadata": {},
   "outputs": [
    {
     "data": {
      "text/plain": [
       "(-35, 24)"
      ]
     },
     "execution_count": 96,
     "metadata": {},
     "output_type": "execute_result"
    }
   ],
   "source": [
    "numbers[-3:-1]"
   ]
  },
  {
   "cell_type": "code",
   "execution_count": 97,
   "id": "a7fa5300",
   "metadata": {},
   "outputs": [],
   "source": [
    "# numbers [0] = 5 # immutable version of list"
   ]
  },
  {
   "cell_type": "code",
   "execution_count": 98,
   "id": "153c148a",
   "metadata": {},
   "outputs": [
    {
     "data": {
      "text/plain": [
       "[100, 25, -35, 24, 95]"
      ]
     },
     "execution_count": 98,
     "metadata": {},
     "output_type": "execute_result"
    }
   ],
   "source": [
    "temp = list( numbers)\n",
    "temp[0] = 100\n",
    "temp\n"
   ]
  },
  {
   "cell_type": "code",
   "execution_count": 99,
   "id": "14a6dc7e",
   "metadata": {},
   "outputs": [
    {
     "data": {
      "text/plain": [
       "(100, 25, -35, 24, 95)"
      ]
     },
     "execution_count": 99,
     "metadata": {},
     "output_type": "execute_result"
    }
   ],
   "source": [
    "numbers = tuple(temp)\n",
    "numbers"
   ]
  },
  {
   "cell_type": "code",
   "execution_count": 100,
   "id": "3c3eb881",
   "metadata": {},
   "outputs": [
    {
     "data": {
      "text/plain": [
       "{'product': ['iphone 14', 'macbook', 'dell alienware'],\n",
       " 'price': [100, 200, 400],\n",
       " 'total': 700}"
      ]
     },
     "execution_count": 100,
     "metadata": {},
     "output_type": "execute_result"
    }
   ],
   "source": [
    "shopping_list = {\n",
    "    \"product\" : ['iphone 14','macbook','dell alienware'],\n",
    "    'price' : [100,200,400],\n",
    "    'total' : 700\n",
    "}\n",
    "\n",
    "shopping_list\n"
   ]
  },
  {
   "cell_type": "code",
   "execution_count": 101,
   "id": "f6a7c3f5",
   "metadata": {},
   "outputs": [
    {
     "name": "stdout",
     "output_type": "stream",
     "text": [
      "product\n",
      "price\n",
      "total\n"
     ]
    }
   ],
   "source": [
    "for items in shopping_list:\n",
    "    print(items)"
   ]
  },
  {
   "cell_type": "code",
   "execution_count": 103,
   "id": "7da396b6",
   "metadata": {},
   "outputs": [
    {
     "name": "stdout",
     "output_type": "stream",
     "text": [
      "['iphone 14', 'macbook', 'dell alienware']\n",
      "[100, 200, 400]\n",
      "700\n"
     ]
    }
   ],
   "source": [
    "for items in shopping_list.values():\n",
    "    print(items)"
   ]
  },
  {
   "cell_type": "code",
   "execution_count": 104,
   "id": "06e62a6f",
   "metadata": {},
   "outputs": [
    {
     "name": "stdout",
     "output_type": "stream",
     "text": [
      "product\n",
      "price\n",
      "total\n"
     ]
    }
   ],
   "source": [
    "for items in shopping_list.keys():\n",
    "    print(items)"
   ]
  },
  {
   "cell_type": "code",
   "execution_count": 107,
   "id": "24f74c51",
   "metadata": {},
   "outputs": [
    {
     "name": "stdout",
     "output_type": "stream",
     "text": [
      "product ---- ['iphone 14', 'macbook', 'dell alienware']\n",
      "price ---- [100, 200, 400]\n",
      "total ---- 700\n"
     ]
    }
   ],
   "source": [
    "for key,val in shopping_list.items():\n",
    "    print(key ,\"----\", val)"
   ]
  },
  {
   "cell_type": "code",
   "execution_count": 108,
   "id": "50d0628f",
   "metadata": {},
   "outputs": [
    {
     "name": "stdout",
     "output_type": "stream",
     "text": [
      "1\n",
      "2\n",
      "3\n",
      "4\n",
      "5\n",
      "6\n",
      "7\n",
      "8\n",
      "9\n"
     ]
    }
   ],
   "source": [
    "for i in range(1,10):\n",
    "    print(i)"
   ]
  },
  {
   "cell_type": "code",
   "execution_count": 126,
   "id": "8811b359",
   "metadata": {},
   "outputs": [
    {
     "name": "stdout",
     "output_type": "stream",
     "text": [
      "2500\n"
     ]
    }
   ],
   "source": [
    "# r = range(2500, 5000)\n",
    "# for i in r:\n",
    "#     # print(len(r))  # Will print 2500 repeatedly\n",
    "#     print(i)\n",
    "\n",
    "print(len(range(2500, 5000)))  # ✅ Output: 2500\n",
    "\n"
   ]
  },
  {
   "cell_type": "code",
   "execution_count": 134,
   "id": "2259cda1",
   "metadata": {},
   "outputs": [
    {
     "data": {
      "text/plain": [
       "{'userId': 1,\n",
       " 'id': 5,\n",
       " 'title': 'laboriosam mollitia et enim quasi adipisci quia provident illum',\n",
       " 'completed': False}"
      ]
     },
     "metadata": {},
     "output_type": "display_data"
    },
    {
     "name": "stdout",
     "output_type": "stream",
     "text": [
      "Api finished\n",
      "Task completed\n"
     ]
    }
   ],
   "source": [
    "import requests\n",
    "\n",
    "try:\n",
    "    url = requests.get('https://jsonplaceholder.typicode.com/todos/5')\n",
    "    res = url.json()\n",
    "    display(res)\n",
    "except Exception as e:\n",
    "    print(\"Nothing getting\",e)\n",
    "else:\n",
    "    print(\"Api finished\")\n",
    "finally:\n",
    "    print(\"Task completed\")"
   ]
  }
 ],
 "metadata": {
  "kernelspec": {
   "display_name": "python12",
   "language": "python",
   "name": "python3"
  },
  "language_info": {
   "codemirror_mode": {
    "name": "ipython",
    "version": 3
   },
   "file_extension": ".py",
   "mimetype": "text/x-python",
   "name": "python",
   "nbconvert_exporter": "python",
   "pygments_lexer": "ipython3",
   "version": "3.12.0"
  }
 },
 "nbformat": 4,
 "nbformat_minor": 5
}
