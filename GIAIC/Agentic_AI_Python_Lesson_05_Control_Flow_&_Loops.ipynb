{
  "cells": [
    {
      "cell_type": "markdown",
      "metadata": {
        "id": "38_QpUXJOAII"
      },
      "source": [
        "<font color=\"#a9a56c\" size=2> **@Author: Arif Kasim Rozani - (Team Operation Badar)** </font>"
      ]
    },
    {
      "cell_type": "markdown",
      "metadata": {
        "id": "nje0wz3tM5ZI"
      },
      "source": [
        "# **Tutorial: Control Flow and Decision Making in Python**\n",
        "\n",
        "## **1. Introduction to Control Flow**\n",
        "\n",
        "Control flow refers to the order in which statements are executed in a program. In Python, decision-making is achieved using if, elif, and else statements, along with comparison and logical operators."
      ]
    },
    {
      "cell_type": "markdown",
      "metadata": {
        "id": "cdKktT4gNNgX"
      },
      "source": [
        "## **2. Comparison Operators**\n",
        "\n",
        "<font color=\"Green\" size=3> (Already done in Lesson 02) </font>\n",
        "\n",
        "Comparison operators are used to compare values and return True or False. Here are the most common ones:\n",
        "\n",
        "* == (equal to)\n",
        "* != &nbsp;(not equal to)\n",
        "* \\> &nbsp;&nbsp;(greater than)\n",
        "* < &nbsp;&nbsp;(less than)\n",
        "* \\>= (greater than or equal to)\n",
        "* <= (less than or equal to)\n",
        "\n",
        "<br>\n",
        "\n",
        "Example Code:"
      ]
    },
    {
      "cell_type": "code",
      "execution_count": null,
      "metadata": {
        "colab": {
          "base_uri": "https://localhost:8080/"
        },
        "id": "gUxrlEW-Mj--",
        "outputId": "0861f50f-3dba-4074-b8af-be23c7d7bac4"
      },
      "outputs": [
        {
          "name": "stdout",
          "output_type": "stream",
          "text": [
            "x == y =  False\n",
            "x != y =  True\n",
            "x > y  =  False\n",
            "x < y  =  True\n",
            "x >= y =  False\n",
            "x <= y =  True\n",
            "x <= y =  2.0\n"
          ]
        }
      ],
      "source": [
        "import math\n",
        "x: int = 10\n",
        "y: int = 20\n",
        "\n",
        "print(\"x == y = \", x == y)  # False\n",
        "print(\"x != y = \", x != y)  # True\n",
        "print(\"x > y  = \", x > y)   # False\n",
        "print(\"x < y  = \", x < y)   # True\n",
        "print(\"x >= y = \", x >= y)  # False\n",
        "print(\"x <= y = \", x <= y)  # True\n"
      ]
    },
    {
      "cell_type": "markdown",
      "metadata": {
        "id": "qGjQea4gOYZW"
      },
      "source": [
        "# **3. Logical Operators**\n",
        "\n",
        "<font color=\"Green\" size=3> (Already done in Lesson 02) </font>\n",
        "\n",
        "\n",
        "Logical operators combine multiple conditions:\n",
        "\n",
        "* and (True if both conditions are True)\n",
        "* or (True if at least one condition is True)\n",
        "* not (reverses the result of a condition)"
      ]
    },
    {
      "cell_type": "code",
      "execution_count": null,
      "metadata": {
        "colab": {
          "base_uri": "https://localhost:8080/"
        },
        "id": "Qh0hehGnOp3G",
        "outputId": "f8705e64-51fd-46c8-8619-9008feef4086"
      },
      "outputs": [
        {
          "name": "stdout",
          "output_type": "stream",
          "text": [
            "You are eligible for a student discount.\n"
          ]
        }
      ],
      "source": [
        "age: int = 25\n",
        "is_student: bool = True\n",
        "\n",
        "# Check if age is greater than 18 AND is_student is True\n",
        "if age > 18 and is_student:\n",
        "    print(\"You are eligible for a student discount.\")\n",
        "\n",
        "# Check if age is less than 12 OR greater than 60\n",
        "if age < 12 or age > 60:\n",
        "    print(\"You qualify for a special discount.\")\n",
        "\n",
        "# Check if the person is NOT a student\n",
        "if not is_student:\n",
        "    print(\"You are not a student.\")"
      ]
    },
    {
      "cell_type": "markdown",
      "metadata": {
        "id": "3mxsAIXFO9mV"
      },
      "source": [
        "# **4. The if Statement**\n",
        "\n",
        "The if statement is used to execute a block of code only if a condition is True.\n",
        "\n",
        "<br>\n",
        "\n",
        "Example Code:"
      ]
    },
    {
      "cell_type": "code",
      "execution_count": null,
      "metadata": {
        "colab": {
          "base_uri": "https://localhost:8080/"
        },
        "id": "P-Btma3SPEnV",
        "outputId": "bda53857-69ac-4374-bea3-d5467e39204c"
      },
      "outputs": [
        {
          "name": "stdout",
          "output_type": "stream",
          "text": [
            "The number is positive.\n"
          ]
        }
      ],
      "source": [
        "num: int = 10\n",
        "\n",
        "if num > 0:\n",
        "    print(\"The number is positive.\")"
      ]
    },
    {
      "cell_type": "markdown",
      "metadata": {
        "id": "OKk1YFpYPIrN"
      },
      "source": [
        "# **5. The else Statement**\n",
        "\n",
        "The else statement is used to execute a block of code if the if condition is False.\n",
        "\n",
        "<br>\n",
        "\n",
        "Example Code:"
      ]
    },
    {
      "cell_type": "code",
      "execution_count": null,
      "metadata": {
        "colab": {
          "base_uri": "https://localhost:8080/"
        },
        "id": "iVWOSzW5POk1",
        "outputId": "065c6cdf-54cc-4be9-f243-8a666faa187f"
      },
      "outputs": [
        {
          "name": "stdout",
          "output_type": "stream",
          "text": [
            "The number is not positive.\n"
          ]
        }
      ],
      "source": [
        "num: int = -5\n",
        "\n",
        "if num > 0:\n",
        "    print(\"The number is positive.\")\n",
        "else:\n",
        "    print(\"The number is not positive.\")"
      ]
    },
    {
      "cell_type": "markdown",
      "metadata": {
        "id": "xuBQJ3zqPWQF"
      },
      "source": [
        "# **6. The elif Statement**\n",
        "\n",
        "The elif statement is used to check multiple conditions. It stands for \"else if.\"\n",
        "<br>\n",
        "\n",
        "Example Code:"
      ]
    },
    {
      "cell_type": "code",
      "execution_count": null,
      "metadata": {
        "colab": {
          "base_uri": "https://localhost:8080/"
        },
        "id": "Nf2lpunmPePV",
        "outputId": "e15b689d-4a29-42ba-c7f8-1046ff6c6c3c"
      },
      "outputs": [
        {
          "name": "stdout",
          "output_type": "stream",
          "text": [
            "The number is zero.\n"
          ]
        }
      ],
      "source": [
        "num: int = 0\n",
        "\n",
        "if num > 0: # Program execution step# 1 if condition = False\n",
        "    print(\"The number is positive.\")\n",
        "elif num < 0: # Program execution step# 2 if condition = False\n",
        "    print(\"The number is negative.\")\n",
        "else: # Program execution step# 3 python will execute the else block\n",
        "    print(\"The number is zero.\")"
      ]
    },
    {
      "cell_type": "markdown",
      "metadata": {
        "id": "0VTvdL1wPjh1"
      },
      "source": [
        "# **7. Nested if Statements**\n",
        "\n",
        "if statements can be nested inside other if statements to check multiple conditions.\n",
        "\n",
        "<br>\n",
        "\n",
        "Example Code:"
      ]
    },
    {
      "cell_type": "code",
      "execution_count": null,
      "metadata": {
        "colab": {
          "base_uri": "https://localhost:8080/"
        },
        "id": "Fvyg6Zc2PsV0",
        "outputId": "4c5a09e4-d2cc-4041-aa05-e3eba1636ede"
      },
      "outputs": [
        {
          "name": "stdout",
          "output_type": "stream",
          "text": [
            "The number is positive and even.\n"
          ]
        }
      ],
      "source": [
        "num: int = 10\n",
        "#num: int = -10\n",
        "\n",
        "if num > 0: # check wather the number is positive or negative\n",
        "\n",
        "    if num % 2 == 0: # Modulus operator, remainder 0 = even_number,\n",
        "        print(\"The number is positive and even.\")\n",
        "    else: # remainder 1 = odd_number,\n",
        "        print(\"The number is positive and odd.\")\n",
        "\n",
        "else:\n",
        "    print(\"The number is negative.\")"
      ]
    },
    {
      "cell_type": "markdown",
      "metadata": {
        "id": "dz7WWYZcRf87"
      },
      "source": [
        "# **8. Practical Examples**\n",
        "\n",
        "Here are two practical examples to solidify these concepts.\n",
        "\n",
        "Example 1: Simple Calculator"
      ]
    },
    {
      "cell_type": "code",
      "execution_count": null,
      "metadata": {
        "colab": {
          "base_uri": "https://localhost:8080/"
        },
        "id": "UHsjLNQRRj1E",
        "outputId": "485f8ed7-b94c-4c3a-d552-5685554ca8f1"
      },
      "outputs": [
        {
          "name": "stdout",
          "output_type": "stream",
          "text": [
            "Enter the operation (+, -, *, /): +\n",
            "Enter the first number: 5.3\n",
            "Enter the second number: 2.0\n",
            "Result: 7.3\n"
          ]
        }
      ],
      "source": [
        "operation: str = input(\"Enter the operation (+, -, *, /): \")\n",
        "num1: float = float(input(\"Enter the first number: \"))\n",
        "num2: float = float(input(\"Enter the second number: \"))\n",
        "\n",
        "if operation == '+':\n",
        "    result = num1 + num2\n",
        "elif operation == '-':\n",
        "    result = num1 - num2\n",
        "elif operation == '*':\n",
        "    result = num1 * num2\n",
        "elif operation == '/':\n",
        "    if num2 != 0:\n",
        "        result = num1 / num2\n",
        "    else:\n",
        "        result = \"Error: Division by zero.\"\n",
        "else:\n",
        "    result = \"Invalid operation.\"\n",
        "\n",
        "print(\"Result:\", result)"
      ]
    },
    {
      "cell_type": "markdown",
      "metadata": {
        "id": "1wPmhW5cTkhp"
      },
      "source": [
        "<font color=\"#a83285\" size=5> From now onwards you will be seeing the power of Generative AI in our tutorial </font>"
      ]
    },
    {
      "cell_type": "code",
      "execution_count": null,
      "metadata": {
        "colab": {
          "base_uri": "https://localhost:8080/"
        },
        "id": "oWg8AtU8Rski",
        "outputId": "524dc042-0757-43dc-c045-7ff2fae638f2"
      },
      "outputs": [
        {
          "name": "stdout",
          "output_type": "stream",
          "text": [
            "Enter the operation (+, -, *, /, %, //, ** or 'q' to quit): **\n",
            "Enter the first number: 5\n",
            "Enter the second number: 2\n",
            "Result: 25.0\n",
            "Enter the operation (+, -, *, /, %, //, ** or 'q' to quit): q\n"
          ]
        }
      ],
      "source": [
        "# prompt: build a calculator which takes input from the user, beside basic functionality include modulus, floor division, Exponentiation\n",
        "\n",
        "def calculator():\n",
        "  \"\"\"\n",
        "  A calculator function that takes user input for numbers and operations,\n",
        "  including modulus, floor division, and exponentiation.\n",
        "  \"\"\"\n",
        "  while True:\n",
        "    operation = input(\"Enter the operation (+, -, *, /, %, //, ** or 'q' to quit): \")\n",
        "    if operation.lower() == 'q':\n",
        "      break\n",
        "    if operation not in ('+', '-', '*', '/', '%', '//', '**'):\n",
        "      print(\"Invalid operation.\")\n",
        "      continue\n",
        "\n",
        "    try:\n",
        "      num1 = float(input(\"Enter the first number: \"))\n",
        "      num2 = float(input(\"Enter the second number: \"))\n",
        "    except ValueError:\n",
        "      print(\"Invalid input. Please enter numbers only.\")\n",
        "      continue\n",
        "\n",
        "    if operation == '+':\n",
        "      result = num1 + num2\n",
        "    elif operation == '-':\n",
        "      result = num1 - num2\n",
        "    elif operation == '*':\n",
        "      result = num1 * num2\n",
        "    elif operation == '/':\n",
        "      if num2 != 0:\n",
        "        result = num1 / num2\n",
        "      else:\n",
        "        result = \"Error: Division by zero.\"\n",
        "        print(result)\n",
        "        continue\n",
        "    elif operation == '%':\n",
        "      result = num1 % num2\n",
        "    elif operation == '//':\n",
        "      if num2 != 0:\n",
        "        result = num1 // num2\n",
        "      else:\n",
        "        result = \"Error: Division by zero.\"\n",
        "        print(result)\n",
        "        continue\n",
        "    elif operation == '**':\n",
        "      result = num1 ** num2\n",
        "\n",
        "    print(\"Result:\", result)\n",
        "\n",
        "calculator()\n"
      ]
    },
    {
      "cell_type": "code",
      "execution_count": null,
      "metadata": {
        "colab": {
          "base_uri": "https://localhost:8080/"
        },
        "id": "sJNd7U_TTFmR",
        "outputId": "9949d3ab-480c-44f0-9674-53c20664f942"
      },
      "outputs": [
        {
          "name": "stdout",
          "output_type": "stream",
          "text": [
            "Enter the marks: 59\n",
            "The grade for 59.0 marks is: D\n"
          ]
        }
      ],
      "source": [
        "# prompt: generate a grading system for school which takes marks as an  input show grade according to the marks\n",
        "\n",
        "def grading_system(marks):\n",
        "  \"\"\"\n",
        "  This function takes marks as input and returns the corresponding grade.\n",
        "\n",
        "  Args:\n",
        "    marks: The marks obtained by the student.\n",
        "\n",
        "  Returns:\n",
        "    The grade corresponding to the marks.\n",
        "  \"\"\"\n",
        "  if marks >= 90:\n",
        "    grade = \"A+\"\n",
        "  elif marks >= 80:\n",
        "    grade = \"A\"\n",
        "  elif marks >= 70:\n",
        "    grade = \"B\"\n",
        "  elif marks >= 60:\n",
        "    grade = \"C\"\n",
        "  elif marks >= 50:\n",
        "    grade = \"D\"\n",
        "  else:\n",
        "    grade = \"F\"\n",
        "  return grade\n",
        "\n",
        "# Get marks as input from the user\n",
        "while True:\n",
        "  try:\n",
        "    marks = float(input(\"Enter the marks: \"))\n",
        "    if 0 <= marks <= 100:\n",
        "      break\n",
        "    else:\n",
        "      print(\"Marks must be between 0 and 100.\")\n",
        "  except ValueError:\n",
        "    print(\"Invalid input. Please enter a number.\")\n",
        "\n",
        "# Determine the grade\n",
        "grade = grading_system(marks)\n",
        "\n",
        "# Print the grade\n",
        "print(f\"The grade for {marks} marks is: {grade}\")\n"
      ]
    },
    {
      "cell_type": "markdown",
      "metadata": {
        "id": "owZCVAzMYXuk"
      },
      "source": [
        "# **Tutorial: Loops and Iteration in Python**\n",
        "\n",
        "## **1. Introduction to Loops**\n",
        "\n",
        "Loops are used to repeat a block of code multiple times. Python supports two types of loops:\n",
        "\n",
        "* for loops: Used to iterate over a sequence (e.g., lists, strings, or ranges).\n",
        "* while loops: Used to repeat a block of code as long as a condition is True.\n",
        "\n",
        "When to use scenario:\n",
        "\n",
        "  **A. For Loop:**\n",
        "\n",
        "  - **`Grading a class of students`**: You have a `list of 30 students` and you want to calculate the average score for each student. You use a `for` loop to iterate over the list of students and calculate the average score for each one.\n",
        "\n",
        "  - Washing Machine(number spins), Microwave Oven e.t.c.\n",
        "\n",
        "**B. While Loop:**\n",
        "\n",
        "  - **`Filling up a gas tank`**: You want to fill up your gas tank `until it's full.` You don't know how many times you'll need to fill up the tank, but you'll keep filling it up until it's full. You use a `while` loop to fill up the tank until it's full.\n",
        "\n",
        "  - Air Conditioner, Refigrator, Heater, Washing Machine(filling water) e.t.c."
      ]
    },
    {
      "cell_type": "markdown",
      "metadata": {
        "id": "YpIiRimQZNTz"
      },
      "source": [
        "## **2. The for Loop**\n",
        "\n",
        "The for loop iterates over a sequence (like a list, string, or range) and executes a block of code for each item `for a specified or fixed number of times`.\n",
        "\n",
        "Example Code:"
      ]
    },
    {
      "cell_type": "code",
      "execution_count": null,
      "metadata": {
        "colab": {
          "base_uri": "https://localhost:8080/"
        },
        "id": "EijmL3ZQZbGE",
        "outputId": "cf3e98bc-6297-48f6-a25c-5e00542e0365"
      },
      "outputs": [
        {
          "name": "stdout",
          "output_type": "stream",
          "text": [
            "apple\n",
            "banana\n",
            "cherry\n"
          ]
        }
      ],
      "source": [
        "# Iterate over a list\n",
        "fruits: list = [\"apple\", \"banana\", \"cherry\"]\n",
        "for fruit in fruits:\n",
        "    print(fruit)\n",
        "\n",
        "# Note: Membership Operators in Python in, not in"
      ]
    },
    {
      "cell_type": "code",
      "execution_count": null,
      "metadata": {
        "colab": {
          "base_uri": "https://localhost:8080/"
        },
        "id": "o7irFcDpcUJ6",
        "outputId": "344aa3be-4fae-431a-884c-6d8ee7e25f4c"
      },
      "outputs": [
        {
          "name": "stdout",
          "output_type": "stream",
          "text": [
            "P\n",
            "y\n",
            "t\n",
            "h\n",
            "o\n",
            "n\n"
          ]
        }
      ],
      "source": [
        "# Iterate over a string\n",
        "word: str = \"Python\"\n",
        "for letter in word:\n",
        "    print(letter)"
      ]
    },
    {
      "cell_type": "code",
      "execution_count": 9,
      "metadata": {},
      "outputs": [
        {
          "data": {
            "text/plain": [
              "['P', 'y', 't', 'h', 'o', 'n']"
            ]
          },
          "execution_count": 9,
          "metadata": {},
          "output_type": "execute_result"
        }
      ],
      "source": [
        "# Iterate over a string\n",
        "word: str = \"Python\"\n",
        "letter = [i for i in word]\n",
        "letter"
      ]
    },
    {
      "cell_type": "markdown",
      "metadata": {
        "id": "PrlehLuCazVL"
      },
      "source": [
        "<font color=\"Green\" size=3> In Lesson 01 we learned about range() </font>"
      ]
    },
    {
      "cell_type": "code",
      "execution_count": null,
      "metadata": {
        "colab": {
          "base_uri": "https://localhost:8080/"
        },
        "id": "5Tm1WArNafKD",
        "outputId": "38418418-6f0f-4236-a6b0-33b9b7fcdc24"
      },
      "outputs": [
        {
          "name": "stdout",
          "output_type": "stream",
          "text": [
            "0\n",
            "1\n",
            "2\n",
            "3\n",
            "4\n"
          ]
        }
      ],
      "source": [
        "# Print numbers from 0 to 4\n",
        "for i in range(5):\n",
        "    print(i)"
      ]
    },
    {
      "cell_type": "code",
      "execution_count": null,
      "metadata": {
        "colab": {
          "base_uri": "https://localhost:8080/"
        },
        "id": "F50qApdlcaa5",
        "outputId": "3c1391b8-0fd2-4efa-bbc1-0be35ff7b88a"
      },
      "outputs": [
        {
          "name": "stdout",
          "output_type": "stream",
          "text": [
            "2\n",
            "4\n",
            "6\n",
            "8\n",
            "10\n"
          ]
        }
      ],
      "source": [
        "# Print even numbers from 2 to 10\n",
        "for i in range(2, 11, 2):\n",
        "    print(i)"
      ]
    },
    {
      "cell_type": "markdown",
      "metadata": {
        "id": "e8oUU81zRdth"
      },
      "source": [
        "`_` (*underscore*) This is a **`throwaway variable`**, which is a common Python convention for a variable that you **`don't plan to use`**. In this case, the loop variable is not used within the loop, so it's assigned to `_`.\n",
        "\n",
        "If you want to use the loop variable, you can replace `_` with a more meaningful variable name. For example:"
      ]
    },
    {
      "cell_type": "code",
      "execution_count": 35,
      "metadata": {
        "colab": {
          "base_uri": "https://localhost:8080/"
        },
        "id": "IN8mIoFoRhAR",
        "outputId": "a793ec0c-da8b-43cb-8bb3-5a8695488e5b"
      },
      "outputs": [
        {
          "name": "stdout",
          "output_type": "stream",
          "text": [
            "Hello, World! Iteration\n",
            "Hello, World! Iteration\n",
            "Hello, World! Iteration\n",
            "Hello, World! Iteration\n",
            "Hello, World! Iteration\n",
            "Hello, World! Iteration\n",
            "Hello, World! Iteration\n",
            "Hello, World! Iteration\n",
            "Hello, World! Iteration\n",
            "Hello, World! Iteration\n",
            "[5, 3, 1]\n"
          ]
        }
      ],
      "source": [
        "for _ in range(10): # Just to show that _ is a loop variable, but its throwaway variable\n",
        "    # Code to be executed 100,000 times\n",
        "    # print(f\"Hello, World! Iteration { _ }\")\n",
        "    print(f\"Hello, World! Iteration\")\n",
        "\n",
        "i = range(5,0,-2)\n",
        "print(list(i))\n"
      ]
    },
    {
      "cell_type": "markdown",
      "metadata": {
        "id": "qUifWJgZbgNa"
      },
      "source": [
        "## **3. The while Loop**\n",
        "\n",
        "The while loop repeats a block of code `as long as a condition is True.`\n",
        "\n",
        "<br>\n",
        "\n",
        "Example Code:"
      ]
    },
    {
      "cell_type": "code",
      "execution_count": null,
      "metadata": {
        "colab": {
          "base_uri": "https://localhost:8080/"
        },
        "id": "nittGh5gbrx6",
        "outputId": "92435731-a983-484f-ec28-a17ca315168f"
      },
      "outputs": [
        {
          "name": "stdout",
          "output_type": "stream",
          "text": [
            "1\n",
            "2\n",
            "3\n",
            "4\n",
            "5\n"
          ]
        }
      ],
      "source": [
        "# Print numbers from 1 to 5\n",
        "count: int = 1\n",
        "while count <= 5:\n",
        "    print(count)\n",
        "    count += 1"
      ]
    },
    {
      "cell_type": "markdown",
      "metadata": {
        "id": "yHMeShp0b87i"
      },
      "source": [
        "## **4. Controlling Loops**\n",
        "\n",
        "Python provides two keywords (`break` & `continue`) to control loops:\n",
        "\n",
        "* **break**: `Exits` the loop immediately.\n",
        "* **continue**: `Skips` the rest of the code in the current iteration and moves to the next iteration.\n",
        "\n",
        "<br>\n",
        "\n",
        "\n",
        "Example Code:"
      ]
    },
    {
      "cell_type": "code",
      "execution_count": null,
      "metadata": {
        "colab": {
          "base_uri": "https://localhost:8080/"
        },
        "id": "BMXsZH8ocGLz",
        "outputId": "3aeb43ae-efb2-410e-dbee-70dc35977c36"
      },
      "outputs": [
        {
          "name": "stdout",
          "output_type": "stream",
          "text": [
            "0\n",
            "1\n",
            "2\n",
            "3\n",
            "4\n"
          ]
        }
      ],
      "source": [
        "# Break example\n",
        "for i in range(10):\n",
        "    if i == 5:\n",
        "        break\n",
        "    print(i)  # Prints 0, 1, 2, 3, 4"
      ]
    },
    {
      "cell_type": "code",
      "execution_count": null,
      "metadata": {},
      "outputs": [
        {
          "name": "stdout",
          "output_type": "stream",
          "text": [
            "1\n",
            "4\n",
            "7\n"
          ]
        }
      ],
      "source": [
        "# Break example\n",
        "for i in range(1,10,3):\n",
        "    if i == 5:\n",
        "        break\n",
        "    print(i)  # Prints 1,4,7"
      ]
    },
    {
      "cell_type": "code",
      "execution_count": null,
      "metadata": {
        "colab": {
          "base_uri": "https://localhost:8080/"
        },
        "id": "sNCH9A7jcfnB",
        "outputId": "2f819679-123f-41f2-d75a-a5ca2cb375f7"
      },
      "outputs": [
        {
          "name": "stdout",
          "output_type": "stream",
          "text": [
            "0\n",
            "1\n",
            "2\n",
            "4\n"
          ]
        }
      ],
      "source": [
        "# Continue example\n",
        "for i in range(5):\n",
        "    if i == 3:\n",
        "        continue\n",
        "    print(i)  # Prints 0, 1, 2, 4"
      ]
    },
    {
      "cell_type": "markdown",
      "metadata": {
        "id": "jzqau7uVeu2v"
      },
      "source": [
        "## **5. Nested Loops**\n",
        "\n",
        "### **What are nested loops?**\n",
        "\n",
        "Nested loops, also known as inner loops or nested iterations, refer to the process of placing one loop inside another loop. The inner loop will iterate through its entire cycle for each iteration of the outer loop.\n",
        "\n",
        "<br>\n",
        "\n",
        "\n",
        "### **Example Code:**"
      ]
    },
    {
      "cell_type": "code",
      "execution_count": null,
      "metadata": {
        "colab": {
          "base_uri": "https://localhost:8080/"
        },
        "id": "RRVuaE8Ye1dv",
        "outputId": "d4966dee-e7cf-4431-b4f7-5c11f070d7b4"
      },
      "outputs": [
        {
          "name": "stdout",
          "output_type": "stream",
          "text": [
            "Multiplication table for 1:\n",
            "1 * 1 = 1\n",
            "1 * 2 = 2\n",
            "1 * 3 = 3\n",
            "1 * 4 = 4\n",
            "1 * 5 = 5\n",
            "\n",
            "Multiplication table for 2:\n",
            "2 * 1 = 2\n",
            "2 * 2 = 4\n",
            "2 * 3 = 6\n",
            "2 * 4 = 8\n",
            "2 * 5 = 10\n",
            "\n",
            "Multiplication table for 3:\n",
            "3 * 1 = 3\n",
            "3 * 2 = 6\n",
            "3 * 3 = 9\n",
            "3 * 4 = 12\n",
            "3 * 5 = 15\n",
            "\n",
            "Multiplication table for 4:\n",
            "4 * 1 = 4\n",
            "4 * 2 = 8\n",
            "4 * 3 = 12\n",
            "4 * 4 = 16\n",
            "4 * 5 = 20\n",
            "\n",
            "Multiplication table for 5:\n",
            "5 * 1 = 5\n",
            "5 * 2 = 10\n",
            "5 * 3 = 15\n",
            "5 * 4 = 20\n",
            "5 * 5 = 25\n",
            "\n"
          ]
        }
      ],
      "source": [
        "# Multiplication table\n",
        "for outer in range(1, 6): # outer loop\n",
        "    print(f\"Multiplication table for {outer}:\")\n",
        "    for inner in range(1, 6): # nested inner loop\n",
        "        print(f\"{outer} * {inner} = {outer * inner}\")\n",
        "    print()  # Add a blank line after each row"
      ]
    },
    {
      "cell_type": "markdown",
      "metadata": {
        "id": "UUnJw84gxJof"
      },
      "source": [
        "**Use Cases for Nested Loops**\n",
        "\n",
        "Nested loops are useful in various scenarios, such as:\n",
        "\n",
        "1. **Matrix operations**: When working with matrices, you often need to iterate over each element in a two-dimensional array. Nested loops can help you achieve this.\n",
        "\n",
        "2. **Iterating over multiple lists**: If you have multiple lists and want to perform operations on each combination of elements, nested loops can be used.\n",
        "3. **Games and simulations**: Nested loops can be used to create game boards, simulate complex systems, or iterate over multiple levels of data.\n",
        "4. **Data processing**: When dealing with large datasets, nested loops can help you process and analyze the data by iterating over each element and performing operations.\n",
        "\n",
        "**Best Practices for Using Nested Loops**\n",
        "\n",
        "While nested loops can be powerful, it's essential to use them wisely to avoid performance issues and improve readability:\n",
        "\n",
        "1. **Minimize nesting**: Try to limit the number of nested loops to three levels or less, as excessive nesting can lead to performance degradation and decreased readability.\n",
        "\n",
        "2. **Use meaningful variable names**: Use clear and descriptive variable names to help distinguish between the outer and inner loops.\n",
        "3. **Optimize loop conditions**: Ensure that the loop conditions are optimized to minimize unnecessary iterations.\n"
      ]
    },
    {
      "cell_type": "markdown",
      "metadata": {
        "id": "A9-H8UiDfX0_"
      },
      "source": [
        "## **6. Practical Examples**\n",
        "\n",
        "Here are two practical examples to solidify these concepts.\n",
        "\n",
        "<br>\n",
        "\n",
        "**Example 1**: Sum of Numbers"
      ]
    },
    {
      "cell_type": "code",
      "execution_count": 38,
      "metadata": {
        "colab": {
          "base_uri": "https://localhost:8080/"
        },
        "id": "WoCMtfLefeo-",
        "outputId": "4625ce81-08cd-431c-fcc7-7f19c490c1eb"
      },
      "outputs": [
        {
          "name": "stdout",
          "output_type": "stream",
          "text": [
            "Sum of numbers from 1 to 100: 5050\n"
          ]
        }
      ],
      "source": [
        "# Sum numbers from 1 to 100\n",
        "total: int = 0\n",
        "for i in range(1, 101):\n",
        "    total += i\n",
        "print(\"Sum of numbers from 1 to 100:\", total)"
      ]
    },
    {
      "cell_type": "markdown",
      "metadata": {
        "id": "drUiYA7jfjWW"
      },
      "source": [
        "**Example 2**: Finding Factors of a Number"
      ]
    },
    {
      "cell_type": "code",
      "execution_count": null,
      "metadata": {
        "colab": {
          "base_uri": "https://localhost:8080/"
        },
        "id": "RsuhaHi_fk0X",
        "outputId": "b93fced1-44f9-4f58-936b-1e136b227229"
      },
      "outputs": [
        {
          "name": "stdout",
          "output_type": "stream",
          "text": [
            "Factors of 24: [1, 2, 3, 4, 6, 8, 12, 24]\n"
          ]
        }
      ],
      "source": [
        "# Find factors of a number\n",
        "num: int = 24\n",
        "factors = []\n",
        "for i in range(1, num + 1):\n",
        "    if num % i == 0:\n",
        "        factors.append(i)\n",
        "print(f\"Factors of {num}: {factors}\")"
      ]
    }
  ],
  "metadata": {
    "colab": {
      "provenance": []
    },
    "kernelspec": {
      "display_name": "Python 3",
      "name": "python3"
    },
    "language_info": {
      "codemirror_mode": {
        "name": "ipython",
        "version": 3
      },
      "file_extension": ".py",
      "mimetype": "text/x-python",
      "name": "python",
      "nbconvert_exporter": "python",
      "pygments_lexer": "ipython3",
      "version": "3.13.2"
    }
  },
  "nbformat": 4,
  "nbformat_minor": 0
}
