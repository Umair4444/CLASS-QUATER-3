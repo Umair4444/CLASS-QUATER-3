{
  "cells": [
    {
      "cell_type": "markdown",
      "metadata": {
        "id": "38_QpUXJOAII"
      },
      "source": [
        "<font color=\"#a9a56c\" size=2> **@Author: Arif Kasim Rozani - (Team Operation Badar)** </font>"
      ]
    },
    {
      "cell_type": "markdown",
      "metadata": {
        "id": "ElzHttv1PQ6O"
      },
      "source": [
        "# **The Set Data Type**\n",
        "----\n",
        "\n",
        "Set is one of `4 built-in data types` in Python used to store collections of data, the other 3 are **`List, Tuple, and Dictionary`**, all with different qualities and usage.\n",
        "\n",
        "A set is:\n",
        "  - **unordered**\n",
        "  - **unchangeable**\n",
        "  - **unindexed**\n",
        "\n",
        "An object cannot appear more than once in a set, whereas in List and Tuple, same object can appear more than once.\n",
        "\n"
      ]
    },
    {
      "cell_type": "code",
      "execution_count": null,
      "metadata": {
        "colab": {
          "base_uri": "https://localhost:8080/"
        },
        "id": "ZvbT0hJ-LADm",
        "outputId": "c3ceb938-526a-4b0c-edd9-3ce8c999431e"
      },
      "outputs": [
        {
          "name": "stdout",
          "output_type": "stream",
          "text": [
            "my_set            =  {123, 452, 5, 6}\n",
            "my_set2           =  {123, 452, 5, 6}\n",
            "type(my_set)      =  <class 'set'>\n",
            "type(my_set2)     =  <class 'set'>\n",
            "my_set == my_set2 =  True\n"
          ]
        }
      ],
      "source": [
        "my_set: set = {123, 452, 5, 6}\n",
        "my_set2: set = set([123, 452, 5, 6])\n",
        "print(\"my_set            = \", my_set)\n",
        "print(\"my_set2           = \", my_set2)\n",
        "print(\"type(my_set)      = \", type(my_set))\n",
        "print(\"type(my_set2)     = \", type(my_set2))\n",
        "print(\"my_set == my_set2 = \", my_set == my_set2)"
      ]
    },
    {
      "cell_type": "markdown",
      "metadata": {
        "id": "pNhsvX1LUZb4"
      },
      "source": [
        "###Holds only Immutable Objects\n",
        "----\n",
        "\n",
        "A set can store only immutable objects such as number `(int, float, complex or bool), string or tuple`. If you try to put a *list or a dictionary* in the set collection, Python raises a TypeError."
      ]
    },
    {
      "cell_type": "markdown",
      "metadata": {
        "id": "q0VvZmJKMvIq"
      },
      "source": [
        "Lets check set if it can hold mutable object like **`list[]`**"
      ]
    },
    {
      "cell_type": "code",
      "execution_count": null,
      "metadata": {
        "colab": {
          "base_uri": "https://localhost:8080/",
          "height": 158
        },
        "id": "WGtIbCgjMk67",
        "outputId": "d59fb20f-fa70-445d-88d5-c887313dbb10"
      },
      "outputs": [
        {
          "ename": "TypeError",
          "evalue": "unhashable type: 'list'",
          "output_type": "error",
          "traceback": [
            "\u001b[0;31m---------------------------------------------------------------------------\u001b[0m",
            "\u001b[0;31mTypeError\u001b[0m                                 Traceback (most recent call last)",
            "\u001b[0;32m<ipython-input-33-7d7d29830862>\u001b[0m in \u001b[0;36m<cell line: 0>\u001b[0;34m()\u001b[0m\n\u001b[0;32m----> 1\u001b[0;31m \u001b[0mmy_set\u001b[0m \u001b[0;34m=\u001b[0m \u001b[0;34m{\u001b[0m\u001b[0;34m[\u001b[0m\u001b[0;36m123\u001b[0m\u001b[0;34m,\u001b[0m \u001b[0;36m452\u001b[0m\u001b[0;34m,\u001b[0m \u001b[0;36m5\u001b[0m\u001b[0;34m,\u001b[0m \u001b[0;36m6\u001b[0m\u001b[0;34m]\u001b[0m\u001b[0;34m}\u001b[0m \u001b[0;31m# TypeError: unhashable type: 'list'\u001b[0m\u001b[0;34m\u001b[0m\u001b[0;34m\u001b[0m\u001b[0m\n\u001b[0m\u001b[1;32m      2\u001b[0m \u001b[0mprint\u001b[0m\u001b[0;34m(\u001b[0m\u001b[0mmy_set\u001b[0m\u001b[0;34m)\u001b[0m\u001b[0;34m\u001b[0m\u001b[0;34m\u001b[0m\u001b[0m\n",
            "\u001b[0;31mTypeError\u001b[0m: unhashable type: 'list'"
          ]
        }
      ],
      "source": [
        "my_set = {[123, 452, 5, 6]} # TypeError: unhashable type: 'list'\n",
        "print(my_set)"
      ]
    },
    {
      "cell_type": "markdown",
      "metadata": {
        "id": "jYalnGVrNQUJ"
      },
      "source": [
        "### It can hold multiple data types at once."
      ]
    },
    {
      "cell_type": "code",
      "execution_count": null,
      "metadata": {
        "colab": {
          "base_uri": "https://localhost:8080/"
        },
        "id": "2bMzW0h4U4XY",
        "outputId": "dcdaa4bb-5cc9-4e19-a7f6-3f7c3f3c79ef"
      },
      "outputs": [
        {
          "name": "stdout",
          "output_type": "stream",
          "text": [
            "{False, True, 7, 9.0, 'Hello! World', (1, 5, 9, 'hi')}\n"
          ]
        }
      ],
      "source": [
        "multi_type_set: set = {7, 9.0, False, True, \"Hello! World\", (1,5,9,'hi') }\n",
        "print(multi_type_set)"
      ]
    },
    {
      "cell_type": "markdown",
      "metadata": {
        "id": "-CiR-y34SQGa"
      },
      "source": [
        "##The set is **unordered**\n",
        "----\n",
        "Note that items in the set collection may not follow the same order in which they are entered. The position of items is optimized by Python to perform operations over set as defined in mathematics.\n"
      ]
    },
    {
      "cell_type": "code",
      "execution_count": null,
      "metadata": {
        "colab": {
          "base_uri": "https://localhost:8080/"
        },
        "id": "TPR9EMVQSXLh",
        "outputId": "f65e8735-3531-43f5-cca9-86b494c7c846"
      },
      "outputs": [
        {
          "name": "stdout",
          "output_type": "stream",
          "text": [
            "{'Java', 'java', 'Python', 'JavaScript'}\n"
          ]
        }
      ],
      "source": [
        "set2: set = {'Java', 'Python', 'JavaScript', 'java'}\n",
        "print(set2)"
      ]
    },
    {
      "cell_type": "markdown",
      "metadata": {
        "id": "K8c6VAYLbhej"
      },
      "source": [
        "\"*Python sets are unordered collections, but internally, elements are stored based on their hash values. However, this internal structure is not predictable or stable across operations*\".\n",
        "\n",
        "We will dive in to the details of hashing later in this tutorial."
      ]
    },
    {
      "cell_type": "markdown",
      "metadata": {
        "id": "znyxviVbXwq0"
      },
      "source": [
        "##The set is **Unchangeable**\n",
        "----\n",
        "When we say that set items are unchangeable, it means that you cannot modify an individual item in a set directly. However, you can add or remove items from the set.\n",
        "\n",
        "Here is an example to illustrate this concept:\n",
        "\n",
        "```python\n",
        "# Create a set\n",
        "my_set: set = {1, 2, 3, 4, 5}\n",
        "print(my_set)  # Output: {1, 2, 3, 4, 5}\n",
        "\n",
        "# Try to change an item (this will raise an error)\n",
        "try:\n",
        "    my_set[0] = 10  # Sets are unordered, so indexing doesn't work\n",
        "except TypeError as e:\n",
        "    print(e)  # Output: 'set' object does not support item assignment\n",
        "```\n",
        "\n",
        "  - set's are unordered, so indexing doesn't work ~my_set[0]~\n",
        "  - set object does not support item assignment ~my_set[0] = 10~"
      ]
    },
    {
      "cell_type": "code",
      "execution_count": null,
      "metadata": {
        "colab": {
          "base_uri": "https://localhost:8080/"
        },
        "id": "zjayfy8bcm9y",
        "outputId": "eca20c4c-246d-42b3-8fc6-e643c867168e"
      },
      "outputs": [
        {
          "name": "stdout",
          "output_type": "stream",
          "text": [
            "{1, 2, 3, 4, 5}\n",
            "*TypeError*  ABC :  'set' object does not support item assignment\n",
            "Program execution continues as normal because we handle the error condition in try except block\n"
          ]
        }
      ],
      "source": [
        "# Create a set\n",
        "my_set: set = {1, 2, 3, 4, 5}\n",
        "print(my_set)  # Output: {1, 2, 3, 4, 5}\n",
        "\n",
        "# Try to change an item (this will raise an error)\n",
        "try:\n",
        "    my_set[0] = 10  # Sets are unordered, so indexing doesn't work\n",
        "except TypeError as e:\n",
        "    print(\"*TypeError*  ABC : \", e)  # Output: 'set' object does not support item assignment\n",
        "\n",
        "print(\"Program execution continues as normal because we handle the error condition in try except block\")"
      ]
    },
    {
      "cell_type": "markdown",
      "metadata": {
        "id": "DqSz0CaqdJ5I"
      },
      "source": [
        "As you can see, you can't change an individual item in a set directly. Instead, you can remove the item and add a new one with the updated value. Alternatively, you can use the `discard()` or `remove()` methods to remove items and the `add()` or `update()` methods to add new items."
      ]
    },
    {
      "cell_type": "code",
      "execution_count": 9,
      "metadata": {
        "colab": {
          "base_uri": "https://localhost:8080/"
        },
        "id": "7lCgxTR6dPyI",
        "outputId": "1eefa743-229c-4df2-db23-abb938894e42"
      },
      "outputs": [
        {
          "name": "stdout",
          "output_type": "stream",
          "text": [
            "{1, 2, 3, 4, 5, 'A', 'a'}\n",
            "{1, 2, 4, 5, 'a'}\n"
          ]
        }
      ],
      "source": [
        "my_set: set = {1, 2, 3, 4, 5, 'A', 'a'}\n",
        "print(my_set)\n",
        "# Remove an item\n",
        "my_set.remove(3)\n",
        "my_set.remove('A')\n",
        "# my_set.remove('z') # error if not found\n",
        "print(my_set)  # Output: {1, 2, 4, 5}"
      ]
    },
    {
      "cell_type": "code",
      "execution_count": null,
      "metadata": {
        "colab": {
          "base_uri": "https://localhost:8080/"
        },
        "id": "zl0x_zEJdgJ4",
        "outputId": "3aaf3ae6-c4d0-4ea3-b7b9-4e7d8e562e3c"
      },
      "outputs": [
        {
          "name": "stdout",
          "output_type": "stream",
          "text": [
            "{1, 2, 4, 5, 6, 'a'}\n"
          ]
        }
      ],
      "source": [
        "my_set.add(6)\n",
        "print(my_set)  # Output: {1, 2, 4, 5, 6}"
      ]
    },
    {
      "cell_type": "code",
      "execution_count": 6,
      "metadata": {
        "colab": {
          "base_uri": "https://localhost:8080/"
        },
        "id": "SoPzoq0W5sjd",
        "outputId": "92d805c1-35d2-42b5-ba8e-df85a06df87f"
      },
      "outputs": [
        {
          "name": "stdout",
          "output_type": "stream",
          "text": [
            "my_set =  {1, 2, 3, 4, 5, 'A', 'a'}\n",
            "line 2 None\n",
            "After: my_set =  {2, 3, 4, 5, 'A', 'a'}\n",
            "After removing multiple elements: my_set =  {4, 5, 'A', 'a'}\n"
          ]
        }
      ],
      "source": [
        "my_set: set = {1, 2, 3, 4, 5, 'A', 'a'}\n",
        "print(\"my_set = \", my_set)\n",
        "\n",
        "# discard() only removes a single element.\n",
        "# {1, 2, 3} is a set itself, not an element within my_set.\n",
        "# Therefore, discard does not find it and returns None, without modifying the set.\n",
        "# print(\"line 2\",my_set.discard({1,2,3})) # dict is not in my set\n",
        "# print(\"line 2\",my_set.discard(1,2)) # don't alllow multiple item\n",
        "print(\"line 2\",my_set.discard(1)) # allow single item only\n",
        "\n",
        "print(\"After: my_set = \", my_set) # return None\n",
        "\n",
        "# To remove multiple elements, iterate and discard each one individually:\n",
        "for item in {1, 2, 3}:\n",
        "    my_set.discard(item)\n",
        "\n",
        "print(\"After removing multiple elements: my_set = \", my_set)"
      ]
    },
    {
      "cell_type": "markdown",
      "metadata": {
        "id": "wPaPLpITST1Q"
      },
      "source": [
        "**Use difference_update() method to remove multiple element at once.**"
      ]
    },
    {
      "cell_type": "code",
      "execution_count": 33,
      "metadata": {
        "colab": {
          "base_uri": "https://localhost:8080/"
        },
        "id": "SwwadfPUd1lH",
        "outputId": "9b8cf8bc-5e1b-46d8-8ddc-7fc97a75c2e4"
      },
      "outputs": [
        {
          "name": "stdout",
          "output_type": "stream",
          "text": [
            "Before: my_set =  {1, 2, 3, 4, 5, 'A', 'a'}\n",
            "After:  my_set =  {2, 4, 'a'}\n"
          ]
        }
      ],
      "source": [
        "my_set: set = {1, 2, 3, 4, 5, 'A', 'a'}\n",
        "print(\"Before: my_set = \", my_set)\n",
        "my_set.difference_update({1, 5, 3, 'A','z'})\n",
        "print(\"After:  my_set = \", my_set)\n",
        "\n"
      ]
    },
    {
      "cell_type": "code",
      "execution_count": null,
      "metadata": {
        "colab": {
          "base_uri": "https://localhost:8080/"
        },
        "id": "oreM1Nu7d5UH",
        "outputId": "58f65f97-63d7-4d7a-c9f4-0b9a0c5180a1"
      },
      "outputs": [
        {
          "name": "stdout",
          "output_type": "stream",
          "text": [
            "Before:  {2, 4, 'a'}\n",
            "{2, 4, 'Hello', 7, 8, 9, 'a'}\n"
          ]
        }
      ],
      "source": [
        "print(\"Before: \", my_set)\n",
        "# Add multiple items\n",
        "my_set.update([7, 8, 9, \"Hello\"])\n",
        "print(my_set)  # Output: {4, 5, 6, 7, 8, 9}"
      ]
    },
    {
      "cell_type": "markdown",
      "metadata": {
        "id": "HwbXiIUKVBMB"
      },
      "source": [
        "**Using the union() method or | operator:**\n",
        "\n",
        "In Python, the `union()` method or the `|` operator is used to combine two sets into a single set. This operation returns a new set containing all unique elements from both sets.\n",
        "\n",
        "**Using the union() method:**\n",
        "\n",
        "The `union()` method is a built-in method of the set data type in Python. It takes an iterable (such as a set, list, or tuple) as an argument and returns a new set containing all unique elements from both the original set and the iterable."
      ]
    },
    {
      "cell_type": "code",
      "execution_count": null,
      "metadata": {
        "colab": {
          "base_uri": "https://localhost:8080/"
        },
        "id": "BvIyS7tqTAS0",
        "outputId": "d96c4599-9115-48ea-b866-3091649e1785"
      },
      "outputs": [
        {
          "name": "stdout",
          "output_type": "stream",
          "text": [
            "{1, 2, 3, 5, 6, 7}\n"
          ]
        }
      ],
      "source": [
        "my_set: set   = {1, 2, 3, 5}\n",
        "my_set_2: set = {1, 5, 6, 7}\n",
        "\n",
        "my_set3: set  = my_set.union(my_set_2)\n",
        "print(my_set3)"
      ]
    },
    {
      "cell_type": "markdown",
      "metadata": {
        "id": "EqFciQpGRgGC"
      },
      "source": [
        "**Using the | operator:**\n",
        "\n",
        "The `|` operator is a binary operator that can be used to combine two sets into a single set. It has the same effect as the `union()` method, but is often more concise and readable."
      ]
    },
    {
      "cell_type": "code",
      "execution_count": null,
      "metadata": {
        "colab": {
          "base_uri": "https://localhost:8080/"
        },
        "id": "NOSJg-BXU4zC",
        "outputId": "f6812508-b5b2-413f-ccc1-ed24b1913e63"
      },
      "outputs": [
        {
          "name": "stdout",
          "output_type": "stream",
          "text": [
            "{1, 2, 3, 5, 6, 7}\n"
          ]
        }
      ],
      "source": [
        "my_set: set   = {1, 2, 3, 5}\n",
        "my_set_2: set = {1, 5, 6, 7}\n",
        "\n",
        "my_set3: set  = my_set | my_set_2 # | operator\n",
        "print(my_set3)"
      ]
    },
    {
      "cell_type": "markdown",
      "metadata": {
        "id": "B8lh8_vERqRS"
      },
      "source": [
        "**Key aspects of union() and | operator:**\n",
        "\n",
        "1. **Unique elements**: The resulting set contains only unique elements from both sets.\n",
        "\n",
        "2. **Order does not matter**: The order in which the sets are combined does not affect the result.\n",
        "3. **Original sets remain unchanged**: The original sets are not modified by the union operation."
      ]
    },
    {
      "cell_type": "markdown",
      "metadata": {
        "id": "UOcDC2vLeiZo"
      },
      "source": [
        "### **Unique Elements**\n",
        "----\n",
        "\n",
        "Note that sets only store unique elements, so if you try to add a duplicate item, it will be ignored. For example:"
      ]
    },
    {
      "cell_type": "code",
      "execution_count": null,
      "metadata": {
        "colab": {
          "base_uri": "https://localhost:8080/"
        },
        "id": "xBRG0FQKeyWv",
        "outputId": "bec345a6-ce39-4da5-99d6-99803ee9355d"
      },
      "outputs": [
        {
          "name": "stdout",
          "output_type": "stream",
          "text": [
            "Before :  {1, 2, 3, 4, 5, 'Hello! World'}\n",
            "After  :  {1, 2, 3, 4, 5, 'Hello! World'}\n"
          ]
        }
      ],
      "source": [
        "my_set: set = {1,2,3,4,5, \"Hello! World\"}\n",
        "print(\"Before : \", my_set)\n",
        "\n",
        "my_set.add(2)\n",
        "my_set.add(\"Hello! World\")\n",
        "\n",
        "print(\"After  : \", my_set)"
      ]
    },
    {
      "cell_type": "markdown",
      "metadata": {
        "id": "wAWDfdPsgPI2"
      },
      "source": [
        "`discard()` and `remove()` methods\n",
        "----\n",
        "In Python, both `discard()` and `remove()` methods are used to remove items from a set. However, there is a key difference between the two methods:\n",
        "\n",
        "1. **`remove()` method:**\n",
        "   - The `remove()` method removes the specified item from the set.\n",
        "   - If the item is not found in the set, it raises a `KeyError`.\n",
        "   - This method is suitable when you are sure that the item exists in the set.\n",
        "\n",
        "2. **`discard()` method:**\n",
        "   - The `discard()` method also removes the specified item from the set.\n",
        "   - However, if the item is not found in the set, it does not raise any error. It simply does nothing.\n",
        "   - This method is suitable when you are not sure if the item exists in the set.\n",
        "\n",
        "Here's an example to illustrate the difference:"
      ]
    },
    {
      "cell_type": "code",
      "execution_count": null,
      "metadata": {
        "colab": {
          "base_uri": "https://localhost:8080/",
          "height": 193
        },
        "id": "Ue5ljHYDgjIu",
        "outputId": "eeee39c3-ae4c-4eb4-f336-4b0c2d4b908e"
      },
      "outputs": [
        {
          "ename": "KeyError",
          "evalue": "4",
          "output_type": "error",
          "traceback": [
            "\u001b[0;31m---------------------------------------------------------------------------\u001b[0m",
            "\u001b[0;31mKeyError\u001b[0m                                  Traceback (most recent call last)",
            "\u001b[0;32m<ipython-input-35-bb3f2e8ccea7>\u001b[0m in \u001b[0;36m<cell line: 0>\u001b[0;34m()\u001b[0m\n\u001b[1;32m      2\u001b[0m \u001b[0mmy_set\u001b[0m\u001b[0;34m:\u001b[0m \u001b[0mset\u001b[0m \u001b[0;34m=\u001b[0m \u001b[0;34m{\u001b[0m\u001b[0;36m1\u001b[0m\u001b[0;34m,\u001b[0m\u001b[0;36m2\u001b[0m\u001b[0;34m,\u001b[0m\u001b[0;36m3\u001b[0m\u001b[0;34m}\u001b[0m\u001b[0;34m\u001b[0m\u001b[0;34m\u001b[0m\u001b[0m\n\u001b[1;32m      3\u001b[0m \u001b[0;34m\u001b[0m\u001b[0m\n\u001b[0;32m----> 4\u001b[0;31m \u001b[0mmy_set\u001b[0m\u001b[0;34m.\u001b[0m\u001b[0mremove\u001b[0m\u001b[0;34m(\u001b[0m\u001b[0;36m4\u001b[0m\u001b[0;34m)\u001b[0m\u001b[0;34m\u001b[0m\u001b[0;34m\u001b[0m\u001b[0m\n\u001b[0m\u001b[1;32m      5\u001b[0m \u001b[0mprint\u001b[0m\u001b[0;34m(\u001b[0m\u001b[0mmy_set\u001b[0m\u001b[0;34m)\u001b[0m\u001b[0;34m\u001b[0m\u001b[0;34m\u001b[0m\u001b[0m\n",
            "\u001b[0;31mKeyError\u001b[0m: 4"
          ]
        }
      ],
      "source": [
        "# Lets create an error to understand\n",
        "my_set: set = {1,2,3}\n",
        "\n",
        "my_set.remove(4)\n",
        "print(my_set)"
      ]
    },
    {
      "cell_type": "code",
      "execution_count": null,
      "metadata": {
        "colab": {
          "base_uri": "https://localhost:8080/"
        },
        "id": "x2jBVHOFU-_f",
        "outputId": "80ad7ad6-1a22-4344-d4ea-d7da6aa98c07"
      },
      "outputs": [
        {
          "name": "stdout",
          "output_type": "stream",
          "text": [
            "Before pop() =  {2, 3}\n",
            "Before pop() =  {3}\n"
          ]
        }
      ],
      "source": [
        "print(\"Before pop() = \", my_set)\n",
        "\n",
        "#When you call `my_set.pop()`, it removes and returns an arbitrary element from the set.\n",
        "#Since sets are unordered data structures, the element that is removed and returned is not predictable.\n",
        "my_set.pop()\n",
        "print(\"Before pop() = \", my_set)\n"
      ]
    },
    {
      "cell_type": "code",
      "execution_count": null,
      "metadata": {
        "colab": {
          "base_uri": "https://localhost:8080/"
        },
        "id": "HQsESdqyg6Km",
        "outputId": "3bb2f9b8-7de3-4943-8eff-e542e04b2c9d"
      },
      "outputs": [
        {
          "name": "stdout",
          "output_type": "stream",
          "text": [
            "{1, 2, 3}\n"
          ]
        }
      ],
      "source": [
        "my_set = {1,2,3}\n",
        "\n",
        "my_set.discard(4) # method\n",
        "print(my_set)"
      ]
    },
    {
      "cell_type": "markdown",
      "metadata": {
        "id": "QK5WKJishiJN"
      },
      "source": [
        "In summary:\n",
        "\n",
        "- Use `remove()` when you are sure that the item exists in the set and you want to handle the error if it does not exist.\n",
        "- Use `discard()` when you are not sure if the item exists in the set and you want to avoid raising an error if it does not exist.\n",
        "\n",
        "When to use each method:\n",
        "\n",
        "- **`remove()`**:\n",
        "  - When working with small sets where performance is not a concern.\n",
        "  - When you need to handle the error if the item does not exist.\n",
        "- **`discard()`**:\n",
        "  - When working with large sets where performance is a concern.\n",
        "  - When you do not care about handling the error if the item does not exist.\n",
        "\n",
        "In general, if you are not sure which method to use, `discard()` is a safe choice as it does not raise an error if the item does not exist."
      ]
    },
    {
      "cell_type": "markdown",
      "metadata": {
        "id": "8NSPYz7oh4qU"
      },
      "source": [
        "## **The Inner Working of SET (Advance Topic)**\n",
        "----\n",
        "\n",
        "##The Hashing\n",
        "  - Hashing is a mechanism in computer science which enables quicker searching of objects in computer's memory. Only immutable objects are hashable.\n",
        "\n",
        "  - Immutable data types in Python come with a built-in method for computing their hash value, which is called __hash__.\n",
        "\n",
        "  - A hash table is a data structure that can map keys to values and that implements a hash function to compute the index to an array of buckets or slots"
      ]
    },
    {
      "cell_type": "code",
      "execution_count": null,
      "metadata": {
        "colab": {
          "base_uri": "https://localhost:8080/"
        },
        "id": "lv-fKYDQpXVx",
        "outputId": "059e2a64-0eca-483c-d94b-e2316dad9e28"
      },
      "outputs": [
        {
          "name": "stdout",
          "output_type": "stream",
          "text": [
            "id(a) =  132467750244336\n",
            "id(b) =  132466877525360\n"
          ]
        }
      ],
      "source": [
        "a: str = \"Hello! World\"\n",
        "b: str = \"Hello! World\"\n",
        "\n",
        "print(\"id(a) = \", id(a))\n",
        "print(\"id(b) = \", id(b))"
      ]
    },
    {
      "cell_type": "code",
      "execution_count": null,
      "metadata": {
        "colab": {
          "base_uri": "https://localhost:8080/"
        },
        "id": "-4C9L3k4pvkX",
        "outputId": "b91fed19-31da-4250-ab78-24edcaf9a67d"
      },
      "outputs": [
        {
          "name": "stdout",
          "output_type": "stream",
          "text": [
            "hash(a) =  9090330697819382555\n",
            "hash(b) =  9090330697819382555\n",
            "-----------\n",
            "hash(a)      =  9090330697819382555\n",
            "a.__hash__() =  9090330697819382555\n"
          ]
        }
      ],
      "source": [
        "print(\"hash(a) = \", hash(a))\n",
        "print(\"hash(b) = \", hash(b))\n",
        "print(\"-----------\")\n",
        "print(\"hash(a)      = \",hash(a))\n",
        "print(\"a.__hash__() = \", a.__hash__()) # __dunder__()"
      ]
    },
    {
      "cell_type": "markdown",
      "metadata": {
        "id": "35BOSmOXqI1V"
      },
      "source": [
        "###Important Note:\n",
        "----\n",
        "  - Even if a set only allows `immutable items`, the set itself is **`mutable`**. Hence, add/delete/update operations are permitted on a set object\n",
        "\n",
        "  - In Python, a dictionary **`key`** must be an **`immutable`** object, meaning its value cannot be changed after it's created. This is because dictionaries use a hash table to store key-value pairs, and mutable objects cannot be hashed.\n",
        "\n",
        "  - Lets pass the set as key in dictionary which only accept immutable item as a key."
      ]
    },
    {
      "cell_type": "code",
      "execution_count": 35,
      "metadata": {
        "colab": {
          "base_uri": "https://localhost:8080/",
          "height": 193
        },
        "id": "OHCdl2FHbqgu",
        "outputId": "d2ea46a0-3703-468a-b20b-461501d22656"
      },
      "outputs": [
        {
          "ename": "TypeError",
          "evalue": "unhashable type: 'set'",
          "output_type": "error",
          "traceback": [
            "\u001b[31m---------------------------------------------------------------------------\u001b[39m",
            "\u001b[31mTypeError\u001b[39m                                 Traceback (most recent call last)",
            "\u001b[36mCell\u001b[39m\u001b[36m \u001b[39m\u001b[32mIn[35]\u001b[39m\u001b[32m, line 3\u001b[39m\n\u001b[32m      1\u001b[39m \u001b[38;5;66;03m# TypeError: unhashable type: 'set'\u001b[39;00m\n\u001b[32m      2\u001b[39m my_set: \u001b[38;5;28mset\u001b[39m   = {\u001b[32m1\u001b[39m,\u001b[32m2\u001b[39m,\u001b[32m3\u001b[39m,\u001b[32m4\u001b[39m,\u001b[32m5\u001b[39m, \u001b[33m\"\u001b[39m\u001b[33mHello! World\u001b[39m\u001b[33m\"\u001b[39m}\n\u001b[32m----> \u001b[39m\u001b[32m3\u001b[39m my_dict: \u001b[38;5;28mdict\u001b[39m = {my_set: \u001b[33m\"\u001b[39m\u001b[33mHello! World\u001b[39m\u001b[33m\"\u001b[39m} \u001b[38;5;66;03m# dictionary only accept immutable objects as a key\u001b[39;00m\n\u001b[32m      4\u001b[39m \u001b[38;5;28mprint\u001b[39m(my_dict)\n",
            "\u001b[31mTypeError\u001b[39m: unhashable type: 'set'"
          ]
        }
      ],
      "source": [
        "# TypeError: unhashable type: 'set'\n",
        "my_set: set   = {1,2,3,4,5, \"Hello! World\"}\n",
        "my_dict: dict = {my_set: \"Hello! World\"} # dictionary only accept immutable objects as a key\n",
        "print(my_dict)"
      ]
    },
    {
      "cell_type": "markdown",
      "metadata": {
        "id": "w4eFy3Keh8yu"
      },
      "source": [
        "## **How Hashing Determines Internal Storage in Sets**\n",
        "\n",
        "In Python, sets are implemented using hash tables (specifically, dictionaries under the hood). This allows O(1) average-time complexity for lookups, insertions, and deletions. However, the way elements are stored in memory depends on hashing, which can lead to unpredictable ordering.\n",
        "\n",
        "## **Key Points About Hashing in Sets:**\n",
        "\n",
        "\n",
        "1. Each element in a set is hashed to determine its storage position.\n",
        "\n",
        "2.  The internal order is based on hash values, not insertion order.\n",
        "3.  The order can change dynamically when elements are added or removed."
      ]
    },
    {
      "cell_type": "markdown",
      "metadata": {
        "id": "eTqJRhU2iMMl"
      },
      "source": [
        "## **Understanding Rehashing and Changing Order**\n",
        "\n",
        "### **What is Rehashing?**\n",
        "\n",
        "* Rehashing occurs when the underlying hash table needs to expand due to increasing elements.\n",
        "\n",
        "* Python dynamically resizes the hash table when it reaches a certain load factor (a ratio of stored elements to available slots).\n",
        "\n",
        "* During rehashing, all elements get redistributed, meaning their storage positions can change, even if no explicit sorting is done.\n",
        "\n",
        "### **Example: How Set Order Can Change Dynamically**"
      ]
    },
    {
      "cell_type": "code",
      "execution_count": null,
      "metadata": {
        "colab": {
          "base_uri": "https://localhost:8080/"
        },
        "id": "rOoFA-3sierd",
        "outputId": "b22f05eb-e1b2-483f-bbe0-6c0ca8913f5e"
      },
      "outputs": [
        {
          "name": "stdout",
          "output_type": "stream",
          "text": [
            "{8, 10, 3, 5}\n",
            "{3, 5, 8, 10, 20}\n",
            "{3, 5, 8, 20}\n"
          ]
        }
      ],
      "source": [
        "# Initial set\n",
        "my_set = {10, 3, 5, 8}\n",
        "print(my_set)  # Output may be {8, 10, 3, 5} or another order\n",
        "\n",
        "# Adding an element\n",
        "my_set.add(20)\n",
        "print(my_set)  # The order might change unpredictably\n",
        "\n",
        "# Removing an element\n",
        "my_set.remove(10)\n",
        "print(my_set)  # Again, the order can change\n"
      ]
    },
    {
      "cell_type": "markdown",
      "metadata": {
        "id": "vPVsfZrgiyY0"
      },
      "source": [
        "### **Why Does the Order Change?**\n",
        "\n",
        "* New elements may trigger rehashing, leading to reallocation of storage.\n",
        "\n",
        "* Removing an element can also affect the layout, especially if rehashing is triggered due to shrinking.\n",
        "\n",
        "### **Does This Mean Sets Are Ordered Internally?**\n",
        "🚫 No.\n",
        "\n",
        "Even though elements are stored based on their hash values, this does not mean sets are ordered in the way lists or tuples are. Order can change unexpectedly, so it’s unreliable for ordered operations like indexing."
      ]
    },
    {
      "cell_type": "markdown",
      "metadata": {
        "id": "c_EgzqOVkSgD"
      },
      "source": [
        "## **Conclusion**\n",
        "\n",
        "* Hashing determines where elements are stored, but this structure is not stable across operations.\n",
        "\n",
        "* Adding or removing elements can trigger rehashing, which causes internal storage reallocation and an unpredictable order.\n"
      ]
    },
    {
      "cell_type": "markdown",
      "metadata": {
        "id": "lu-ejrgwv7mp"
      },
      "source": [
        "# **The Frozenset**\n",
        "----\n",
        "In Python, a `frozenset` is an `immutable` (unchangeable) version of a set. It is a collection of unique elements, just like a set, but it cannot be modified after it is created.\n",
        "\n",
        "Here are the key features of a `frozenset`:\n",
        "\n",
        "1. **Immutable**: A `frozenset` cannot be modified after it is created. You cannot add, remove, or change elements in a `frozenset`.\n",
        "2. **Ordered**: Like sets, `frozensets` are unordered in Python versions before 3.7. However, from Python 3.7 onwards, `frozensets` maintain their insertion order, just like sets.\n",
        "3. **Hashable**: `frozensets` are hashable, meaning they can be used as keys in dictionaries or elements in other sets.\n",
        "4. **Unique elements**: A `frozenset` can only contain unique elements, just like a set.\n",
        "\n",
        "Here are the key differences between a `set` and a `frozenset` in Python:\n",
        "\n",
        "1. **Immutability**:\n",
        "   - `set`: Mutable (can be modified after creation)\n",
        "   - `frozenset`: Immutable (cannot be modified after creation)\n",
        "\n",
        "2. **Modification methods**:\n",
        "   - `set`: Supports methods like `add()`, `remove()`, `discard()`, `clear()`, `pop()`, `update()`\n",
        "   - `frozenset`: Does not support any modification methods\n",
        "\n",
        "3. **Hashability**:\n",
        "   - `set`: Not hashable (cannot be used as keys in dictionaries or elements in other sets)\n",
        "   - `frozenset`: Hashable (can be used as keys in dictionaries or elements in other sets)\n",
        "\n",
        "4. **Thread safety**:\n",
        "   - `set`: Not thread-safe (multiple threads can modify the set simultaneously, leading to inconsistencies)\n",
        "   - `frozenset`: Thread-safe (since it's immutable, it's safe to access from multiple threads)\n",
        "\n",
        "5. **Syntax**:\n",
        "   - `set`: Created using the `set()` function or the `{}` syntax (e.g., `my_set = {1, 2, 3}`)\n",
        "   - `frozenset`: Created using the `frozenset()` function (e.g., `my_frozenset = frozenset([1, 2, 3])`)\n",
        "\n",
        "6. **Use cases**:\n",
        "   - `set`: Suitable for situations where you need to frequently add or remove elements (e.g., when filtering data)\n",
        "   - `frozenset`: Suitable for situations where you need an immutable collection (e.g., when using it as a key in a dictionary or as an element in another set)\n",
        "\n",
        "\n",
        "   Here's a summary of the differences:\n",
        "\n",
        "| Feature | Set | Frozenset |\n",
        "| --- | --- | --- |\n",
        "| Immutability | Mutable | Immutable |\n",
        "| Modification methods | Yes | No |\n",
        "| Hashability | No | Yes |\n",
        "| Thread safety | No | Yes |\n",
        "| Syntax | `set()` or `{}` | `frozenset()` |\n",
        "| Use cases | Frequent modifications | Immutable collection |"
      ]
    },
    {
      "cell_type": "code",
      "execution_count": null,
      "metadata": {
        "colab": {
          "base_uri": "https://localhost:8080/"
        },
        "id": "xvsuFrLAxS0P",
        "outputId": "a38d9492-b613-4cb5-c32e-9a50e3bb786f"
      },
      "outputs": [
        {
          "name": "stdout",
          "output_type": "stream",
          "text": [
            "my_frozenset  =  frozenset({'Hello! World', 1, 2, 3})\n",
            "my_frozenset2 =  frozenset({3, 1, 2, 'Hello! World'})\n"
          ]
        }
      ],
      "source": [
        "my_frozenset: frozenset = frozenset([1,2,3, \"Hello! World\"])\n",
        "print(\"my_frozenset  = \", my_frozenset)\n",
        "\n",
        "my_set: set = {1,2,3, \"Hello! World\"}\n",
        "my_frozenset2: frozenset = frozenset(my_set)\n",
        "print(\"my_frozenset2 = \",my_frozenset2)"
      ]
    },
    {
      "cell_type": "markdown",
      "metadata": {
        "id": "sKRwmvouzgGN"
      },
      "source": [
        "Set Methods\n",
        "----\n"
      ]
    },
    {
      "cell_type": "code",
      "execution_count": null,
      "metadata": {
        "colab": {
          "base_uri": "https://localhost:8080/"
        },
        "id": "Is00lInyzpA9",
        "outputId": "78f1324c-dcf0-459d-d4c2-3c25e182bda1"
      },
      "outputs": [
        {
          "name": "stdout",
          "output_type": "stream",
          "text": [
            "difference()           =  {4, 5, 6}\n",
            "intersection()         =  {'Hello! World', 1, 2, 3}\n",
            "union()                =  {1, 2, 3, 4, 5, 6, 8, 9, 'Hello! World'}\n",
            "symmetric_difference() =  {4, 5, 6, 8, 9}\n",
            "isdisjoint()           =  False\n",
            "issuperset()           =  True\n",
            "issubset()             =  True\n"
          ]
        }
      ],
      "source": [
        "my_set: set  = {1,2,3, \"Hello! World\", 4,5,6}\n",
        "my_set2: set = {1,2,3, \"Hello! World\", 8,9}\n",
        "\n",
        "print(\"difference()           = \", my_set.difference(my_set2)) #Returns a set containing the difference between two or more sets\n",
        "print(\"intersection()         = \", my_set.intersection(my_set2))#Return a set that contains the items that exist in both set\n",
        "print(\"union()                = \", my_set.union(my_set2))#Return a set that contains all items from both sets, duplicates are excluded:\n",
        "print(\"symmetric_difference() = \", my_set.symmetric_difference(my_set2))#Return a set that contains only unique items from both sets\n",
        "\n",
        "#my_set = {55,66}\n",
        "\n",
        "print(\"isdisjoint()           = \", my_set.isdisjoint(my_set2))#Return True if no items in set x is present in set y\n",
        "\n",
        "my_set2 = {1,2,3, \"Hello! World\"}\n",
        "print(\"issuperset()           = \", my_set.issuperset(my_set2))#Return True if all items in set x are present in set y\n",
        "print(\"issubset()             = \", my_set2.issubset(my_set))"
      ]
    },
    {
      "cell_type": "code",
      "execution_count": null,
      "metadata": {
        "colab": {
          "base_uri": "https://localhost:8080/"
        },
        "id": "oKSc6p2Cocrl",
        "outputId": "ce8ae98b-41de-4fb9-b68a-fea4855b91f6"
      },
      "outputs": [
        {
          "name": "stdout",
          "output_type": "stream",
          "text": [
            "add(6): {1, 2, 3, 4, 5, 6}\n",
            "clear(): set()\n",
            "copy(): {1, 2, 3, 4, 5, 6}\n",
            "difference(): {1, 2, 3}\n",
            "difference_update(): {1, 2, 3}\n",
            "discard(6): {1, 2, 3, 4, 5}\n",
            "intersection(): {4, 5}\n",
            "intersection_update(): {4, 5}\n",
            "isdisjoint(): False\n",
            "isdisjoint(): True\n",
            "issubset(): False\n",
            "issubset(): {1,2}.issubset({1, 2, 3, 4, 5, 6})\n",
            "issubset(): {1,2}.issubset({1,2})\n",
            "issuperset(): False\n",
            "issuperset(): True\n",
            "issuperset(): {1,2}.issuperset({1,2})\n",
            "pop(): 1\n",
            "set after pop(): {2, 3, 4, 5, 6}\n",
            "remove(1): {2, 3, 4, 5, 6}\n",
            "symmetric_difference(): {1, 2, 3, 7, 8}\n",
            "symmetric_difference_update(): {1, 2, 3, 7, 8}\n",
            "union(): {1, 2, 3, 4, 5, 6, 7, 8}\n",
            "update(): {1, 2, 3, 4, 5, 6, 7, 8}\n"
          ]
        }
      ],
      "source": [
        "# prompt: generate examples of all the method of set\n",
        "\n",
        "# Example usage of set methods\n",
        "\n",
        "# Initialize two sets for demonstration\n",
        "set1: set = {1, 2, 3, 4, 5}\n",
        "set2: set = {4, 5, 6, 7, 8}\n",
        "\n",
        "# 1. add(): Adds an element to the set.\n",
        "set1.add(6)\n",
        "print(f\"add(6): {set1}\")  # Output: {1, 2, 3, 4, 5, 6}\n",
        "\n",
        "# 2. clear(): Removes all elements from the set.\n",
        "set_copy: set = set1.copy()\n",
        "set_copy.clear()\n",
        "print(f\"clear(): {set_copy}\")  # Output: set()\n",
        "\n",
        "# 3. copy(): Returns a copy of the set.\n",
        "set_copy: set = set1.copy()\n",
        "print(f\"copy(): {set_copy}\")  # Output: {1, 2, 3, 4, 5, 6}\n",
        "\n",
        "# 4. difference(): Returns a set containing the difference between two or more sets.\n",
        "difference_set: set = set1.difference(set2)\n",
        "print(f\"difference(): {difference_set}\")  # Output: {1, 2, 3}\n",
        "\n",
        "# 5. difference_update(): Removes the items in this set that are also included in another, specified set.\n",
        "set1.difference_update(set2)\n",
        "print(f\"difference_update(): {set1}\")  # Output: {1, 2, 3}\n",
        "set1: set = {1, 2, 3, 4, 5,6} #reset set1\n",
        "\n",
        "# 6. discard(): Remove the specified item.\n",
        "set1.discard(6)\n",
        "print(f\"discard(6): {set1}\")  # Output: {1, 2, 3, 4, 5}\n",
        "\n",
        "# 7. intersection(): Returns a set, that is the intersection of two other sets.\n",
        "intersection_set: set = set1.intersection(set2)\n",
        "print(f\"intersection(): {intersection_set}\")  # Output: {4, 5}\n",
        "\n",
        "# 8. intersection_update(): Removes the items in this set that are not present in other, specified set(s)\n",
        "set1.intersection_update(set2)\n",
        "print(f\"intersection_update(): {set1}\") # Output: {4, 5}\n",
        "set1 = {1, 2, 3, 4, 5,6} #reset set1\n",
        "\n",
        "# 9. isdisjoint(): Returns whether two sets have a intersection or not.\n",
        "print(f\"isdisjoint(): {set1.isdisjoint(set2)}\")  # Output: False\n",
        "print(f\"isdisjoint(): {set1.isdisjoint({9,10})}\") # Output: True\n",
        "\n",
        "# 10. issubset(): Returns whether another set contains this set or not.\n",
        "print(f\"issubset(): {set1.issubset(set2)}\")  # Output: False\n",
        "print(f\"issubset(): {{1,2}}.issubset({set1})\")  # Output: True\n",
        "print(f\"issubset(): {{1,2}}.issubset({{1,2}})\")  # Output: True\n",
        "\n",
        "\n",
        "# 11. issuperset(): Returns whether this set contains another set or not.\n",
        "print(f\"issuperset(): {set1.issuperset(set2)}\")  # Output: False\n",
        "print(f\"issuperset(): {set1.issuperset({1,2})}\")  # Output: True\n",
        "print(f\"issuperset(): {{1,2}}.issuperset({{1,2}})\")  # Output: True\n",
        "\n",
        "# 12. pop(): Removes a random element from the set.\n",
        "removed_element: int = set1.pop()\n",
        "print(f\"pop(): {removed_element}\")  # Output: (random element)\n",
        "print(f\"set after pop(): {set1}\")  # Output: (set without removed_element)\n",
        "set1.add(removed_element)#put back the element for others test\n",
        "\n",
        "# 13. remove(): Removes the specified element. Raises an error if the element is not present.\n",
        "set1.remove(1)\n",
        "print(f\"remove(1): {set1}\")  # Output: {2, 3, 4, 5,6}\n",
        "set1.add(1)#put back the element for others test\n",
        "\n",
        "# 14. symmetric_difference(): Returns a set with the symmetric differences of two sets.\n",
        "symmetric_difference_set: set = set1.symmetric_difference(set2)\n",
        "print(f\"symmetric_difference(): {symmetric_difference_set}\")  # Output: {1, 2, 3, 6, 7, 8}\n",
        "\n",
        "# 15. symmetric_difference_update(): Inserts the symmetric differences from this set and another\n",
        "set1.symmetric_difference_update(set2)\n",
        "print(f\"symmetric_difference_update(): {set1}\")  # Output: {1, 2, 3, 6, 7, 8}\n",
        "set1 = {1, 2, 3, 4, 5,6} #reset set1\n",
        "\n",
        "# 16. union(): Returns a set containing the union of sets.\n",
        "union_set = set1.union(set2)\n",
        "print(f\"union(): {union_set}\")  # Output: {1, 2, 3, 4, 5, 6, 7, 8}\n",
        "\n",
        "# 17. update(): Update the set with the union of this set and others\n",
        "set1.update(set2)\n",
        "print(f\"update(): {set1}\") # Output: {1, 2, 3, 4, 5, 6, 7, 8}\n"
      ]
    },
    {
      "cell_type": "code",
      "execution_count": 34,
      "metadata": {
        "colab": {
          "base_uri": "https://localhost:8080/"
        },
        "id": "E3-xYTgVopAr",
        "outputId": "2c1645a1-53de-4ac5-83b2-08335f092a2c"
      },
      "outputs": [
        {
          "name": "stdout",
          "output_type": "stream",
          "text": [
            "frozen_set1: frozenset({1, 2, 3, 4})\n",
            "frozen_set2: frozenset({3, 4, 5, 6})\n",
            "frozen_set3: frozenset({1, 2})\n",
            "\n",
            "----------\n",
            "\n",
            "difference(): frozenset({1, 2})\n",
            "intersection(): frozenset({3, 4})\n",
            "union(): frozenset({1, 2, 3, 4, 5, 6})\n",
            "symmetric_difference(): frozenset({1, 2, 5, 6})\n",
            "isdisjoint(): False\n",
            "isdisjoint(): True\n",
            "issubset(): True\n",
            "issubset(): False\n",
            "issuperset(): True\n",
            "issuperset(): False\n",
            "copy(): frozenset({1, 2, 3, 4})\n",
            "copy() is same object?: True\n"
          ]
        }
      ],
      "source": [
        "# Create some example frozensets\n",
        "frozen_set1: frozenset = frozenset([1, 2, 3, 4, 1])\n",
        "frozen_set2: frozenset = frozenset([3, 4, 5, 6])\n",
        "frozen_set3: frozenset = frozenset([1, 2])\n",
        "\n",
        "print(f\"frozen_set1: {frozen_set1}\")\n",
        "print(f\"frozen_set2: {frozen_set2}\")\n",
        "print(f\"frozen_set3: {frozen_set3}\")\n",
        "print(\"\\n----------\\n\")\n",
        "# Methods that work with frozensets (since they are immutable)\n",
        "# These methods return a new frozenset or a boolean value\n",
        "\n",
        "# 1. difference(): Returns a new frozenset with elements present in the first frozenset but not in the second.\n",
        "difference_set: frozenset = frozen_set1.difference(frozen_set2)\n",
        "print(f\"difference(): {difference_set}\")  # Output: frozenset({1, 2})\n",
        "\n",
        "# 2. intersection(): Returns a new frozenset containing only elements common to both frozensets.\n",
        "intersection_set: frozenset = frozen_set1.intersection(frozen_set2)\n",
        "print(f\"intersection(): {intersection_set}\")  # Output: frozenset({3, 4})\n",
        "\n",
        "# 3. union(): Returns a new frozenset containing all unique elements from both frozensets.\n",
        "union_set: frozenset = frozen_set1.union(frozen_set2)\n",
        "print(f\"union(): {union_set}\")  # Output: frozenset({1, 2, 3, 4, 5, 6})\n",
        "\n",
        "# 4. symmetric_difference(): Returns a new frozenset with elements that are in either of the sets but not in both.\n",
        "symmetric_difference_set: frozenset = frozen_set1.symmetric_difference(frozen_set2)\n",
        "print(f\"symmetric_difference(): {symmetric_difference_set}\")  # Output: frozenset({1, 2, 5, 6})\n",
        "\n",
        "# 5. isdisjoint(): Returns True if the two frozensets have no elements in common; otherwise, False.\n",
        "print(f\"isdisjoint(): {frozen_set1.isdisjoint(frozen_set2)}\")  # Output: False\n",
        "print(f\"isdisjoint(): {frozen_set1.isdisjoint(frozenset([7, 8]))}\")  # Output: True\n",
        "\n",
        "# 6. issubset(): Returns True if all elements of the first frozenset are present in the second frozenset.\n",
        "print(f\"issubset(): {frozen_set3.issubset(frozen_set1)}\")  # Output: True\n",
        "print(f\"issubset(): {frozen_set1.issubset(frozen_set3)}\")  # Output: False\n",
        "\n",
        "# 7. issuperset(): Returns True if all elements of the second frozenset are present in the first frozenset.\n",
        "print(f\"issuperset(): {frozen_set1.issuperset(frozen_set3)}\")  # Output: True\n",
        "print(f\"issuperset(): {frozen_set3.issuperset(frozen_set1)}\")  # Output: False\n",
        "\n",
        "# 8. copy(): Returns a new frozenset that is a shallow copy of the original.\n",
        "copy_set: frozenset = frozen_set1.copy()\n",
        "print(f\"copy(): {copy_set}\")  # Output: frozenset({1, 2, 3, 4})\n",
        "print(f\"copy() is same object?: {copy_set is frozen_set1}\") # Output: True because frozensets are immutable\n"
      ]
    },
    {
      "cell_type": "markdown",
      "metadata": {
        "id": "zLa7XJTiYbeX"
      },
      "source": [
        "## **GC: Garbage Collection**"
      ]
    },
    {
      "cell_type": "markdown",
      "metadata": {
        "id": "QimtK1yfYTyX"
      },
      "source": [
        "**Python has a garbage collection mechanism.**\n",
        "\n",
        "Python's garbage collector is a **`Memory Management System`** that **`automatically`** frees up memory occupied by objects that are no longer needed or referenced. This helps prevent memory leaks and allows Python to manage memory efficiently.\n",
        "\n",
        "### **Here's how it works:**\n",
        "\n",
        "1. **Reference Counting**: Python uses a reference counting algorithm to track the number of references to each object. When an object is created, its reference count is set to 1. Each time a new reference to the object is created (e.g., assigning it to a variable or passing it as an argument), the reference count is incremented.\n",
        "\n",
        "2. **Garbage Collection**: When an object's reference count reaches 0, it is no longer needed and becomes eligible for garbage collection. The garbage collector periodically runs in the background to identify and free up memory occupied by these objects.\n",
        "\n",
        "### **Python's garbage collector is:**\n",
        "\n",
        "* **Automatic**: You don't need to manually manage memory or explicitly free up memory.\n",
        "\n",
        "* **Periodic**: The garbage collector runs periodically to clean up memory.\n",
        "* **Reference-based**: It uses reference counting to determine which objects are no longer needed.\n",
        "\n",
        "You can also manually trigger the garbage collector using the `gc.collect()` function from the `gc` module:"
      ]
    },
    {
      "cell_type": "code",
      "execution_count": 43,
      "metadata": {
        "colab": {
          "base_uri": "https://localhost:8080/"
        },
        "id": "OHvopLm6Y0Bv",
        "outputId": "d521a2c1-b0ee-40e9-de45-18dcb9f6d55f"
      },
      "outputs": [
        {
          "name": "stdout",
          "output_type": "stream",
          "text": [
            "(23, 0, 0)\n"
          ]
        }
      ],
      "source": [
        "import gc\n",
        "\n",
        "gc.collect()\n",
        "print(gc.get_count())  # prints the number of collected objects, unreachable objects, and reference cycles"
      ]
    },
    {
      "cell_type": "markdown",
      "metadata": {
        "id": "jRy01_4tY7m2"
      },
      "source": [
        "However, this is usually not necessary, as the garbage collector runs automatically in the background.\n",
        "\n",
        "Some benefits of Python's garbage collection:\n",
        "\n",
        "* **Memory safety**: Prevents memory leaks and ensures memory is freed up when no longer needed.\n",
        "* **Convenience**: You don't need to worry about manually managing memory.\n",
        "* **Efficiency**: The garbage collector runs periodically to optimize memory usage.\n",
        "\n",
        "Note that Python's garbage collection is not perfect, and there are some cases where it may not work as expected (e.g., circular references, file descriptors). However, it provides a convenient and efficient way to manage memory in most cases."
      ]
    }
  ],
  "metadata": {
    "colab": {
      "provenance": []
    },
    "kernelspec": {
      "display_name": "Python 3",
      "name": "python3"
    },
    "language_info": {
      "codemirror_mode": {
        "name": "ipython",
        "version": 3
      },
      "file_extension": ".py",
      "mimetype": "text/x-python",
      "name": "python",
      "nbconvert_exporter": "python",
      "pygments_lexer": "ipython3",
      "version": "3.13.2"
    }
  },
  "nbformat": 4,
  "nbformat_minor": 0
}
