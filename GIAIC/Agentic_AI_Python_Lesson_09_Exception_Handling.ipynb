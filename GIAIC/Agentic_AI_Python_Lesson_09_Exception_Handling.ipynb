{
  "cells": [
    {
      "cell_type": "markdown",
      "metadata": {
        "id": "38_QpUXJOAII"
      },
      "source": [
        "<font color=\"#a9a56c\" size=2> **@Author: Arif Kasim Rozani - (Team Operation Badar)** </font>"
      ]
    },
    {
      "cell_type": "markdown",
      "metadata": {
        "id": "kHQAGthVkTyk"
      },
      "source": [
        "# **Exception Handling with try, except, else, and finally**\n",
        "\n",
        "\n",
        "Exception handling is a crucial part of writing robust Python programs. It allows you to handle errors gracefully and ensure your program doesn't crash unexpectedly. In this tutorial, we'll cover the try, except, else, and finally blocks with examples."
      ]
    },
    {
      "cell_type": "markdown",
      "metadata": {
        "id": "5UthHjnlmzK6"
      },
      "source": [
        "## **Importance of Exception Handling in Python**\n",
        "\n",
        "Exception handling is essential for creating robust and reliable Python programs. Here’s why it matters and the consequences of not using it:"
      ]
    },
    {
      "cell_type": "markdown",
      "metadata": {
        "id": "zGAyvfKpm4VK"
      },
      "source": [
        "## **Why Use Exception Handling?**\n",
        "\n",
        "*   **Prevents Program Crashes**: Ensures your program doesn’t terminate abruptly due to unexpected errors.\n",
        "\n",
        "*   **Graceful Error Recovery**: Allows you to handle errors gracefully and provide meaningful feedback to users.\n",
        "*   **Clean Code**: Separates error-handling logic from the main program flow, making code more readable and maintainable.\n",
        "*   **Resource Management**: Ensures resources (e.g., files, connections) are properly released, even if an error occurs."
      ]
    },
    {
      "cell_type": "markdown",
      "metadata": {
        "id": "OQo_Y9s6nTKS"
      },
      "source": [
        "## **What Happens If You Don’t Use Exception Handling?**\n",
        "\n",
        "*   **Program Crashes**: Unhandled exceptions cause the program to terminate, leading to a poor user experience.\n",
        "\n",
        "*  ** Data Loss**: Critical operations (e.g., saving data) may fail, resulting in data corruption or loss.\n",
        "*   **Security Risks**: Exposing raw error messages can reveal sensitive information or system details to attackers.\n",
        "*   **Unpredictable Behavior**: Errors propagate through the program, making debugging difficult and increasing development time."
      ]
    },
    {
      "cell_type": "markdown",
      "metadata": {
        "id": "aRMUxODwnibT"
      },
      "source": [
        "## **Scenarios Where Exception Handling is Crucial**\n",
        "\n",
        "*   **File Operations**: Handling missing files or permission errors during file access.\n",
        "\n",
        "*   **User Input**: Validating and handling invalid or unexpected input from users.\n",
        "*   **Network Operations**: Managing connection errors or timeouts in network requests.\n",
        "*   **Mathematical Operations**: Preventing division by zero or invalid calculations."
      ]
    },
    {
      "cell_type": "markdown",
      "metadata": {
        "id": "5paIizIdnsDK"
      },
      "source": [
        "## **Consequences of Not Handling Exceptions**\n",
        "\n",
        "*   **User Frustration**: Users see cryptic error messages instead of helpful feedback.\n",
        "\n",
        "*   **Increased Debugging Effort**: Developers spend more time tracing and fixing errors.\n",
        "*   **System Instability**: Unhandled errors can cause cascading failures in larger systems.\n",
        "*   **Loss of Trust**: Frequent crashes or errors can damage the program’s credibility."
      ]
    },
    {
      "cell_type": "markdown",
      "metadata": {
        "id": "1C8qhILKn2xp"
      },
      "source": [
        "By incorporating exception handling, you ensure your program is robust, user-friendly, and resilient to unexpected issues."
      ]
    },
    {
      "cell_type": "markdown",
      "metadata": {
        "id": "GyqW0P3hkc4k"
      },
      "source": [
        "## **1. The try Block**\n",
        "\n",
        "The try block is used to test a block of code for errors. If an error occurs within the try block, the program will immediately jump to the except block (if provided)."
      ]
    },
    {
      "cell_type": "code",
      "execution_count": 14,
      "metadata": {
        "colab": {
          "base_uri": "https://localhost:8080/"
        },
        "id": "I2BHYcfTkicE",
        "outputId": "9a086013-0cdd-4f9a-d95d-01c184c286e7"
      },
      "outputs": [
        {
          "name": "stdout",
          "output_type": "stream",
          "text": [
            "An error occurred!\n"
          ]
        }
      ],
      "source": [
        "try:\n",
        "    result = 10 / 0  # This will raise a ZeroDivisionError\n",
        "except:\n",
        "    print(\"An error occurred!\")"
      ]
    },
    {
      "cell_type": "markdown",
      "metadata": {
        "id": "sLCu1QFqkoRc"
      },
      "source": [
        "## **2. The except Block**\n",
        "\n",
        "\n",
        "The except block is used to handle specific errors that occur in the try block. You can specify the type of error to catch, or use a generic except to catch all errors."
      ]
    },
    {
      "cell_type": "code",
      "execution_count": 15,
      "metadata": {
        "colab": {
          "base_uri": "https://localhost:8080/"
        },
        "id": "VZ1IEuZ0kq8E",
        "outputId": "2390a121-8714-459f-d60f-2a6db4c50fa1"
      },
      "outputs": [
        {
          "name": "stdout",
          "output_type": "stream",
          "text": [
            "Cannot divide by zero!\n"
          ]
        }
      ],
      "source": [
        "try:\n",
        "    result = 10 / 0\n",
        "except ZeroDivisionError:\n",
        "    print(\"Cannot divide by zero!\")\n",
        "except Exception as e:\n",
        "    print(f\"An unexpected error occurred: {e}\")"
      ]
    },
    {
      "cell_type": "markdown",
      "metadata": {
        "id": "TSO8C39YktSs"
      },
      "source": [
        "## **3. The else Block**\n",
        "\n",
        "\n",
        "The else block is executed if no errors occur in the try block. It is optional and is used for code that should only run when the try block is successful."
      ]
    },
    {
      "cell_type": "code",
      "execution_count": 16,
      "metadata": {
        "colab": {
          "base_uri": "https://localhost:8080/"
        },
        "id": "kt3m8QS4kyIM",
        "outputId": "e77feeac-08ff-43b3-d466-bc7ca7f00931"
      },
      "outputs": [
        {
          "name": "stdout",
          "output_type": "stream",
          "text": [
            "Division successful. Result: 5.0\n"
          ]
        }
      ],
      "source": [
        "try:\n",
        "    result = 10 / 2\n",
        "    # print(result)\n",
        "except ZeroDivisionError:\n",
        "    print(\"Cannot divide by zero!\")\n",
        "else:\n",
        "    print(f\"Division successful. Result: {result}\")"
      ]
    },
    {
      "cell_type": "markdown",
      "metadata": {
        "id": "i66QIF6-k3hM"
      },
      "source": [
        "## **4. The finally Block**\n",
        "\n",
        "\n",
        "The finally block is executed regardless of whether an error occurred or not. It is often used for cleanup operations, such as closing files or releasing resources."
      ]
    },
    {
      "cell_type": "code",
      "execution_count": 17,
      "metadata": {
        "colab": {
          "base_uri": "https://localhost:8080/"
        },
        "id": "5T94Z2v_k56t",
        "outputId": "ad2c08ab-acd2-46da-8085-ace4cee17a55"
      },
      "outputs": [
        {
          "name": "stdout",
          "output_type": "stream",
          "text": [
            "Cannot divide by zero!\n",
            "This will always execute.\n"
          ]
        }
      ],
      "source": [
        "try:\n",
        "    result = 10 / 0\n",
        "except ZeroDivisionError:\n",
        "    print(\"Cannot divide by zero!\")\n",
        "finally:\n",
        "    print(\"This will always execute.\")"
      ]
    },
    {
      "cell_type": "markdown",
      "metadata": {
        "id": "Lbm_K9KHk9VE"
      },
      "source": [
        "## **5. Putting It All Together**\n",
        "\n",
        "Here’s an example that combines all four blocks:"
      ]
    },
    {
      "cell_type": "code",
      "execution_count": 18,
      "metadata": {
        "colab": {
          "base_uri": "https://localhost:8080/"
        },
        "id": "h42psXpblAq8",
        "outputId": "17463651-d591-47b4-8e1b-ebc1df407377"
      },
      "outputs": [
        {
          "name": "stdout",
          "output_type": "stream",
          "text": [
            "Division successful. Result: 5.0\n",
            "Operation complete.\n",
            "Error: Cannot divide by zero!\n",
            "Operation complete.\n",
            "Error: Invalid input type. Numbers required.\n",
            "Operation complete.\n",
            "Error: Invalid input type. Numbers required.\n",
            "Operation complete.\n"
          ]
        }
      ],
      "source": [
        "def divide_numbers(a, b):\n",
        "    try:\n",
        "        result = a / b  # Test this block for errors\n",
        "    except ZeroDivisionError:\n",
        "        print(\"Error: Cannot divide by zero!\")\n",
        "    except TypeError:\n",
        "        print(\"Error: Invalid input type. Numbers required.\")\n",
        "    except Exception as e:\n",
        "        print(\"Some Error occured\")\n",
        "    else:\n",
        "        print(f\"Division successful. Result: {result}\")\n",
        "    finally:\n",
        "        print(\"Operation complete.\")\n",
        "\n",
        "# Test cases\n",
        "divide_numbers(10, 2)  # Successful division\n",
        "divide_numbers(10, 0)  # ZeroDivisionError\n",
        "divide_numbers(10, \"2\")  # TypeError\n",
        "divide_numbers(9,\"o\")  # Exception"
      ]
    },
    {
      "cell_type": "markdown",
      "metadata": {
        "id": "73KlKTk5lJKK"
      },
      "source": [
        "## **Key Points Covered:**\n",
        "\n",
        "1.  try Block: Used to test a block of code for errors.\n",
        "2.  except Block: Used to handle specific or generic errors.\n",
        "3.  else Block: Executes when no errors occur in the try block.\n",
        "4.  finally Block: Executes regardless of whether an error occurred."
      ]
    },
    {
      "cell_type": "code",
      "execution_count": 19,
      "metadata": {
        "colab": {
          "base_uri": "https://localhost:8080/"
        },
        "id": "i_a23YZ7lUWr",
        "outputId": "a4f7919f-6c54-41c0-9373-cc2ca4da03ac"
      },
      "outputs": [
        {
          "name": "stdout",
          "output_type": "stream",
          "text": [
            "Calculated ratios: [1.5625, 1.65, 0.14285714285714285, 0.3953488372093023, 1.6481481481481481, 0.4305555555555556, 9.833333333333334, 0.5053763440860215, 12.333333333333334, 0.3877551020408163]\n",
            "Error: Number of samples must be a positive integer.\n",
            "Negative number of samples, data processing failed.\n",
            "Error: Number of samples must be a positive integer.\n",
            "Invalid input type, data processing failed.\n"
          ]
        }
      ],
      "source": [
        "# prompt: generate a learning code on error handling covering all the expects\n",
        "\n",
        "import random\n",
        "from typing import Tuple, Dict, List\n",
        "\n",
        "def generate_random_data(num_samples: int) -> List[Tuple[int, int]]:\n",
        "    \"\"\"Generates a list of random number pairs.\"\"\"\n",
        "    try:\n",
        "        if not isinstance(num_samples, int) or num_samples <= 0:\n",
        "            raise ValueError(\"Number of samples must be a positive integer.\")\n",
        "        data = [(random.randint(1, 100), random.randint(1, 100)) for _ in range(num_samples)]\n",
        "        return data\n",
        "    except ValueError as ve:\n",
        "        print(f\"Error: {ve}\")\n",
        "        return []  # Return empty list on error\n",
        "    except Exception as e: # Catch any other unexpected errors\n",
        "        print(f\"An unexpected error occurred: {e}\")\n",
        "        return []\n",
        "\n",
        "\n",
        "def calculate_ratios(data: List[Tuple[int, int]]) -> List[float]:\n",
        "    \"\"\"Calculates the ratio of the first number to the second in each pair.\"\"\"\n",
        "    ratios = []\n",
        "    try:\n",
        "        for pair in data:\n",
        "            num1, num2 = pair\n",
        "            if num2 == 0:\n",
        "                raise ZeroDivisionError(\"Cannot divide by zero.\")\n",
        "            if not isinstance(num1,int) or not isinstance(num2,int):\n",
        "                raise TypeError(\"Input data must be integers.\")\n",
        "            ratio = num1 / num2\n",
        "            ratios.append(ratio)\n",
        "        return ratios\n",
        "    except ZeroDivisionError as zde:\n",
        "        print(f\"Error: {zde}\")\n",
        "        return []  # Return empty list on error.\n",
        "    except TypeError as te:\n",
        "        print(f\"Error: {te}\")\n",
        "        return []\n",
        "    except Exception as e:\n",
        "        print(f\"An unexpected error occurred during ratio calculation: {e}\")\n",
        "        return []\n",
        "\n",
        "\n",
        "def process_data(num_samples: int) -> List[float]:\n",
        "    \"\"\"Combines data generation and ratio calculation with comprehensive error handling.\"\"\"\n",
        "\n",
        "    data = generate_random_data(num_samples)\n",
        "    if not data: # check if generate_random_data returns an empty list which means it had an error\n",
        "        return []\n",
        "\n",
        "    ratios = calculate_ratios(data)\n",
        "\n",
        "    return ratios\n",
        "\n",
        "# Example usage with error handling\n",
        "try:\n",
        "  num_samples = 10\n",
        "  results = process_data(num_samples)\n",
        "\n",
        "  if results:\n",
        "    print(\"Calculated ratios:\", results)\n",
        "  else: # if process_data returned an empty list it means there was some error\n",
        "      print(\"Data processing failed due to an error.\")\n",
        "\n",
        "except Exception as e: # catching unexpected errors\n",
        "    print(f\"An unexpected error occurred: {e}\")\n",
        "\n",
        "# example of invalid input\n",
        "results = process_data(-5)\n",
        "if not results:\n",
        "  print(\"Negative number of samples, data processing failed.\")\n",
        "\n",
        "results = process_data(\"abc\")\n",
        "if not results:\n",
        "    print(\"Invalid input type, data processing failed.\")\n",
        "\n",
        "\n"
      ]
    },
    {
      "cell_type": "markdown",
      "metadata": {
        "id": "wV5ZeYNtl1_T"
      },
      "source": [
        "## **Practice Problem:**\n",
        "\n",
        "Write a Python program that asks the user for two numbers and divides them. Use exception handling to catch any errors that might occur (e.g., division by zero or invalid input)."
      ]
    },
    {
      "cell_type": "code",
      "execution_count": 20,
      "metadata": {
        "colab": {
          "base_uri": "https://localhost:8080/"
        },
        "id": "06u4DmV9l6hc",
        "outputId": "66e30afd-41a4-4aa8-836e-4911e8c92488"
      },
      "outputs": [
        {
          "name": "stdout",
          "output_type": "stream",
          "text": [
            "The result is: 1.2857142857142858\n",
            "Thank you for using the program!\n"
          ]
        }
      ],
      "source": [
        "try:\n",
        "    num1 = float(input(\"Enter the first number: \"))\n",
        "    num2 = float(input(\"Enter the second number: \"))\n",
        "    result = num1 / num2\n",
        "except ValueError:\n",
        "    print(\"Error: Invalid input. Please enter numbers.\")\n",
        "except ZeroDivisionError:\n",
        "    print(\"Error: Cannot divide by zero.\")\n",
        "else:\n",
        "    print(f\"The result is: {result}\")\n",
        "finally:\n",
        "    print(\"Thank you for using the program!\")"
      ]
    },
    {
      "cell_type": "markdown",
      "metadata": {
        "id": "bfpTaYMtmGjr"
      },
      "source": [
        "* By following this tutorial, you should now have a solid understanding of how to handle exceptions in Python using try, except, else, and finally. Happy coding!\n",
        "\n",
        "* Now we will learn how to throw exception from a custome defined function.\n"
      ]
    },
    {
      "cell_type": "markdown",
      "metadata": {
        "id": "KB1BN-sr8v2j"
      },
      "source": [
        "## **How a Function Throws an Exception in Python?**\n",
        "\n",
        "In Python, a function can throw an exception using the raise keyword. This is used to indicate that an error has occurred, and it interrupts the normal flow of the program.\n",
        "\n",
        "### **When an exception is raised:**\n",
        "\n",
        "1.  Python immediately stops executing the function.\n",
        "2.  The error message is displayed unless the exception is handled using try-except.\n",
        "\n",
        "\n",
        "### **Basic Example of Throwing an Exception**"
      ]
    },
    {
      "cell_type": "code",
      "execution_count": 1,
      "metadata": {
        "colab": {
          "base_uri": "https://localhost:8080/",
          "height": 315
        },
        "id": "gPjh3YZj9Du5",
        "outputId": "c71e40a0-297e-4e0f-ba9d-c54a0512ca24"
      },
      "outputs": [
        {
          "name": "stdout",
          "output_type": "stream",
          "text": [
            "5.0\n"
          ]
        },
        {
          "ename": "ValueError",
          "evalue": "Division by zero is not allowed",
          "output_type": "error",
          "traceback": [
            "\u001b[31m---------------------------------------------------------------------------\u001b[39m",
            "\u001b[31mValueError\u001b[39m                                Traceback (most recent call last)",
            "\u001b[36mCell\u001b[39m\u001b[36m \u001b[39m\u001b[32mIn[1]\u001b[39m\u001b[32m, line 7\u001b[39m\n\u001b[32m      4\u001b[39m     \u001b[38;5;28;01mreturn\u001b[39;00m a / b\n\u001b[32m      6\u001b[39m \u001b[38;5;28mprint\u001b[39m(divide(\u001b[32m10\u001b[39m, \u001b[32m2\u001b[39m))  \u001b[38;5;66;03m# Output: 5.0\u001b[39;00m\n\u001b[32m----> \u001b[39m\u001b[32m7\u001b[39m \u001b[38;5;28mprint\u001b[39m(\u001b[43mdivide\u001b[49m\u001b[43m(\u001b[49m\u001b[32;43m5\u001b[39;49m\u001b[43m,\u001b[49m\u001b[43m \u001b[49m\u001b[32;43m0\u001b[39;49m\u001b[43m)\u001b[49m)   \u001b[38;5;66;03m# Raises: ValueError: Division by zero is not allowed!\u001b[39;00m\n",
            "\u001b[36mCell\u001b[39m\u001b[36m \u001b[39m\u001b[32mIn[1]\u001b[39m\u001b[32m, line 3\u001b[39m, in \u001b[36mdivide\u001b[39m\u001b[34m(a, b)\u001b[39m\n\u001b[32m      1\u001b[39m \u001b[38;5;28;01mdef\u001b[39;00m\u001b[38;5;250m \u001b[39m\u001b[34mdivide\u001b[39m(a, b):\n\u001b[32m      2\u001b[39m     \u001b[38;5;28;01mif\u001b[39;00m b == \u001b[32m0\u001b[39m:\n\u001b[32m----> \u001b[39m\u001b[32m3\u001b[39m         \u001b[38;5;28;01mraise\u001b[39;00m \u001b[38;5;167;01mValueError\u001b[39;00m(\u001b[33m\"\u001b[39m\u001b[33mDivision by zero is not allowed\u001b[39m\u001b[33m\"\u001b[39m)  \u001b[38;5;66;03m# Raising an exception\u001b[39;00m\n\u001b[32m      4\u001b[39m     \u001b[38;5;28;01mreturn\u001b[39;00m a / b\n",
            "\u001b[31mValueError\u001b[39m: Division by zero is not allowed"
          ]
        }
      ],
      "source": [
        "def divide(a, b):\n",
        "    if b == 0:\n",
        "        raise ValueError(\"Division by zero is not allowed\")  # Raising an exception\n",
        "    return a / b\n",
        "\n",
        "print(divide(10, 2))  # Output: 5.0\n",
        "print(divide(5, 0))   # Raises: ValueError: Division by zero is not allowed!\n"
      ]
    },
    {
      "cell_type": "markdown",
      "metadata": {
        "id": "SF9S93DW9VmU"
      },
      "source": [
        "🔹 In this example, if b == 0, we explicitly raise a ValueError.\n",
        "\n",
        "🔹 The function stops execution at raise and does not return anything.\n",
        "\n",
        "\n",
        "## **Handling the Exception with try-except**\n",
        "\n",
        "To prevent the program from crashing, we can use try-except to handle the exception."
      ]
    },
    {
      "cell_type": "code",
      "execution_count": 38,
      "metadata": {
        "colab": {
          "base_uri": "https://localhost:8080/"
        },
        "id": "jPpshFk29d6x",
        "outputId": "4641ce46-aa9e-43ae-8c54-119fda88e364"
      },
      "outputs": [
        {
          "name": "stdout",
          "output_type": "stream",
          "text": [
            "Error: Division by zero is not allowed!  <class 'ValueError'>\n",
            "Program continues...\n"
          ]
        }
      ],
      "source": [
        "def divide(a, b):\n",
        "    if b == 0:\n",
        "        raise ValueError(\"Division by zero is not allowed!\")\n",
        "    return a / b\n",
        "\n",
        "try:\n",
        "    result = divide(5, 0)  # This will raise an exception\n",
        "    print(result)  # This line won't run if exception occurs\n",
        "except ValueError as e:\n",
        "    print(f\"Error: {e} \", type(e))  # Output: Error: Division by zero is not allowed!\n",
        "\n",
        "print(\"Program continues...\")  # This line will always execute"
      ]
    },
    {
      "cell_type": "markdown",
      "metadata": {
        "id": "kX5ydrQh95lY"
      },
      "source": [
        "## **Throwing Custom Exceptions**\n",
        "\n",
        "Python also allows you to define custom exceptions by creating a new class that inherits from Exception."
      ]
    },
    {
      "cell_type": "code",
      "execution_count": null,
      "metadata": {
        "colab": {
          "base_uri": "https://localhost:8080/"
        },
        "id": "W1vC4zxN984R",
        "outputId": "ec63f187-6a92-4f09-886d-6626ccef05dd"
      },
      "outputs": [
        {
          "name": "stdout",
          "output_type": "stream",
          "text": [
            "Custom Exception Caught: Negative numbers are not allowed!  - Exception Class Type:  <class '__main__.NegativeNumberError'>\n"
          ]
        }
      ],
      "source": [
        "class NegativeNumberError(Exception):\n",
        "    \"\"\"Custom exception for negative numbers\"\"\"\n",
        "    pass\n",
        "\n",
        "def check_positive(n):\n",
        "    if n < 0:\n",
        "        raise NegativeNumberError(\"Negative numbers are not allowed!\")\n",
        "    return f\"{n} is positive\"\n",
        "\n",
        "try:\n",
        "    print(check_positive(-5))  # Raises NegativeNumberError\n",
        "except NegativeNumberError as e:\n",
        "    print(f\"Custom Exception Caught: {e}\", \" - Exception Class Type: \", type(e))  # Output: Custom Exception Caught: Negative numbers are not allowed!\n"
      ]
    },
    {
      "cell_type": "markdown",
      "metadata": {
        "id": "VzYerzll-bvo"
      },
      "source": [
        "## **Summary**\n",
        "\n",
        "✔ Use raise to throw an exception inside a function.\n",
        "\n",
        "✔ Use try-except to handle exceptions and prevent crashes.\n",
        "\n",
        "✔ Create custom exceptions by inheriting from Exception.\n",
        "\n"
      ]
    },
    {
      "cell_type": "markdown",
      "metadata": {
        "id": "WtnAaXfq_un4"
      },
      "source": [
        "## **Equivalent of throw and throws in Python**\n",
        "\n",
        "In Java, **throw** and **throws** are used for exception handling. Python doesn’t have a direct equivalent to throws, but throw is equivalent to Python's raise."
      ]
    },
    {
      "cell_type": "markdown",
      "metadata": {
        "id": "ZzhHuWA1AX2W"
      },
      "source": [
        "## **1️⃣ Equivalent of throw in Python → raise**\n",
        "\n",
        "* In Java, throw is used to explicitly raise an exception.\n",
        "* In Python, raise is used to do the same thing.\n",
        "\n",
        "\n",
        "## **2️⃣ Equivalent of throws in Python**\n",
        "\n",
        "* In Java, throws is used in method signatures to declare checked exceptions that the method might raise.\n",
        "\n",
        "* Python does not require explicit declaration of exceptions in function signatures.\n",
        "* However, you can document it using **`docstrings`** or **`type hints`**.\n",
        "\n",
        "<br>\n",
        "\n",
        "✔ Python doesn’t enforce throws, but you can document exceptions in docstrings or use type hints (NoReturn).\n",
        "\n",
        "\n"
      ]
    },
    {
      "cell_type": "markdown",
      "metadata": {
        "id": "1EvRKG81GReq"
      },
      "source": [
        "## **What is NoReturn?**\n",
        "\n",
        "**NoReturn** is a special type hint from Python's typing module. It is used to indicate that a function will not return normally. This means the function either:\n",
        "\n",
        "* Always raises an exception,\n",
        "\n",
        "* Enters an infinite loop,\n",
        "* Or otherwise never reaches the end of the function body to return a value.\n",
        "\n",
        "<br>\n",
        "\n",
        "## **When Would You Use NoReturn?**\n",
        "\n",
        "* Functions that Always Raise Exceptions:\n",
        "For example, a function that immediately raises an error can be annotated with NoReturn to signal that it doesn't produce a return value.\n",
        "\n",
        "* Infinite Loops:\n",
        "A function that runs forever (or until the program is terminated) is a candidate for NoReturn.\n",
        "\n",
        "<br>\n",
        "\n",
        "## **Example: Using NoReturn**\n",
        "\n"
      ]
    },
    {
      "cell_type": "code",
      "execution_count": 4,
      "metadata": {
        "colab": {
          "base_uri": "https://localhost:8080/"
        },
        "id": "GDsYD0OKG5x6",
        "outputId": "02941940-fe9a-4424-a3e3-8f96b43e2f9e"
      },
      "outputs": [
        {
          "name": "stdout",
          "output_type": "stream",
          "text": [
            "Program terminated: Terminating the program.\n"
          ]
        }
      ],
      "source": [
        "from typing import NoReturn\n",
        "\n",
        "def terminate_program() -> NoReturn:\n",
        "    \"\"\"Terminate the program by raising an exception.\"\"\"\n",
        "    raise SystemExit(\"Terminating the program.\")\n",
        "\n",
        "# When you call terminate_program, it never returns normally:\n",
        "try:\n",
        "    terminate_program()\n",
        "except SystemExit as e:\n",
        "    print(f\"Program terminated: {e}\")"
      ]
    },
    {
      "cell_type": "markdown",
      "metadata": {
        "id": "-MRAeIG8HClS"
      },
      "source": [
        "### **In this example:**\n",
        "\n",
        "* The function terminate_program() is annotated with -> NoReturn, indicating that it will not return normally.\n",
        "\n",
        "* Instead, it raises a SystemExit exception, causing the program to exit (or be caught as shown)."
      ]
    },
    {
      "cell_type": "markdown",
      "metadata": {
        "id": "xiJZl_mCHJ45"
      },
      "source": [
        "## **Why Use NoReturn?**\n",
        "\n",
        "* **Improved Readability**: It makes your intent clear to anyone reading your code.\n",
        "\n",
        "* **Better Static Analysis**: Tools like mypy can use these annotations to detect issues in your code, ensuring that functions marked with NoReturn truly do not return a value."
      ]
    },
    {
      "cell_type": "markdown",
      "metadata": {
        "id": "WSOgVlT_HZzq"
      },
      "source": [
        "Using `NoReturn` helps set clear expectations about a function's behavior, making your code more robust and easier to understand."
      ]
    },
    {
      "cell_type": "markdown",
      "metadata": {
        "id": "vhXUcwQeHiuB"
      },
      "source": [
        "## **Alternative to NoReturn in Python**\n",
        "\n",
        "\n",
        "`NoReturn` from the `typing module` is used to indicate that a function never returns normally. However, if you don’t want to use NoReturn, you have a few alternative approaches."
      ]
    },
    {
      "cell_type": "markdown",
      "metadata": {
        "id": "VSZzEfEnRVEK"
      },
      "source": [
        "## **1️⃣ Alternative: Using `None` Instead of `NoReturn`**\n",
        "\n",
        "If your function does not return any meaningful value but does not necessarily terminate the program (e.g., it performs logging, prints messages, etc.), you can use `None` as the return type `instead of NoReturn`.\n",
        "\n",
        "### **Example: Using None**"
      ]
    },
    {
      "cell_type": "code",
      "execution_count": 7,
      "metadata": {
        "colab": {
          "base_uri": "https://localhost:8080/"
        },
        "id": "8GwPbjOtRj1S",
        "outputId": "33fb1948-af9b-447a-a1f2-5d3153a31120"
      },
      "outputs": [
        {
          "name": "stdout",
          "output_type": "stream",
          "text": [
            "Error: Something went wrong!\n"
          ]
        }
      ],
      "source": [
        "def log_error(message: str) -> None:\n",
        "    \"\"\"Logs an error message but does not terminate the program.\"\"\"\n",
        "    print(f\"Error: {message}\")\n",
        "\n",
        "log_error(\"Something went wrong!\")"
      ]
    },
    {
      "cell_type": "markdown",
      "metadata": {
        "id": "9eDAE0jeRuMM"
      },
      "source": [
        "✔ Use -> None when the function completes execution but does not return a value.\n",
        "\n",
        "❌ Do NOT use -> None if the function always raises an exception or runs indefinitely."
      ]
    },
    {
      "cell_type": "markdown",
      "metadata": {
        "id": "EiyyEeXtR6Iy"
      },
      "source": [
        "## **2️⃣ Alternative: Omitting the Return Type Hint**\n",
        "\n",
        "Python does not require type hints, so if you are not using static type checking tools like mypy, you can simply omit the return type hint.\n",
        "\n",
        "### **Example: No Type Hint**"
      ]
    },
    {
      "cell_type": "code",
      "execution_count": null,
      "metadata": {
        "colab": {
          "base_uri": "https://localhost:8080/",
          "height": 124
        },
        "id": "rmlz96jvR-3J",
        "outputId": "23ebbdd7-1622-44c1-b210-d3cb45f1582a"
      },
      "outputs": [
        {
          "ename": "SystemExit",
          "evalue": "Program is terminating.",
          "output_type": "error",
          "traceback": [
            "An exception has occurred, use %tb to see the full traceback.\n",
            "\u001b[0;31mSystemExit\u001b[0m\u001b[0;31m:\u001b[0m Program is terminating.\n"
          ]
        },
        {
          "name": "stderr",
          "output_type": "stream",
          "text": [
            "/usr/local/lib/python3.11/dist-packages/IPython/core/interactiveshell.py:3561: UserWarning: To exit: use 'exit', 'quit', or Ctrl-D.\n",
            "  warn(\"To exit: use 'exit', 'quit', or Ctrl-D.\", stacklevel=1)\n"
          ]
        }
      ],
      "source": [
        "def terminate_program():\n",
        "    \"\"\"Terminates the program by raising an exception.\"\"\"\n",
        "    raise SystemExit(\"Program is terminating.\")\n",
        "\n",
        "terminate_program()"
      ]
    },
    {
      "cell_type": "markdown",
      "metadata": {
        "id": "IJjz5a1TSHzZ"
      },
      "source": [
        "✔ Works fine, but loses clarity for static analysis tools."
      ]
    },
    {
      "cell_type": "markdown",
      "metadata": {
        "id": "Zga81T-ZSl0i"
      },
      "source": [
        "## **When Should You Stick to NoReturn?**\n",
        "\n",
        "If you are using type checking tools like mypy, NoReturn is still the best choice for functions that:\n",
        "\n",
        "* Always raise an exception\n",
        "\n",
        "* Never return (e.g., an infinite loop)\n",
        "* Terminate the program (sys.exit())\n",
        "\n",
        "✅ But if you are not using static type checking, omitting the type hint or using None may be enough."
      ]
    }
  ],
  "metadata": {
    "colab": {
      "provenance": []
    },
    "kernelspec": {
      "display_name": "Python 3",
      "name": "python3"
    },
    "language_info": {
      "codemirror_mode": {
        "name": "ipython",
        "version": 3
      },
      "file_extension": ".py",
      "mimetype": "text/x-python",
      "name": "python",
      "nbconvert_exporter": "python",
      "pygments_lexer": "ipython3",
      "version": "3.13.2"
    }
  },
  "nbformat": 4,
  "nbformat_minor": 0
}
