{
  "cells": [
    {
      "cell_type": "markdown",
      "metadata": {
        "id": "38_QpUXJOAII"
      },
      "source": [
        "<font color=\"#a9a56c\" size=2> **@Author: Arif Kasim Rozani - (Team Operation Badar)** </font>"
      ]
    },
    {
      "cell_type": "markdown",
      "metadata": {
        "id": "U4O62nD57bIt"
      },
      "source": [
        "#File Handling in Python: A Comprehensive Tutorial with Examples\n",
        "\n",
        "File handling is essential for reading and writing data to files, enabling persistent storage. Python provides built-in functions and methods to handle files efficiently. This tutorial covers the fundamentals with examples.\n",
        "\n",
        "---------\n",
        "\n",
        "\n",
        "1. Opening a File\n",
        "  \n",
        "  Use the open() function to open a file. Specify the mode (read, write, append, etc.).\n",
        "\n",
        "\n",
        "* Modes:\n",
        "\n",
        "  * r: Read (default)\n",
        "\n",
        "  * w: Write (Opens the file for writing. Creates the file if it doesn't exist, or overwrites it if it does.)\n",
        "\n",
        "  * a: Append (Opens the file for appending. Creates the file if it doesn't exist, or adds to it if it does.)\n",
        "\n",
        "  * x: Exclusive creation (fails if file exists)\n",
        "\n",
        "  * b: Binary mode (Used with the other modes (e.g., \"rb\", \"wb\") for working with binary files.)\n",
        "\n",
        "  * +: Update mode (Can be combined with other modes (e.g., \"r+\", \"w+\") to allow both reading and writing.)\n",
        "<br>\n",
        "------------------\n",
        "<br>\n",
        "\n",
        "###OK, Let's create a file in Colab.\n",
        "\n",
        "<br>\n",
        "\n",
        "**`w: Write mode`**. Opens the file for writing. Creates the file if it doesn't exist, or overwrites it if it does."
      ]
    },
    {
      "cell_type": "code",
      "execution_count": 6,
      "metadata": {
        "id": "RkOEWcpAGYPq"
      },
      "outputs": [],
      "source": [
        "file = open(\"new_file.txt\", \"w\")"
      ]
    },
    {
      "cell_type": "markdown",
      "metadata": {
        "id": "ptU9D4FfHsOZ"
      },
      "source": [
        "###Writing to Files:\n",
        "\n",
        "To write to a file, open it in write (\"w\") or append (\"a\") mode.\n",
        "\n",
        "write(string): Writes the given string to the file."
      ]
    },
    {
      "cell_type": "code",
      "execution_count": 8,
      "metadata": {
        "id": "fFKCzAIf6io9"
      },
      "outputs": [],
      "source": [
        "file.write(\"Hello, world!\\n\")  # \\n creates a new line\n",
        "file.write(\"This is another line.\\n\")\n",
        "file.close()"
      ]
    },
    {
      "cell_type": "markdown",
      "metadata": {
        "id": "pZo2KjI6IAFw"
      },
      "source": [
        "writelines(list): Writes a list of strings to the file."
      ]
    },
    {
      "cell_type": "code",
      "execution_count": null,
      "metadata": {
        "id": "nPshU4pNID5Y"
      },
      "outputs": [
        {
          "ename": "AttributeError",
          "evalue": "'_io.TextIOWrapper' object has no attribute 'writeline'",
          "output_type": "error",
          "traceback": [
            "\u001b[31m---------------------------------------------------------------------------\u001b[39m",
            "\u001b[31mAttributeError\u001b[39m                            Traceback (most recent call last)",
            "\u001b[36mCell\u001b[39m\u001b[36m \u001b[39m\u001b[32mIn[9]\u001b[39m\u001b[32m, line 3\u001b[39m\n\u001b[32m      1\u001b[39m lines = [\u001b[33m\"\u001b[39m\u001b[33mLine 1: Karachi\u001b[39m\u001b[38;5;130;01m\\n\u001b[39;00m\u001b[33m\"\u001b[39m, \u001b[33m\"\u001b[39m\u001b[33mLine 2: Lahore\u001b[39m\u001b[38;5;130;01m\\n\u001b[39;00m\u001b[33m\"\u001b[39m, \u001b[33m\"\u001b[39m\u001b[33mLine 3: Peshawar\u001b[39m\u001b[38;5;130;01m\\n\u001b[39;00m\u001b[33m\"\u001b[39m]\n\u001b[32m      2\u001b[39m file = \u001b[38;5;28mopen\u001b[39m(\u001b[33m\"\u001b[39m\u001b[33mnew_file.txt\u001b[39m\u001b[33m\"\u001b[39m, \u001b[33m\"\u001b[39m\u001b[33ma\u001b[39m\u001b[33m\"\u001b[39m) \u001b[38;5;66;03m# run with mode w, and see the result\u001b[39;00m\n\u001b[32m----> \u001b[39m\u001b[32m3\u001b[39m \u001b[43mfile\u001b[49m\u001b[43m.\u001b[49m\u001b[43mwriteline\u001b[49m(lines)\n\u001b[32m      4\u001b[39m file.close()\n",
            "\u001b[31mAttributeError\u001b[39m: '_io.TextIOWrapper' object has no attribute 'writeline'"
          ]
        }
      ],
      "source": [
        "lines = [\"Line 1: Karachi\\n\", \"Line 2: Lahore\\n\", \"Line 3: Peshawar\\n\"]\n",
        "file = open(\"new_file.txt\", \"a\") # run with mode w, and see the result\n",
        "file.writelines(lines)\n",
        "file.close()"
      ]
    },
    {
      "cell_type": "code",
      "execution_count": 29,
      "metadata": {},
      "outputs": [],
      "source": [
        "lines = [\"Line 1: Karachi\\n\", \"Line 2: Lahore\\n\", \"Line 3: Peshawar\\n\"]\n",
        "file = open(\"new_file.txt\", \"w\") # run with mode w, and see the result\n",
        "file.writelines(lines)\n",
        "file.close()"
      ]
    },
    {
      "cell_type": "markdown",
      "metadata": {
        "id": "rGH0IR90I-EH"
      },
      "source": [
        "#### Uptill now we have created a file with 'w' & 'a' mode and also write some lines in it.\n",
        "\n",
        "#### Now let start reading the file what we have created earlier."
      ]
    },
    {
      "cell_type": "markdown",
      "metadata": {
        "id": "Mw_Efs3DKMrA"
      },
      "source": [
        "Run the below line of code and see the error 😞\n",
        "\n",
        "Explain why?"
      ]
    },
    {
      "cell_type": "code",
      "execution_count": 5,
      "metadata": {
        "id": "2GRRmp7OJmwf"
      },
      "outputs": [
        {
          "ename": "FileNotFoundError",
          "evalue": "[Errno 2] No such file or directory: 'my_file.txt'",
          "output_type": "error",
          "traceback": [
            "\u001b[31m---------------------------------------------------------------------------\u001b[39m",
            "\u001b[31mFileNotFoundError\u001b[39m                         Traceback (most recent call last)",
            "\u001b[36mCell\u001b[39m\u001b[36m \u001b[39m\u001b[32mIn[5]\u001b[39m\u001b[32m, line 1\u001b[39m\n\u001b[32m----> \u001b[39m\u001b[32m1\u001b[39m file = \u001b[38;5;28;43mopen\u001b[39;49m\u001b[43m(\u001b[49m\u001b[33;43m\"\u001b[39;49m\u001b[33;43mmy_file.txt\u001b[39;49m\u001b[33;43m\"\u001b[39;49m\u001b[43m,\u001b[49m\u001b[43m \u001b[49m\u001b[33;43m\"\u001b[39;49m\u001b[33;43mr\u001b[39;49m\u001b[33;43m\"\u001b[39;49m\u001b[43m)\u001b[49m  \u001b[38;5;66;03m# Opens \"my_file.txt\" in read mode (\"r\")\u001b[39;00m\n",
            "\u001b[36mFile \u001b[39m\u001b[32m~\\AppData\\Roaming\\Python\\Python313\\site-packages\\IPython\\core\\interactiveshell.py:325\u001b[39m, in \u001b[36m_modified_open\u001b[39m\u001b[34m(file, *args, **kwargs)\u001b[39m\n\u001b[32m    318\u001b[39m \u001b[38;5;28;01mif\u001b[39;00m file \u001b[38;5;129;01min\u001b[39;00m {\u001b[32m0\u001b[39m, \u001b[32m1\u001b[39m, \u001b[32m2\u001b[39m}:\n\u001b[32m    319\u001b[39m     \u001b[38;5;28;01mraise\u001b[39;00m \u001b[38;5;167;01mValueError\u001b[39;00m(\n\u001b[32m    320\u001b[39m         \u001b[33mf\u001b[39m\u001b[33m\"\u001b[39m\u001b[33mIPython won\u001b[39m\u001b[33m'\u001b[39m\u001b[33mt let you open fd=\u001b[39m\u001b[38;5;132;01m{\u001b[39;00mfile\u001b[38;5;132;01m}\u001b[39;00m\u001b[33m by default \u001b[39m\u001b[33m\"\u001b[39m\n\u001b[32m    321\u001b[39m         \u001b[33m\"\u001b[39m\u001b[33mas it is likely to crash IPython. If you know what you are doing, \u001b[39m\u001b[33m\"\u001b[39m\n\u001b[32m    322\u001b[39m         \u001b[33m\"\u001b[39m\u001b[33myou can use builtins\u001b[39m\u001b[33m'\u001b[39m\u001b[33m open.\u001b[39m\u001b[33m\"\u001b[39m\n\u001b[32m    323\u001b[39m     )\n\u001b[32m--> \u001b[39m\u001b[32m325\u001b[39m \u001b[38;5;28;01mreturn\u001b[39;00m \u001b[43mio_open\u001b[49m\u001b[43m(\u001b[49m\u001b[43mfile\u001b[49m\u001b[43m,\u001b[49m\u001b[43m \u001b[49m\u001b[43m*\u001b[49m\u001b[43margs\u001b[49m\u001b[43m,\u001b[49m\u001b[43m \u001b[49m\u001b[43m*\u001b[49m\u001b[43m*\u001b[49m\u001b[43mkwargs\u001b[49m\u001b[43m)\u001b[49m\n",
            "\u001b[31mFileNotFoundError\u001b[39m: [Errno 2] No such file or directory: 'my_file.txt'"
          ]
        }
      ],
      "source": [
        "file = open(\"my_file.txt\", \"r\")  # Opens \"my_file.txt\" in read mode (\"r\")"
      ]
    },
    {
      "cell_type": "markdown",
      "metadata": {
        "id": "rv4GOx2_Khu9"
      },
      "source": [
        "So lets correct the name of the file 😀"
      ]
    },
    {
      "cell_type": "code",
      "execution_count": 34,
      "metadata": {
        "id": "BesydjN0KZnt"
      },
      "outputs": [],
      "source": [
        "file = open(\"new_file.txt\", \"r\")  # Opens \"my_file.txt\" in read mode (\"r\")"
      ]
    },
    {
      "cell_type": "code",
      "execution_count": 18,
      "metadata": {
        "colab": {
          "base_uri": "https://localhost:8080/"
        },
        "id": "TprZH2EJJw7m",
        "outputId": "a67296f6-e948-4257-8488-6de6f160442a"
      },
      "outputs": [
        {
          "name": "stdout",
          "output_type": "stream",
          "text": [
            "\n"
          ]
        }
      ],
      "source": [
        "content = file.read()\n",
        "print(content)"
      ]
    },
    {
      "cell_type": "code",
      "execution_count": 36,
      "metadata": {
        "colab": {
          "base_uri": "https://localhost:8080/"
        },
        "id": "WjK-5IzdUPDP",
        "outputId": "37dd2450-304b-4a56-a43a-9bf43d540ad8"
      },
      "outputs": [
        {
          "name": "stdout",
          "output_type": "stream",
          "text": [
            "\n"
          ]
        }
      ],
      "source": [
        "line = file.readline()\n",
        "print(line)"
      ]
    },
    {
      "cell_type": "markdown",
      "metadata": {
        "id": "-c5gybV9XCML"
      },
      "source": [
        "####Nothing Printed ☹\n",
        "\n",
        "###Here you need to know the concept of file pointer\n",
        "\n",
        "---------\n",
        "\n",
        "In Python, a `file pointer` (also called a `file cursor` or `file position indicator`) is an internal marker that keeps track of the `current position` in a file where the next read or write operation will occur. When you open a file, the file pointer is initialized to a specific position (`usually 0, the beginning of the file`), and it moves automatically as you read from or write to the file.\n",
        "\n",
        "<br>\n",
        "\n",
        "Key Concepts:\n",
        "1. Starting Position:\n",
        "  * r (read mode): Pointer starts at 0 (beginning of the file).\n",
        "  * a (append mode): Pointer starts at the end of the file.\n",
        "  * w (write mode): The file is truncated (erased), and the pointer starts at 0.\n",
        "\n",
        "2. How It Moves:\n",
        "  * When you read/write data, the pointer moves forward by the number of bytes/characters processed.\n",
        "  * Example: Reading 10 characters moves the pointer 10 positions forward.\n",
        "\n",
        "3. Manual Control:\n",
        "  * Use seek(offset) to move the pointer to a specific byte position.\n",
        "  * Use tell() to check the current pointer position."
      ]
    },
    {
      "cell_type": "markdown",
      "metadata": {
        "id": "bBmv01OEZ37C"
      },
      "source": [
        "###Move pointer back to start."
      ]
    },
    {
      "cell_type": "code",
      "execution_count": 57,
      "metadata": {
        "colab": {
          "base_uri": "https://localhost:8080/"
        },
        "id": "6eA8yFsXZcgB",
        "outputId": "9f89d186-d4d0-4ce0-a543-562b6099cbe1"
      },
      "outputs": [
        {
          "data": {
            "text/plain": [
              "0"
            ]
          },
          "execution_count": 57,
          "metadata": {},
          "output_type": "execute_result"
        }
      ],
      "source": [
        "file.seek(0)"
      ]
    },
    {
      "cell_type": "markdown",
      "metadata": {
        "id": "PEJh0xZJaSPQ"
      },
      "source": [
        "###Check the file cursor/pointer position after running seek(0) method."
      ]
    },
    {
      "cell_type": "code",
      "execution_count": 67,
      "metadata": {
        "colab": {
          "base_uri": "https://localhost:8080/"
        },
        "id": "aRM8WZKIaI4K",
        "outputId": "2fcf37f7-80e6-4418-b231-493b925d42f6"
      },
      "outputs": [
        {
          "name": "stdout",
          "output_type": "stream",
          "text": [
            "Position after seek(0): 135\n"
          ]
        }
      ],
      "source": [
        "print(\"Position after seek(0):\", file.tell())"
      ]
    },
    {
      "cell_type": "code",
      "execution_count": 66,
      "metadata": {
        "colab": {
          "base_uri": "https://localhost:8080/"
        },
        "id": "JqtaayV0amfo",
        "outputId": "82597be8-8a51-4833-da24-8090d657f0eb"
      },
      "outputs": [
        {
          "name": "stdout",
          "output_type": "stream",
          "text": [
            "Line 2: Lahore\n",
            "\n"
          ]
        }
      ],
      "source": [
        "line = file.readline()\n",
        "print(line)"
      ]
    },
    {
      "cell_type": "markdown",
      "metadata": {
        "id": "isC3k3BAbOvI"
      },
      "source": [
        "### readlines(): Reads all lines into a list."
      ]
    },
    {
      "cell_type": "code",
      "execution_count": 71,
      "metadata": {
        "colab": {
          "base_uri": "https://localhost:8080/"
        },
        "id": "pIVxn3Q7bVwP",
        "outputId": "bd9c9f17-6de9-4865-d3bf-123b0e876023"
      },
      "outputs": [
        {
          "name": "stdout",
          "output_type": "stream",
          "text": [
            "Line 1: Karachi\n",
            "\n",
            "Line 2: Lahore\n",
            "\n",
            "Line 3: Peshawar\n",
            "\n",
            "Line 1: Karachi\n",
            "\n",
            "Line 2: Lahore\n",
            "\n",
            "Line 3: Peshawar\n",
            "\n",
            "Line 1: Karachi\n",
            "\n",
            "Line 2: Lahore\n",
            "\n",
            "Line 3: Peshawar\n",
            "\n",
            "Line 1: Karachi\n",
            "\n",
            "Line 2: Lahore\n",
            "\n",
            "Line 3: Peshawar\n",
            "\n"
          ]
        }
      ],
      "source": [
        "file.seek(0) # First move the pointer to the start\n",
        "\n",
        "lines = file.readlines()\n",
        "for line in lines:\n",
        "    print(line)"
      ]
    },
    {
      "cell_type": "code",
      "execution_count": 69,
      "metadata": {},
      "outputs": [
        {
          "data": {
            "text/plain": [
              "['Line 1: Karachi\\n',\n",
              " 'Line 2: Lahore\\n',\n",
              " 'Line 3: Peshawar\\n',\n",
              " 'Line 1: Karachi\\n',\n",
              " 'Line 2: Lahore\\n',\n",
              " 'Line 3: Peshawar\\n',\n",
              " 'Line 1: Karachi\\n',\n",
              " 'Line 2: Lahore\\n',\n",
              " 'Line 3: Peshawar\\n',\n",
              " 'Line 1: Karachi\\n',\n",
              " 'Line 2: Lahore\\n',\n",
              " 'Line 3: Peshawar\\n']"
            ]
          },
          "execution_count": 69,
          "metadata": {},
          "output_type": "execute_result"
        }
      ],
      "source": [
        "file.seek(0) # First move the pointer to the start\n",
        "\n",
        "lines = file.readlines()\n",
        "lines"
      ]
    },
    {
      "cell_type": "code",
      "execution_count": 72,
      "metadata": {
        "colab": {
          "base_uri": "https://localhost:8080/"
        },
        "id": "eGbq_oqYcEUf",
        "outputId": "b109338a-d8f4-4966-a4ba-d42cce423271"
      },
      "outputs": [
        {
          "name": "stdout",
          "output_type": "stream",
          "text": [
            "Line 1: Karachi\n",
            "Line 2: Lahore\n",
            "Line 3: Peshawar\n",
            "Line 1: Karachi\n",
            "Line 2: Lahore\n",
            "Line 3: Peshawar\n",
            "Line 1: Karachi\n",
            "Line 2: Lahore\n",
            "Line 3: Peshawar\n",
            "Line 1: Karachi\n",
            "Line 2: Lahore\n",
            "Line 3: Peshawar\n"
          ]
        }
      ],
      "source": [
        "file = open(\"new_file.txt\", \"r\")\n",
        "for line in file:  # Iterating directly over the file reads line by line\n",
        "    print(line.strip()) # .strip() removes leading/trailing whitespace"
      ]
    },
    {
      "cell_type": "markdown",
      "metadata": {
        "id": "6aC-xmhKcpT-"
      },
      "source": [
        "Closing Files:\n",
        "\n",
        "* It's crucial to close files after you're finished with them.  This releases system resources and ensures that data is properly written to the disk.  The `close()` method is used for this:"
      ]
    },
    {
      "cell_type": "code",
      "execution_count": null,
      "metadata": {
        "id": "V_pdojkeccNG"
      },
      "outputs": [],
      "source": [
        "file.close()"
      ]
    },
    {
      "cell_type": "markdown",
      "metadata": {
        "id": "EpPES2W4dZxA"
      },
      "source": [
        "### Additional Tips\n",
        "- Exclusive Creation (x mode):\n",
        "\n",
        "### Best Practices:\n",
        "- Use `with` for automatic cleanup.\n",
        "- Handle exceptions to avoid crashes."
      ]
    },
    {
      "cell_type": "code",
      "execution_count": 74,
      "metadata": {
        "colab": {
          "base_uri": "https://localhost:8080/"
        },
        "id": "48RhV8tMdjD9",
        "outputId": "2629cfad-78f4-4b8c-c41f-afb97418af53"
      },
      "outputs": [
        {
          "name": "stdout",
          "output_type": "stream",
          "text": [
            "File already exists.\n"
          ]
        }
      ],
      "source": [
        "try:\n",
        "    with open('unique.txt', 'x') as file:\n",
        "        file.write('Created exclusively!')\n",
        "except FileExistsError:\n",
        "    print(\"File already exists.\")"
      ]
    },
    {
      "cell_type": "markdown",
      "metadata": {
        "id": "uctnN03Ed9k1"
      },
      "source": [
        "### The `with` Statement (Context Manager):\n",
        "\n",
        "- The best practice for file handling is to use the `with` statement.  This ensures that the file is `automatically closed, even if errors occur`."
      ]
    },
    {
      "cell_type": "code",
      "execution_count": 75,
      "metadata": {
        "colab": {
          "base_uri": "https://localhost:8080/"
        },
        "id": "VOynBzbOeLY0",
        "outputId": "ac9c6e47-1536-45da-eddd-146ed7f1439f"
      },
      "outputs": [
        {
          "name": "stdout",
          "output_type": "stream",
          "text": [
            "Line 1: Karachi\n",
            "Line 2: Lahore\n",
            "Line 3: Peshawar\n",
            "Line 1: Karachi\n",
            "Line 2: Lahore\n",
            "Line 3: Peshawar\n",
            "Line 1: Karachi\n",
            "Line 2: Lahore\n",
            "Line 3: Peshawar\n",
            "Line 1: Karachi\n",
            "Line 2: Lahore\n",
            "Line 3: Peshawar\n",
            "\n"
          ]
        }
      ],
      "source": [
        "with open(\"new_file.txt\", \"r\") as file:\n",
        "    content = file.read()\n",
        "    print(content)\n",
        "# File is automatically closed here"
      ]
    },
    {
      "cell_type": "markdown",
      "metadata": {
        "id": "W3vYewaZedBk"
      },
      "source": [
        "The above cell use the `with` statement which close the file after use, let's validate it."
      ]
    },
    {
      "cell_type": "code",
      "execution_count": 76,
      "metadata": {
        "id": "IQWpdkk0eTIs"
      },
      "outputs": [
        {
          "ename": "ValueError",
          "evalue": "I/O operation on closed file.",
          "output_type": "error",
          "traceback": [
            "\u001b[31m---------------------------------------------------------------------------\u001b[39m",
            "\u001b[31mValueError\u001b[39m                                Traceback (most recent call last)",
            "\u001b[36mCell\u001b[39m\u001b[36m \u001b[39m\u001b[32mIn[76]\u001b[39m\u001b[32m, line 1\u001b[39m\n\u001b[32m----> \u001b[39m\u001b[32m1\u001b[39m \u001b[43mfile\u001b[49m\u001b[43m.\u001b[49m\u001b[43mtell\u001b[49m\u001b[43m(\u001b[49m\u001b[43m)\u001b[49m \u001b[38;5;66;03m# will produce error, file is already closed because of with statement\u001b[39;00m\n",
            "\u001b[31mValueError\u001b[39m: I/O operation on closed file."
          ]
        }
      ],
      "source": [
        "file.tell() # will produce error, file is already closed because of with statement"
      ]
    },
    {
      "cell_type": "markdown",
      "metadata": {
        "id": "hK7C3KechVYz"
      },
      "source": [
        "### Example: Copying a file"
      ]
    },
    {
      "cell_type": "code",
      "execution_count": null,
      "metadata": {
        "colab": {
          "base_uri": "https://localhost:8080/"
        },
        "id": "Fs2Kw0PGg6Hj",
        "outputId": "17ec3976-a5c8-496d-8bd9-5a874cfed44d"
      },
      "outputs": [
        {
          "name": "stdout",
          "output_type": "stream",
          "text": [
            "File 'unique.txt' copied to 'unique_copy.txt' successfully.\n"
          ]
        }
      ],
      "source": [
        "def copy_file(source_path, destination_path):\n",
        "    try:\n",
        "        with open(source_path, \"r\") as source_file, open(destination_path, \"w\") as dest_file:\n",
        "            for line in source_file:\n",
        "                dest_file.write(line)\n",
        "        print(f\"File '{source_path}' copied to '{destination_path}' successfully.\")\n",
        "    except FileNotFoundError:\n",
        "        print(f\"Error: Source file '{source_path}' not found.\")\n",
        "    except Exception as e:\n",
        "        print(f\"An error occurred: {e}\")\n",
        "\n",
        "copy_file(\"unique.txt\", \"unique_copy.txt\")"
      ]
    },
    {
      "cell_type": "markdown",
      "metadata": {
        "id": "dKGW7JOqhjEB"
      },
      "source": [
        "## Full Example: File Operations Demo"
      ]
    },
    {
      "cell_type": "code",
      "execution_count": 49,
      "metadata": {
        "colab": {
          "base_uri": "https://localhost:8080/"
        },
        "id": "rIj96znFhlUK",
        "outputId": "864318d9-d312-4745-a898-b379fbf4f27d"
      },
      "outputs": [
        {
          "name": "stdout",
          "output_type": "stream",
          "text": [
            "Content:\n",
            "Python File Handling\n",
            "Line 1\n",
            "Line 2\n",
            "\n",
            "First line: Python File Handling\n",
            "\n"
          ]
        }
      ],
      "source": [
        "# Create and write to a file\n",
        "with open('demo.txt', 'w') as file:\n",
        "    file.write('Python File Handling\\n')\n",
        "    file.write('Line 1\\nLine 2\\n')\n",
        "\n",
        "# Read and print content\n",
        "with open('demo.txt', 'r') as file:\n",
        "    print(\"Content:\")\n",
        "    print(file.read())\n",
        "\n",
        "# Append a new line\n",
        "with open('demo.txt', 'a') as file:\n",
        "    file.write('Appended line\\n')\n",
        "\n",
        "# Read lines using seek\n",
        "with open('demo.txt', 'a+') as file:\n",
        "    file.seek(0)\n",
        "    print(\"First line:\", file.readline())"
      ]
    },
    {
      "cell_type": "markdown",
      "metadata": {
        "id": "MqQpqp2uhxcC"
      },
      "source": [
        "# Conclusion\n",
        "- Python’s file handling is straightforward with **`open(), read(), write(), and close()`**. Always use the **`with`** statement for safety and leverage exception handling for robustness. Experiment with modes and methods to manage files effectively!"
      ]
    },
    {
      "cell_type": "code",
      "execution_count": null,
      "metadata": {
        "colab": {
          "base_uri": "https://localhost:8080/"
        },
        "id": "N2ouSgeU7zTW",
        "outputId": "21f077fa-5ffd-460b-b621-ee0067ece149"
      },
      "outputs": [
        {
          "name": "stdout",
          "output_type": "stream",
          "text": [
            "--- Full Content ---\n",
            "This is line 1.\n",
            "This is line 2.\n",
            "This is line 3.\n",
            "This is line 4.\n",
            "\n",
            "--- Line by Line ---\n",
            "This is line 1.\n",
            "This is line 2.\n",
            "This is line 3.\n",
            "This is line 4.\n",
            "\n",
            "--- Readline ---\n",
            "This is line 1.\n",
            "\n",
            "--- Readlines ---\n",
            "This is line 1.\n",
            "This is line 2.\n",
            "This is line 3.\n",
            "This is line 4.\n",
            "\n",
            "--- Seek and Tell ---\n",
            "Current position: 0\n",
            "First line: This is line 1.\n",
            "Current position: 16\n",
            "After seek(0): 0\n",
            "First line again: This is line 1.\n",
            "new_file.txt created successfully!\n",
            "'example.txt' successfully copied to 'example_copy.txt'\n"
          ]
        }
      ],
      "source": [
        "# prompt: generate a comprehensive example of file handling using all the functions\n",
        "\n",
        "# Create a file and write to it\n",
        "with open('example.txt', 'w') as f:\n",
        "  f.write(\"This is line 1.\\n\")\n",
        "  f.write(\"This is line 2.\\n\")\n",
        "  f.writelines([\"This is line 3.\\n\", \"This is line 4.\\n\"])\n",
        "\n",
        "# Read the file and print its content\n",
        "with open('example.txt', 'r') as f:\n",
        "  content = f.read()\n",
        "  print(\"--- Full Content ---\")\n",
        "  print(content)\n",
        "\n",
        "# Read the file line by line and print each line\n",
        "with open('example.txt', 'r') as f:\n",
        "  print(\"--- Line by Line ---\")\n",
        "  for line in f:\n",
        "    print(line, end='')\n",
        "\n",
        "# Read a single line\n",
        "with open('example.txt', 'r') as f:\n",
        "  print(\"\\n--- Readline ---\")\n",
        "  print(f.readline(), end='')\n",
        "\n",
        "# Read all lines into a list\n",
        "with open('example.txt', 'r') as f:\n",
        "  lines = f.readlines()\n",
        "  print(\"\\n--- Readlines ---\")\n",
        "  for line in lines:\n",
        "    print(line, end='')\n",
        "\n",
        "# Append to the file\n",
        "with open('example.txt', 'a') as f:\n",
        "  f.write(\"This is appended line 1.\\n\")\n",
        "  f.write(\"This is appended line 2.\\n\")\n",
        "\n",
        "# Reading with seek and tell\n",
        "with open('example.txt', 'r') as f:\n",
        "  print(\"\\n--- Seek and Tell ---\")\n",
        "  print(\"Current position:\", f.tell())\n",
        "  print(\"First line:\", f.readline(), end=\"\")\n",
        "  print(\"Current position:\", f.tell())\n",
        "  f.seek(0)\n",
        "  print(\"After seek(0):\", f.tell())\n",
        "  print(\"First line again:\", f.readline(), end=\"\")\n",
        "\n",
        "# Demonstrating 'x' mode (exclusive creation)\n",
        "try:\n",
        "    with open('new_file.txt', 'x') as f:\n",
        "        f.write(\"This is a new file created in 'x' mode.\")\n",
        "        print(\"new_file.txt created successfully!\")\n",
        "except FileExistsError:\n",
        "    print(\"File 'new_file.txt' already exists!\")\n",
        "\n",
        "# Copy file example\n",
        "def copy_file(source, destination):\n",
        "  try:\n",
        "    with open(source, 'r') as src, open(destination, 'w') as dest:\n",
        "      for line in src:\n",
        "        dest.write(line)\n",
        "      print(f\"'{source}' successfully copied to '{destination}'\")\n",
        "  except FileNotFoundError:\n",
        "    print(f\"Error: File not found '{source}'\")\n",
        "  except Exception as e:\n",
        "    print(f\"Error during copying: {e}\")\n",
        "\n",
        "copy_file(\"example.txt\", \"example_copy.txt\")\n"
      ]
    }
  ],
  "metadata": {
    "colab": {
      "provenance": []
    },
    "kernelspec": {
      "display_name": "Python 3",
      "name": "python3"
    },
    "language_info": {
      "codemirror_mode": {
        "name": "ipython",
        "version": 3
      },
      "file_extension": ".py",
      "mimetype": "text/x-python",
      "name": "python",
      "nbconvert_exporter": "python",
      "pygments_lexer": "ipython3",
      "version": "3.13.2"
    }
  },
  "nbformat": 4,
  "nbformat_minor": 0
}
