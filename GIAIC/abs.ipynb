{
 "cells": [
  {
   "cell_type": "code",
   "execution_count": 8,
   "metadata": {},
   "outputs": [
    {
     "name": "stdout",
     "output_type": "stream",
     "text": [
      "Parrot says Hello!\n",
      "Crow says Caw Caw!\n"
     ]
    },
    {
     "data": {
      "text/plain": [
       "'Parrot says Hello!'"
      ]
     },
     "execution_count": 8,
     "metadata": {},
     "output_type": "execute_result"
    }
   ],
   "source": [
    "class Bird:\n",
    "    def speak(self):\n",
    "        return \"Some sound\"\n",
    "\n",
    "class Parrot(Bird):\n",
    "    def speak(self):\n",
    "        return \"Parrot says Hello!\"\n",
    "\n",
    "class Crow(Bird):\n",
    "    def speak(self):\n",
    "        return \"Crow says Caw Caw!\"\n",
    "\n",
    "# Polymorphism in action\n",
    "birds = [Parrot(), Crow()]\n",
    "\n",
    "for bird in birds:\n",
    "    print(bird.speak())  # Output: Parrot says Hello! \\n Caw Caw!\n",
    "\n",
    "parrot = Parrot()\n",
    "parrot.speak()\n"
   ]
  },
  {
   "cell_type": "code",
   "execution_count": 3,
   "metadata": {},
   "outputs": [
    {
     "name": "stdout",
     "output_type": "stream",
     "text": [
      "<class '__main__.Dog'> :  Woof!\n",
      "<class '__main__.Cat'> :  Meow!\n"
     ]
    }
   ],
   "source": [
    "from abc import ABC, abstractmethod\n",
    "\n",
    "# Abstract class (Abstraction)\n",
    "class Animal(ABC):  \n",
    "    @abstractmethod\n",
    "    def speak(self) -> None:\n",
    "        pass  # Must be implemented by subclasses\n",
    "\n",
    "# Concrete class: Dog\n",
    "class Dog(Animal):  \n",
    "    def speak(self) -> None:\n",
    "        print(type(self), \":  Woof!\")  # Dog-specific implementation\n",
    "\n",
    "# Concrete class: Cat\n",
    "class Cat(Animal):  \n",
    "    def speak(self) -> None:\n",
    "        print(type(self), \":  Meow!\")  # Cat-specific implementation\n",
    "\n",
    "# Function using Polymorphism\n",
    "def animal_sound(animal: Animal) -> None:\n",
    "    animal.speak()  # Calls the correct method based on object type\n",
    "\n",
    "# Creating objects\n",
    "dog = Dog()\n",
    "cat = Cat()\n",
    "\n",
    "# Calling function with different objects (Polymorphism in action)\n",
    "animal_sound(dog)  # Output: <class '__main__.Dog'> :  Woof!\n",
    "animal_sound(cat)  # Output: <class '__main__.Cat'> :  Meow!\n"
   ]
  },
  {
   "cell_type": "code",
   "execution_count": null,
   "metadata": {},
   "outputs": [
    {
     "name": "stdout",
     "output_type": "stream",
     "text": [
      "<class '__main__.Dog'> :  Woof!\n",
      "<class '__main__.Cat'> :  Meow!\n"
     ]
    }
   ],
   "source": [
    "from abc import ABC, abstractmethod\n",
    "\n",
    "# Abstract class (Abstraction)\n",
    "class Animal(ABC):  \n",
    "    @abstractmethod\n",
    "    def speak(self) -> None:\n",
    "        pass  # Must be implemented by subclasses\n",
    "\n",
    "# Concrete class: Dog\n",
    "class Dog(Animal):  \n",
    "    def speak(self) -> None:\n",
    "        print(type(self), \":  Woof!\")  # Dog-specific implementation\n",
    "\n",
    "# Concrete class: Cat\n",
    "class Cat(Animal):  \n",
    "    def speak(self) -> None:\n",
    "        print(type(self), \":  Meow!\")  # Cat-specific implementation\n",
    "\n",
    "# Function using Polymorphism\n",
    "def animal_sound(animal: Animal) -> None:\n",
    "    animal.speak()  # Calls the correct method based on object type\n",
    "\n",
    "\n"
   ]
  },
  {
   "cell_type": "code",
   "execution_count": null,
   "metadata": {},
   "outputs": [
    {
     "name": "stdout",
     "output_type": "stream",
     "text": [
      "Buddy says Woof!\n",
      "Some sound\n"
     ]
    }
   ],
   "source": [
    "class Animal:\n",
    "    def __init__(self, name):\n",
    "        self.name = name\n",
    "\n",
    "    def speak(self):\n",
    "        return \"Some sound\"  # A default method\n",
    "\n",
    "class Dog(Animal):\n",
    "    def speak(self):\n",
    "        return f\"{self.name} says Woof!\"\n",
    "\n",
    "class Cat(Animal):\n",
    "    pass\n",
    "\n",
    "# Works fine without an abstract class\n",
    "dog = Dog(\"Buddy\")\n",
    "cat = Cat(\"Whiskers\")\n",
    "\n",
    "print(dog.speak())  # Output: Buddy says Woof!\n",
    "print(cat.speak())  # Output: Whiskers says Meow!\n"
   ]
  },
  {
   "cell_type": "code",
   "execution_count": null,
   "metadata": {},
   "outputs": [
    {
     "name": "stdout",
     "output_type": "stream",
     "text": [
      "Buddy says Woof!\n"
     ]
    },
    {
     "ename": "TypeError",
     "evalue": "Can't instantiate abstract class Cat without an implementation for abstract method 'speak'",
     "output_type": "error",
     "traceback": [
      "\u001b[31m---------------------------------------------------------------------------\u001b[39m",
      "\u001b[31mTypeError\u001b[39m                                 Traceback (most recent call last)",
      "\u001b[36mCell\u001b[39m\u001b[36m \u001b[39m\u001b[32mIn[17]\u001b[39m\u001b[32m, line 21\u001b[39m\n\u001b[32m     18\u001b[39m dog = Dog(\u001b[33m\"\u001b[39m\u001b[33mBuddy\u001b[39m\u001b[33m\"\u001b[39m)\n\u001b[32m     19\u001b[39m \u001b[38;5;28mprint\u001b[39m(dog.speak())  \u001b[38;5;66;03m# ✅ Works fine\u001b[39;00m\n\u001b[32m---> \u001b[39m\u001b[32m21\u001b[39m cat = \u001b[43mCat\u001b[49m\u001b[43m(\u001b[49m\u001b[33;43m\"\u001b[39;49m\u001b[33;43mWhiskers\u001b[39;49m\u001b[33;43m\"\u001b[39;49m\u001b[43m)\u001b[49m  \n\u001b[32m     22\u001b[39m \u001b[38;5;28mprint\u001b[39m(cat.speak())   \n",
      "\u001b[31mTypeError\u001b[39m: Can't instantiate abstract class Cat without an implementation for abstract method 'speak'"
     ]
    }
   ],
   "source": [
    "from abc import ABC, abstractmethod\n",
    "\n",
    "class Animal(ABC):\n",
    "    def __init__(self, name):\n",
    "        self.name = name\n",
    "\n",
    "    # @abstractmethod\n",
    "    def speak(self):  # Force subclasses to implement\n",
    "        return \"Some sound\"\n",
    "\n",
    "class Dog(Animal):\n",
    "    def speak(self):\n",
    "        return f\"{self.name} says Woof!\"\n",
    "\n",
    "class Cat(Animal):\n",
    "    pass\n",
    "\n",
    "dog = Dog(\"Buddy\")\n",
    "print(dog.speak())  # ✅ Works fine\n",
    "\n",
    "cat = Cat(\"Whiskers\")  \n",
    "print(cat.speak())   \n",
    "\n"
   ]
  },
  {
   "cell_type": "code",
   "execution_count": 13,
   "metadata": {},
   "outputs": [
    {
     "name": "stdout",
     "output_type": "stream",
     "text": [
      "Buddy says Woof!\n",
      "Whiskers makes an animal sound.\n"
     ]
    }
   ],
   "source": [
    "class Animal:\n",
    "    def __init__(self, name):\n",
    "        self.name = name\n",
    "\n",
    "    def speak(self):\n",
    "        return f\"{self.name} makes an animal sound.\"  # Default sound\n",
    "\n",
    "class Dog(Animal):\n",
    "    def speak(self):\n",
    "        return f\"{self.name} says Woof!\"\n",
    "\n",
    "class Cat(Animal):\n",
    "    pass  # No speak() method defined, so it will use Animal's speak()\n",
    "\n",
    "# Create instances\n",
    "dog = Dog(\"Buddy\")\n",
    "cat = Cat(\"Whiskers\")\n",
    "\n",
    "# Call speak()\n",
    "print(dog.speak())  # Output: Buddy says Woof!\n",
    "print(cat.speak())  # Output: Whiskers makes an animal sound.\n"
   ]
  }
 ],
 "metadata": {
  "kernelspec": {
   "display_name": "Python 3",
   "language": "python",
   "name": "python3"
  },
  "language_info": {
   "codemirror_mode": {
    "name": "ipython",
    "version": 3
   },
   "file_extension": ".py",
   "mimetype": "text/x-python",
   "name": "python",
   "nbconvert_exporter": "python",
   "pygments_lexer": "ipython3",
   "version": "3.13.2"
  }
 },
 "nbformat": 4,
 "nbformat_minor": 2
}
