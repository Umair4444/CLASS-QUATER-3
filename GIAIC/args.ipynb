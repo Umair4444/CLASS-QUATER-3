{
 "cells": [
  {
   "cell_type": "code",
   "execution_count": 1,
   "metadata": {},
   "outputs": [
    {
     "name": "stdout",
     "output_type": "stream",
     "text": [
      "(1, 2, 3, 4)\n",
      "<class 'tuple'>\n",
      "1 2 3 4\n",
      "10\n"
     ]
    }
   ],
   "source": [
    "def add_numbers(*args):\n",
    "    print(args)  # args is a tuple\n",
    "    print(type(args))  # args is a tuple\n",
    "    print(*args)\n",
    "    return sum(args)\n",
    "\n",
    "print(add_numbers(1, 2, 3, 4))  \n"
   ]
  },
  {
   "cell_type": "code",
   "execution_count": 2,
   "metadata": {},
   "outputs": [
    {
     "name": "stdout",
     "output_type": "stream",
     "text": [
      "10 [20, 30, 40] 50\n"
     ]
    }
   ],
   "source": [
    "first, *middle, last = [10, 20, 30, 40, 50]\n",
    "print(first, middle, last)"
   ]
  },
  {
   "cell_type": "code",
   "execution_count": 3,
   "metadata": {},
   "outputs": [
    {
     "name": "stdout",
     "output_type": "stream",
     "text": [
      "10 [20, 30, 40] 50\n"
     ]
    }
   ],
   "source": [
    "first, *middle, last = (10, 20, 30, 40, 50)\n",
    "print(first, middle, last)\n"
   ]
  },
  {
   "cell_type": "code",
   "execution_count": 11,
   "metadata": {},
   "outputs": [
    {
     "name": "stdout",
     "output_type": "stream",
     "text": [
      "{'name': 'Alice', 'age': 22, 'grade': 'A'}\n",
      "<class 'dict'>\n",
      "name: Alice\n",
      "age: 22\n",
      "grade: A\n"
     ]
    }
   ],
   "source": [
    "def student_info(**kwargs):\n",
    "    print(kwargs)  # kwargs is a dictionary\n",
    "    print(type(kwargs))  # kwargs is a dictionary\n",
    "    # print(**kwargs) error\n",
    "\n",
    "    # Correct way to print key-value pairs\n",
    "    for key, value in kwargs.items():\n",
    "        print(f\"{key}: {value}\")\n",
    "\n",
    "student_info(name=\"Alice\", age=22, grade=\"A\")\n"
   ]
  },
  {
   "cell_type": "code",
   "execution_count": 15,
   "metadata": {},
   "outputs": [
    {
     "name": "stdout",
     "output_type": "stream",
     "text": [
      "Name: John, Age: 30\n",
      "<class 'str'>\n",
      "<class 'int'>\n"
     ]
    }
   ],
   "source": [
    "data = {\"name\": \"John\", \"age\": 30}\n",
    "# print(**data)  # This won't work alone, but inside functions it does\n",
    "\n",
    "def show_info(name, age):\n",
    "    print(f\"Name: {name}, Age: {age}\")\n",
    "    print(type(name))  # name is a string\n",
    "    print(type(age))  # age is an int\n",
    "\n",
    "show_info(**data)  "
   ]
  },
  {
   "cell_type": "code",
   "execution_count": 42,
   "metadata": {},
   "outputs": [
    {
     "name": "stdout",
     "output_type": "stream",
     "text": [
      "dict: {'apple': 5, 'banana': 2, 'cherry': 8, 'date': 1}\n",
      "unpack dict: {'apple': 5, 'banana': 2, 'cherry': 8, 'date': 1}\n"
     ]
    }
   ],
   "source": [
    "my_dict = {\"apple\": 5, \"banana\": 2, \"cherry\": 8, \"date\": 1}\n",
    "\n",
    "print(\"dict:\", my_dict)\n",
    "print(\"unpack dict:\", {**my_dict})\n"
   ]
  },
  {
   "cell_type": "code",
   "execution_count": 22,
   "metadata": {},
   "outputs": [
    {
     "name": "stdout",
     "output_type": "stream",
     "text": [
      "new dict: {'apple': 5, 'banana': 2, 'cherry': 8, 'date': 1}\n",
      "<class 'dict'>\n"
     ]
    }
   ],
   "source": [
    "new_dict = {key: value for key, value in my_dict.items()}\n",
    "print(\"new dict:\", new_dict)\n",
    "print(type(new_dict))\n"
   ]
  },
  {
   "cell_type": "code",
   "execution_count": 18,
   "metadata": {},
   "outputs": [
    {
     "name": "stdout",
     "output_type": "stream",
     "text": [
      "{'a': 1, 'b': 2, 'c': 3, 'd': 4}\n"
     ]
    }
   ],
   "source": [
    "dict1 = {\"a\": 1, \"b\": 2}\n",
    "dict2 = {\"c\": 3, \"d\": 4}\n",
    "\n",
    "merged_dict = {**dict1, **dict2}\n",
    "print(merged_dict)\n"
   ]
  },
  {
   "cell_type": "code",
   "execution_count": 44,
   "metadata": {},
   "outputs": [
    {
     "ename": "NameError",
     "evalue": "name 'gen' is not defined",
     "output_type": "error",
     "traceback": [
      "\u001b[31m---------------------------------------------------------------------------\u001b[39m",
      "\u001b[31mNameError\u001b[39m                                 Traceback (most recent call last)",
      "\u001b[36mCell\u001b[39m\u001b[36m \u001b[39m\u001b[32mIn[44]\u001b[39m\u001b[32m, line 1\u001b[39m\n\u001b[32m----> \u001b[39m\u001b[32m1\u001b[39m \u001b[38;5;28mtype\u001b[39m(\u001b[43mgen\u001b[49m)\n",
      "\u001b[31mNameError\u001b[39m: name 'gen' is not defined"
     ]
    }
   ],
   "source": [
    "type(gen)"
   ]
  },
  {
   "cell_type": "code",
   "execution_count": 13,
   "metadata": {},
   "outputs": [
    {
     "name": "stdout",
     "output_type": "stream",
     "text": [
      "<class 'generator'>\n",
      "0  :  <class 'int'>\n",
      "1  :  <class 'int'>\n",
      "2  :  <class 'int'>\n",
      "3  :  <class 'int'>\n",
      "4  :  <class 'int'>\n"
     ]
    }
   ],
   "source": [
    "# Generator expression\n",
    "# gen = (x * x for x in range(5))\n",
    "gen = (i for i in range(5))\n",
    "print(type(gen))\n",
    "\n",
    "# Iterate over the generator\n",
    "for value in gen:\n",
    "    print(value, \" : \", type(value))"
   ]
  }
 ],
 "metadata": {
  "kernelspec": {
   "display_name": "Python 3",
   "language": "python",
   "name": "python3"
  },
  "language_info": {
   "codemirror_mode": {
    "name": "ipython",
    "version": 3
   },
   "file_extension": ".py",
   "mimetype": "text/x-python",
   "name": "python",
   "nbconvert_exporter": "python",
   "pygments_lexer": "ipython3",
   "version": "3.13.2"
  }
 },
 "nbformat": 4,
 "nbformat_minor": 2
}
