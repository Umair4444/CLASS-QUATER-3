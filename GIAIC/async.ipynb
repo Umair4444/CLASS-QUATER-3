{
 "cells": [
  {
   "cell_type": "code",
   "execution_count": 25,
   "metadata": {},
   "outputs": [
    {
     "name": "stdout",
     "output_type": "stream",
     "text": [
      "Synchronous approach:\n",
      "1743590594.550246\n",
      "1743590594.550519\n",
      "Main thread entring order_sync()\n",
      "\tMaking coffee... : Thread Name: MainThread\n",
      "\tCoffee is ready!\n",
      "\tMaking pastry... : Thread Name: MainThread\n",
      "\tPastry is ready!\n",
      "Main thread exiting order_sync()\n",
      "start time: 1743590594.550246 seconds\n",
      "end time: 1743590599.6432025 seconds\n",
      "Total time: 5.093106031417847 seconds\n",
      "\n",
      "Asynchronous approach:\n",
      "1743590599.645597\n",
      "1743590599.6463943\n",
      "Main thread entring order_async()\n",
      "start\n",
      "\tMaking coffee... : Thread Name: MainThread\n",
      "\tMaking pastry... : Thread Name: MainThread\n",
      "\tCoffee is ready!\n",
      "\tPastry is ready!\n",
      "end\n",
      "Main thread exiting order_async()\n",
      "Total time: 10.011295080184937 seconds\n"
     ]
    }
   ],
   "source": [
    "import asyncio\n",
    "import time\n",
    "import threading\n",
    "\n",
    "# Synchronous approach\n",
    "def make_coffee_sync():\n",
    "    print(f\"\\tMaking coffee... : Thread Name: {threading.current_thread().name}\")\n",
    "    time.sleep(2)  # Simulate coffee preparation time\n",
    "    print(\"\\tCoffee is ready!\")\n",
    "\n",
    "def make_pastry_sync():\n",
    "    print(f\"\\tMaking pastry... : Thread Name: {threading.current_thread().name}\")\n",
    "    time.sleep(3)  # Simulate pastry preparation time\n",
    "    print(\"\\tPastry is ready!\")\n",
    "\n",
    "def order_sync():\n",
    "    make_coffee_sync()\n",
    "    make_pastry_sync()\n",
    "\n",
    "# Asynchronous approach using Asyncio\n",
    "async def make_coffee_async():\n",
    "    print(f\"\\tMaking coffee... : Thread Name: {threading.current_thread().name}\")\n",
    "    await asyncio.sleep(4)  # Simulate coffee preparation time\n",
    "    print(\"\\tCoffee is ready!\")\n",
    "\n",
    "async def make_pastry_async():\n",
    "    print(f\"\\tMaking pastry... : Thread Name: {threading.current_thread().name}\")\n",
    "    await asyncio.sleep(10)  # Simulate pastry preparation time\n",
    "    print(\"\\tPastry is ready!\")\n",
    "\n",
    "async def order_async():\n",
    "    print(\"start\")\n",
    "    tasks = [\n",
    "        asyncio.create_task(make_coffee_async()),  # Creates a background task\n",
    "        asyncio.create_task(make_pastry_async())   # Runs both tasks concurrently\n",
    "    ]\n",
    "    await asyncio.gather(*tasks)  # Waits for both tasks to finish\n",
    "    print(\"end\")\n",
    "\n",
    "# Run the synchronous example\n",
    "print(\"Synchronous approach:\")\n",
    "start_time = time.time()\n",
    "print(start_time)\n",
    "print(time.time())\n",
    "\n",
    "print(\"Main thread entring order_sync()\")\n",
    "order_sync()\n",
    "print(\"Main thread exiting order_sync()\")\n",
    "\n",
    "print(f\"start time: {start_time} seconds\")\n",
    "print(f\"end time: {time.time()} seconds\")\n",
    "print(f\"Total time: {time.time() - start_time} seconds\")\n",
    "\n",
    "# Run the asynchronous example\n",
    "print(\"\\nAsynchronous approach:\")\n",
    "start_time = time.time()\n",
    "print(start_time)\n",
    "print(time.time())\n",
    "\n",
    "\n",
    "\n",
    "print(\"Main thread entring order_async()\")\n",
    "# asyncio.run(order_async()) # This will work in stand alone IDE (VSCode, Cursor)\n",
    "\n",
    "# # Instead of creating and setting a new event loop,\n",
    "# # get the current running loop in the notebook\n",
    "await order_async()  \n",
    "# await asyncio.create_task(order_async()) # Workaround for Colab, # Option 2: schedule as a background task\n",
    "# # Use asyncio.run or create_task to schedule your coroutine\n",
    "# # within the existing event loop\n",
    "# # asyncio.run(order_async()) # Option 1: if no other async tasks are running\n",
    "# # You should not try to create a new event loop or set it as the running loop within a Jupyter Notebook.\n",
    "print(\"Main thread exiting order_async()\")\n",
    "\n",
    "print(f\"Total time: {time.time() - start_time} seconds\")"
   ]
  },
  {
   "cell_type": "code",
   "execution_count": 17,
   "metadata": {},
   "outputs": [
    {
     "name": "stdout",
     "output_type": "stream",
     "text": [
      "[['__annotations__', '__builtins__', '__call__', '__class__', '__closure__', '__code__', '__defaults__', '__delattr__', '__dict__', '__dir__', '__doc__', '__eq__', '__format__', '__ge__', '__get__', '__getattribute__', '__getstate__', '__globals__', '__gt__', '__hash__', '__init__', '__init_subclass__', '__kwdefaults__', '__le__', '__lt__', '__module__', '__name__', '__ne__', '__new__', '__qualname__', '__reduce__', '__reduce_ex__', '__repr__', '__setattr__', '__sizeof__', '__str__', '__subclasshook__', '__type_params__']]\n",
      "[['Barrier', 'BoundedSemaphore', 'BrokenBarrierError', 'Condition', 'Event', 'ExceptHookArgs', 'Lock', 'RLock', 'Semaphore', 'TIMEOUT_MAX', 'Thread', 'ThreadError', 'Timer', 'WeakSet', '_CRLock', '_DeleteDummyThreadOnDel', '_DummyThread', '_HAVE_THREAD_NATIVE_ID', '_LockType', '_MainThread', '_PyRLock', '_RLock', '_SHUTTING_DOWN', '_ThreadHandle', '__all__', '__builtins__', '__cached__', '__doc__', '__excepthook__', '__file__', '__loader__', '__name__', '__package__', '__spec__', '_active', '_active_limbo_lock', '_after_fork', '_allocate_lock', '_count', '_counter', '_daemon_threads_allowed', '_dangling', '_deque', '_enumerate', '_get_main_thread_ident', '_is_main_interpreter', '_limbo', '_main_thread', '_make_invoke_excepthook', '_make_thread_handle', '_newname', '_os', '_profile_hook', '_register_atexit', '_shutdown', '_start_joinable_thread', '_sys', '_thread_local_info', '_thread_shutdown', '_threading_atexits', '_time', '_trace_hook', 'activeCount', 'active_count', 'currentThread', 'current_thread', 'enumerate', 'excepthook', 'get_ident', 'get_native_id', 'getprofile', 'gettrace', 'local', 'main_thread', 'setprofile', 'setprofile_all_threads', 'settrace', 'settrace_all_threads', 'stack_size', 'warnings']]\n"
     ]
    }
   ],
   "source": [
    "print([dir(threading.current_thread)])\n",
    "print([dir(threading)])\n"
   ]
  }
 ],
 "metadata": {
  "kernelspec": {
   "display_name": "Python 3",
   "language": "python",
   "name": "python3"
  },
  "language_info": {
   "codemirror_mode": {
    "name": "ipython",
    "version": 3
   },
   "file_extension": ".py",
   "mimetype": "text/x-python",
   "name": "python",
   "nbconvert_exporter": "python",
   "pygments_lexer": "ipython3",
   "version": "3.13.2"
  }
 },
 "nbformat": 4,
 "nbformat_minor": 2
}
