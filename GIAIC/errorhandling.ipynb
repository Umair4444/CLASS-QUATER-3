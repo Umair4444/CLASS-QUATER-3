{
 "cells": [
  {
   "cell_type": "code",
   "execution_count": 34,
   "id": "631e6515",
   "metadata": {},
   "outputs": [
    {
     "data": {
      "text/plain": [
       "[(4, 60), (68, 87)]"
      ]
     },
     "execution_count": 34,
     "metadata": {},
     "output_type": "execute_result"
    }
   ],
   "source": [
    "import random\n",
    "from typing import Tuple, Dict, List\n",
    "\n",
    "def generate_random_data(num_samples: int) -> List[Tuple[int, int]]:\n",
    "    \"\"\"Generates a list of random number pairs.\"\"\"\n",
    "    try:\n",
    "        if not isinstance(num_samples, int) or num_samples <= 0:\n",
    "            raise ValueError(\"Number of samples must be a positive integer.\")\n",
    "        data = [(random.randint(1, 100), random.randint(1, 100)) for _ in range(num_samples)]\n",
    "        return data\n",
    "    except ValueError as ve:\n",
    "        print(f\"Error: {ve}\")\n",
    "        return []  # Return empty list on error\n",
    "    except Exception as e: # Catch any other unexpected errors\n",
    "        print(f\"An unexpected error occurred: {e}\")\n",
    "        return []\n",
    "\n",
    "generate_random_data(2)"
   ]
  },
  {
   "cell_type": "code",
   "execution_count": 45,
   "id": "e3a63d2b",
   "metadata": {},
   "outputs": [
    {
     "data": {
      "text/plain": [
       "[(8, 20, 4), (4, 13, 5), (8, 18, 6), (4, 15, 7), (10, 20, 8), (9, 14, 9)]"
      ]
     },
     "execution_count": 45,
     "metadata": {},
     "output_type": "execute_result"
    }
   ],
   "source": [
    "data = [(random.randint(1,10),random.randint(10,20),i) for i in range(4,10)]\n",
    "\n",
    "data"
   ]
  },
  {
   "cell_type": "code",
   "execution_count": null,
   "id": "dcfcc917",
   "metadata": {},
   "outputs": [
    {
     "name": "stdout",
     "output_type": "stream",
     "text": [
      "234\n"
     ]
    }
   ],
   "source": [
    "num = True\n",
    "def obj():\n",
    "    if isinstance(num,int):\n",
    "        # return print(\"num\")\n",
    "        if num == 1:\n",
    "            return print(\"1\")\n",
    "        elif num == 0:\n",
    "            return print(\"0\")\n",
    "        else:\n",
    "            return print(num)\n",
    "\n",
    "    elif isinstance(num,str):\n",
    "        return print(\"string\")\n",
    "    elif isinstance(num,list):\n",
    "        return print(\"list\")\n",
    "    elif isinstance(num,bool):\n",
    "        return print(\"Boolean\")\n",
    "    else:\n",
    "        return print(\"error occured\")\n",
    "    \n",
    "obj()\n",
    "\n"
   ]
  }
 ],
 "metadata": {
  "kernelspec": {
   "display_name": "Python 3",
   "language": "python",
   "name": "python3"
  },
  "language_info": {
   "codemirror_mode": {
    "name": "ipython",
    "version": 3
   },
   "file_extension": ".py",
   "mimetype": "text/x-python",
   "name": "python",
   "nbconvert_exporter": "python",
   "pygments_lexer": "ipython3",
   "version": "3.13.2"
  }
 },
 "nbformat": 4,
 "nbformat_minor": 5
}
