{
 "cells": [
  {
   "cell_type": "code",
   "execution_count": 3,
   "id": "7d1d8f61",
   "metadata": {},
   "outputs": [
    {
     "data": {
      "text/plain": [
       "100"
      ]
     },
     "execution_count": 3,
     "metadata": {},
     "output_type": "execute_result"
    }
   ],
   "source": [
    "my_add = lambda x , y : x + y\n",
    "\n",
    "my_add(10,90)"
   ]
  },
  {
   "cell_type": "code",
   "execution_count": 4,
   "id": "ae52c511",
   "metadata": {},
   "outputs": [
    {
     "data": {
      "text/plain": [
       "'hello World'"
      ]
     },
     "execution_count": 4,
     "metadata": {},
     "output_type": "execute_result"
    }
   ],
   "source": [
    "lambda_greeting = lambda : \"hello World\"\n",
    "\n",
    "lambda_greeting()"
   ]
  },
  {
   "cell_type": "code",
   "execution_count": 6,
   "id": "a65a6e3c",
   "metadata": {},
   "outputs": [
    {
     "data": {
      "text/plain": [
       "'my name is Umair'"
      ]
     },
     "execution_count": 6,
     "metadata": {},
     "output_type": "execute_result"
    }
   ],
   "source": [
    "user_input = input(\"Enter your name\")\n",
    "\n",
    "my_name = lambda name : f\"my name is {name}\" \n",
    "\n",
    "my_name(user_input)"
   ]
  },
  {
   "cell_type": "code",
   "execution_count": 81,
   "id": "f105776d",
   "metadata": {},
   "outputs": [
    {
     "data": {
      "text/plain": [
       "{'date': 1, 'banana': 2, 'melon': 3, 'apple': 5, 'cherry': 8}"
      ]
     },
     "execution_count": 81,
     "metadata": {},
     "output_type": "execute_result"
    }
   ],
   "source": [
    "my_dict = {\"apple\": 5, \"banana\": 2, \"melon\" : 3, \"cherry\": 8, \"date\": 1}\n",
    "\n",
    "# sorted_dict = dict(sorted(my_dict.items(), key=lambda item: item[1])) # sort vale in aesc\n",
    "# sorted_dict = dict(sorted(my_dict.items(), key=lambda key : key[1], reverse=True)) # sort values in desc\n",
    "# sorted_dict = dict(sorted(my_dict.items(), key=lambda key : key[1])) # sort value in aesc\n",
    "# sorted_dict = dict(sorted(my_dict.items(), key=lambda key : key)) # sort key in aesc\n",
    "# sorted_dict = dict(sorted(my_dict.items(), key=lambda key : key,reverse=True)) # sort key in desc\n",
    "\n",
    "# sorted_dict = sorted(my_dict.items(), key= lambda lock : lock[1])\n",
    "# sorted_dict = sorted(my_dict.items(), key= lambda ind : ind,reverse=True)\n",
    "\n",
    "sorted_dict = sorted(my_dict.items(), key= lambda ind : ind[1])\n",
    "\n",
    "# sorted_dict = dict(sorted(my_dict.items(),reverse=True)) # reverse the sort\n",
    "\n",
    "new_dict = dict(sorted_dict)\n",
    "new_dict\n",
    "\n",
    "# sorted_dict\n",
    "\n",
    "# sorted(my_dict[\"apple\"], key= lambda k : k) # error"
   ]
  },
  {
   "cell_type": "code",
   "execution_count": 82,
   "id": "15485378",
   "metadata": {},
   "outputs": [
    {
     "name": "stdout",
     "output_type": "stream",
     "text": [
      "1\n",
      "2\n"
     ]
    },
    {
     "data": {
      "text/plain": [
       "[3, 4]"
      ]
     },
     "execution_count": 82,
     "metadata": {},
     "output_type": "execute_result"
    }
   ],
   "source": [
    "def generator_func():\n",
    "    yield 1\n",
    "    yield 2\n",
    "    yield 3\n",
    "    yield 4\n",
    "\n",
    "gena = generator_func()\n",
    "\n",
    "print(next(gena))\n",
    "print(next(gena))\n",
    "# print(next(gena))\n",
    "# print(next(gena))\n",
    "\n",
    "res = [i for i in gena]\n",
    "res\n",
    "\n",
    "# next(gena) # error because iteration is stopped\n",
    "    \n"
   ]
  },
  {
   "cell_type": "code",
   "execution_count": 118,
   "id": "58239f00",
   "metadata": {},
   "outputs": [
    {
     "name": "stdout",
     "output_type": "stream",
     "text": [
      "2, 3, 4, 5, "
     ]
    }
   ],
   "source": [
    "def infinite():\n",
    "    num = 1\n",
    "    while True:\n",
    "        yield num\n",
    "        num += 1\n",
    "        print(num,end=\", \")\n",
    "\n",
    "generate_infinite = infinite()\n",
    "\n",
    "next(generate_infinite)\n",
    "next(generate_infinite)\n",
    "next(generate_infinite)\n",
    "next(generate_infinite)\n",
    "next(generate_infinite)\n",
    "\n",
    "a = 0\n"
   ]
  },
  {
   "cell_type": "code",
   "execution_count": 10,
   "id": "91c6967c",
   "metadata": {},
   "outputs": [
    {
     "name": "stdout",
     "output_type": "stream",
     "text": [
      "<class 'generator'>\n",
      "0\n",
      "1\n",
      "4\n",
      "9\n"
     ]
    }
   ],
   "source": [
    "gen = ( x ** 2  for x in range(0,5)) # when use listcomprehensive in tple it become generator\n",
    "print(type(gen))\n",
    "\n",
    "print(next(gen))\n",
    "print(next(gen))\n",
    "print(next(gen))\n",
    "print(next(gen))\n",
    "\n",
    "# for val in gen:\n",
    "#     print(val, \" : \", type(val))"
   ]
  },
  {
   "cell_type": "code",
   "execution_count": 12,
   "id": "d313f3da",
   "metadata": {},
   "outputs": [
    {
     "name": "stdout",
     "output_type": "stream",
     "text": [
      "6\n"
     ]
    }
   ],
   "source": [
    "def factorial(n):\n",
    "    if n == 1:\n",
    "        return 1\n",
    "    else:\n",
    "        return n * factorial(n-1)\n",
    "\n",
    "print(factorial(3))"
   ]
  },
  {
   "cell_type": "code",
   "execution_count": 27,
   "id": "0578f842",
   "metadata": {},
   "outputs": [
    {
     "name": "stdout",
     "output_type": "stream",
     "text": [
      "faboncci of number 0: 0\n",
      "faboncci of number 1: 1\n",
      "faboncci of number 2: 1\n",
      "faboncci of number 3: 2\n",
      "faboncci of number 4: 3\n"
     ]
    }
   ],
   "source": [
    "def fabonnci(n):\n",
    "    if n == 0:\n",
    "        return 0\n",
    "    elif n == 1:\n",
    "        return 1\n",
    "    else:\n",
    "        return fabonnci(n-1) + fabonnci(n-2)\n",
    "\n",
    "print(f\"faboncci of number 0: {fabonnci(0)}\")\n",
    "print(f\"faboncci of number 1: {fabonnci(1)}\")\n",
    "print(f\"faboncci of number 2: {fabonnci(2)}\")\n",
    "print(f\"faboncci of number 3: {fabonnci(3)}\")\n",
    "print(f\"faboncci of number 4: {fabonnci(4)}\")\n",
    "\n",
    "\n"
   ]
  },
  {
   "cell_type": "markdown",
   "id": "77d133e6",
   "metadata": {},
   "source": [
    "* ✅ 2. Memoized Recursive Version – Avoids Recomputing\n",
    "\n",
    "* ✅ Memoized version keeps the recursive style but speeds it up by caching."
   ]
  },
  {
   "cell_type": "code",
   "execution_count": 30,
   "id": "e69da66f",
   "metadata": {},
   "outputs": [
    {
     "name": "stdout",
     "output_type": "stream",
     "text": [
      "Fibonacci(0) = 0\n",
      "Fibonacci(1) = 1\n",
      "Fibonacci(2) = 1\n",
      "Fibonacci(3) = 2\n"
     ]
    }
   ],
   "source": [
    "# Using a dictionary to store already computed values\n",
    "memo = {0: 0, 1: 1}\n",
    "\n",
    "def fibonacci_memo(n):\n",
    "    if n not in memo:\n",
    "        memo[n] = fibonacci_memo(n - 1) + fibonacci_memo(n - 2)\n",
    "    return memo[n]\n",
    "\n",
    "# Example\n",
    "for i in range(4):\n",
    "    print(f\"Fibonacci({i}) = {fibonacci_memo(i)}\")\n"
   ]
  },
  {
   "cell_type": "code",
   "execution_count": null,
   "id": "5310248b",
   "metadata": {},
   "outputs": [
    {
     "name": "stdout",
     "output_type": "stream",
     "text": [
      "1\n",
      "2\n",
      "3\n",
      "5\n",
      "3\n",
      "8\n",
      "(3, 4, 5)\n",
      "{'k': 3, 'j': 5}\n"
     ]
    }
   ],
   "source": [
    "# def example(a,b,/,c,d,*args,e=1,f=4,**kwargs):\n",
    "def example(a,b,/,c,d,e=1,f=4,*args,**kwargs):\n",
    "    print(a)\n",
    "    print(b)\n",
    "    print(c)\n",
    "    print(d)\n",
    "    print(e)\n",
    "    print(f)\n",
    "    print(args)\n",
    "    print(kwargs)\n",
    "    \n",
    "# example(1,2,c=2,d=6,f=9,e=8,1,2,3,4,5,kw=(1,2,3,4))\n",
    "# example(1,2,c=3,d=4,e=5,f=6,k=7,j=8,l=9,m=0,kw=(1,2,3,4))\n",
    "# example(1,2,3,4,5,5,6,7,8,e=2,k=2)\n",
    "example(1,2,3,5,3,8,3,4,5,k=3,j=5)\n"
   ]
  }
 ],
 "metadata": {
  "kernelspec": {
   "display_name": "Python 3",
   "language": "python",
   "name": "python3"
  },
  "language_info": {
   "codemirror_mode": {
    "name": "ipython",
    "version": 3
   },
   "file_extension": ".py",
   "mimetype": "text/x-python",
   "name": "python",
   "nbconvert_exporter": "python",
   "pygments_lexer": "ipython3",
   "version": "3.13.2"
  }
 },
 "nbformat": 4,
 "nbformat_minor": 5
}
