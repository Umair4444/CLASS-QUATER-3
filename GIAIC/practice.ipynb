{
 "cells": [
  {
   "cell_type": "code",
   "execution_count": 7,
   "metadata": {},
   "outputs": [
    {
     "name": "stdout",
     "output_type": "stream",
     "text": [
      "Species: Homo Sapiens\n",
      "Homo Sapiens\n"
     ]
    }
   ],
   "source": [
    "class Person:\n",
    "    species = \"Human\"  # Class Attribute\n",
    "\n",
    "    def __init__(self, name: str, age: int):\n",
    "        self.name = name\n",
    "        self.age = age\n",
    "\n",
    "    @classmethod\n",
    "    def set_sp(cls, species_name):\n",
    "        cls.species = species_name  # Modifies class attribute\n",
    "\n",
    "    @classmethod\n",
    "    def get_species(cls):\n",
    "        return f\"Species: {Person.species}\"\n",
    "\n",
    "# Call class method without instance\n",
    "Person.set_sp(\"Homo Sapiens\")\n",
    "print(Person.get_species())  # ✅ Output: Species: Homo Sapiens\n",
    "print(Person.species)  # ✅ Output: Species: Homo Sapiens\n"
   ]
  },
  {
   "cell_type": "code",
   "execution_count": 3,
   "metadata": {},
   "outputs": [
    {
     "name": "stdout",
     "output_type": "stream",
     "text": [
      "Species: Human\n"
     ]
    }
   ],
   "source": [
    "class Person:\n",
    "    species = \"Human\"  # Class Attribute\n",
    "\n",
    "    def get_species(self):  # Regular instance method\n",
    "        return f\"Species: {Person.species}\"  # ✅ Accessing directly using class name\n",
    "\n",
    "# Creating an instance\n",
    "p = Person()\n",
    "print(p.get_species())  # ✅ Output: Species: Human\n",
    "\n",
    "# print(Person.species)\n",
    "# print(Person.get_species())\n"
   ]
  }
 ],
 "metadata": {
  "kernelspec": {
   "display_name": "Python 3",
   "language": "python",
   "name": "python3"
  },
  "language_info": {
   "codemirror_mode": {
    "name": "ipython",
    "version": 3
   },
   "file_extension": ".py",
   "mimetype": "text/x-python",
   "name": "python",
   "nbconvert_exporter": "python",
   "pygments_lexer": "ipython3",
   "version": "3.13.2"
  }
 },
 "nbformat": 4,
 "nbformat_minor": 2
}
