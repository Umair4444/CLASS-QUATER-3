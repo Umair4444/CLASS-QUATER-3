{
 "cells": [
  {
   "cell_type": "code",
   "execution_count": 13,
   "metadata": {},
   "outputs": [
    {
     "name": "stdout",
     "output_type": "stream",
     "text": [
      "('apple', 'banana', 'cherry', 'apple')\n",
      "2\n",
      "0\n",
      "3\n"
     ]
    }
   ],
   "source": [
    "fruit = (\"apple\",\"banana\",\"cherry\",\"apple\")\n",
    "print(fruit)\n",
    "print(fruit.count(\"apple\"))\n",
    "print(fruit.index(\"apple\"))\n",
    "print(fruit.index(\"apple\",2))\n"
   ]
  },
  {
   "cell_type": "code",
   "execution_count": 2,
   "metadata": {},
   "outputs": [
    {
     "name": "stdout",
     "output_type": "stream",
     "text": [
      "Account Holder: Alice\n",
      "Balance: 1000\n",
      "Access denied. PIN is private.\n",
      "Initial Balance: 1000\n",
      "Balance updated to 1500.\n",
      "Invalid amount. Balance cannot be negative.\n",
      "Account Holder: Alice\n",
      "Balance: 1500\n",
      "Now your pin is: jkl\n",
      "Pin change to jkl\n"
     ]
    }
   ],
   "source": [
    "class BankAccount:\n",
    "    def __init__(self, account_holder, balance):\n",
    "        self.account_holder = account_holder  # Public attribute\n",
    "        self._balance = balance               # Protected attribute\n",
    "        self.__pin = \"1234\"                   # Private attribute\n",
    "\n",
    "    # Getter method for balance\n",
    "    def get_balance(self):\n",
    "        return self._balance\n",
    "    \n",
    "    # Setter method for balance\n",
    "    def set_balance(self, amount):\n",
    "        if amount >= 0:\n",
    "            self._balance = amount\n",
    "            print(f\"Balance updated to {self._balance}.\")\n",
    "        else:\n",
    "            print(\"Invalid amount. Balance cannot be negative.\")\n",
    "\n",
    "    # Getter method for pin (private attribute)\n",
    "    def get_pin(self):\n",
    "        return \"Access denied. PIN is private.\"\n",
    "        # return f\"Access denied. PIN is private. {self.__pin}\"\n",
    "\n",
    "    def changedpin(self):\n",
    "        # return \"Access denied. PIN is private.\"\n",
    "        return f\"Pin change to {self.__pin}\"\n",
    "    \n",
    "    def changepin(self,pin):\n",
    "        self.__pin = pin\n",
    "        return f\"Now your pin is: {self.__pin}\"\n",
    "    \n",
    "    # Method to display account details\n",
    "    def display(self):\n",
    "        print(f\"Account Holder: {self.account_holder}\")\n",
    "        print(f\"Balance: {self._balance}\")\n",
    "\n",
    "    # Create an instance of the BankAccount class\n",
    "account = BankAccount(\"Alice\", 1000)\n",
    "\n",
    "# Access public attribute\n",
    "print(f\"Account Holder: {account.account_holder}\")  # Output: Account Holder: Alice\n",
    "\n",
    "# Access protected attribute (not recommended, but possible)\n",
    "print(f\"Balance: {account._balance}\")  # Output: Balance: 1000\n",
    "\n",
    "# Access private attribute (name mangling makes it harder)\n",
    "# This will raise an AttributeError:\n",
    "# print(account.__pin)\n",
    "\n",
    "# Use getter method for private attribute\n",
    "print(account.get_pin())  # Output: Access denied. PIN is private.\n",
    "\n",
    "# Use getter and setter methods for protected attribute\n",
    "print(f\"Initial Balance: {account.get_balance()}\")  # Output: Initial Balance: 1000\n",
    "account.set_balance(1500)  # Output: Balance updated to 1500.\n",
    "account.set_balance(-500)  # Output: Invalid amount. Balance cannot be negative.\n",
    "\n",
    "# Display account details\n",
    "account.display()  # Output: Account Holder: Alice, Balance: 1500\n",
    "\n",
    "print(account.changepin(\"jkl\"))\n",
    "print(account.changedpin())\n"
   ]
  }
 ],
 "metadata": {
  "kernelspec": {
   "display_name": "Python 3",
   "language": "python",
   "name": "python3"
  },
  "language_info": {
   "codemirror_mode": {
    "name": "ipython",
    "version": 3
   },
   "file_extension": ".py",
   "mimetype": "text/x-python",
   "name": "python",
   "nbconvert_exporter": "python",
   "pygments_lexer": "ipython3",
   "version": "3.13.2"
  }
 },
 "nbformat": 4,
 "nbformat_minor": 2
}
