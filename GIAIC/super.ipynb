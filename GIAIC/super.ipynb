{
 "cells": [
  {
   "cell_type": "code",
   "execution_count": 126,
   "metadata": {},
   "outputs": [
    {
     "name": "stdout",
     "output_type": "stream",
     "text": [
      "Buddy\n",
      "Golden Retriever\n",
      "Bark\n",
      "Dog\n"
     ]
    }
   ],
   "source": [
    "class Animal:\n",
    "    def __init__(self, name, type):\n",
    "        self.name = name\n",
    "        self.type = type\n",
    "\n",
    "    def speak(self):\n",
    "        return \"Some sound\"\n",
    "\n",
    "class Dog(Animal):\n",
    "    def __init__(self, name, breed,type):\n",
    "        super().__init__(name,type)  # Call parent constructor\n",
    "        self.breed = breed\n",
    "\n",
    "    def speak(self):\n",
    "        return \"Bark\"\n",
    "\n",
    "dog = Dog(\"Buddy\", \"Golden Retriever\",\"Dog\")\n",
    "print(dog.name)  # Output: Buddy\n",
    "print(dog.breed) # Output: Golden Retriever\n",
    "print(dog.speak())  # Output: Bark\n",
    "print(dog.type)  # Output: Dog\n"
   ]
  },
  {
   "cell_type": "code",
   "execution_count": 37,
   "metadata": {},
   "outputs": [
    {
     "name": "stdout",
     "output_type": "stream",
     "text": [
      "Some sound Meow\n",
      "Meow\n"
     ]
    }
   ],
   "source": [
    "class Animal:\n",
    "    def speak(self):\n",
    "        return \"Some sound\"\n",
    "\n",
    "class Cat(Animal):\n",
    "    def speak(self):\n",
    "        return super().speak() + \" Meow\"\n",
    "    \n",
    "    def sound(self):\n",
    "        return \"Meow\"\n",
    "\n",
    "cat = Cat()\n",
    "print(cat.speak())  # Output: Some sound Meow\n",
    "print(cat.sound())  # Output: Meow\n"
   ]
  },
  {
   "cell_type": "code",
   "execution_count": 54,
   "metadata": {},
   "outputs": [
    {
     "name": "stdout",
     "output_type": "stream",
     "text": [
      "D's show method\n",
      "B's show method\n",
      "C's show method\n",
      "A's show method\n",
      "(<class '__main__.D'>, <class '__main__.B'>, <class '__main__.C'>, <class '__main__.A'>, <class 'object'>)\n"
     ]
    }
   ],
   "source": [
    "class A:\n",
    "    def show(self):\n",
    "        print(\"A's show method\")\n",
    "\n",
    "class B(A):\n",
    "    def show(self):\n",
    "        print(\"B's show method\")\n",
    "        super().show()  # Calls A's method\n",
    "\n",
    "class C(A):\n",
    "    def show(self):\n",
    "        print(\"C's show method\")\n",
    "        super().show()  # Calls A's method\n",
    "\n",
    "class D(B,C):  # Multiple inheritance\n",
    "    def show(self):\n",
    "        print(\"D's show method\")\n",
    "        super().show()  # Calls next in MRO\n",
    "\n",
    "d = D()\n",
    "d.show()\n",
    "\n",
    "print(D.__mro__)\n",
    "\n"
   ]
  },
  {
   "cell_type": "code",
   "execution_count": 61,
   "metadata": {},
   "outputs": [
    {
     "name": "stdout",
     "output_type": "stream",
     "text": [
      "D's show method\n",
      "B's show method\n",
      "C's show method\n",
      "A's show method\n",
      "(<class '__main__.D'>, <class '__main__.B'>, <class '__main__.C'>, <class '__main__.A'>, <class '__main__.Mixin'>, <class 'object'>)\n"
     ]
    }
   ],
   "source": [
    "class A:\n",
    "    def show(self):\n",
    "        print(\"A's show method\")\n",
    "\n",
    "class Mixin:\n",
    "    def show(self):\n",
    "        print(\"Mixin's show method\")\n",
    "        super().show()  # Ensures A is only called once\n",
    "\n",
    "class B(A, Mixin):\n",
    "    def show(self):\n",
    "        print(\"B's show method\")\n",
    "        super().show()\n",
    "\n",
    "class C(A, Mixin):\n",
    "    def show(self):\n",
    "        print(\"C's show method\")\n",
    "        super().show()\n",
    "\n",
    "class D(B, C):  # Multiple inheritance\n",
    "    def show(self):\n",
    "        print(\"D's show method\")\n",
    "        super().show()\n",
    "\n",
    "d = D()\n",
    "d.show()\n",
    "print(D.__mro__)\n",
    "\n"
   ]
  },
  {
   "cell_type": "code",
   "execution_count": 63,
   "metadata": {},
   "outputs": [
    {
     "name": "stdout",
     "output_type": "stream",
     "text": [
      "D's show method\n",
      "B's show method\n",
      "C's show method\n",
      "Mixin's show method\n",
      "A's show method\n",
      "(<class '__main__.D'>, <class '__main__.B'>, <class '__main__.C'>, <class '__main__.Mixin'>, <class '__main__.A'>, <class 'object'>)\n"
     ]
    }
   ],
   "source": [
    "class A:\n",
    "    def show(self):\n",
    "        print(\"A's show method\")\n",
    "\n",
    "class Mixin:\n",
    "    def show(self):\n",
    "        print(\"Mixin's show method\")\n",
    "        super().show()  # Ensures A is only called once\n",
    "\n",
    "class B(Mixin, A):  # Mixin before A\n",
    "    def show(self):\n",
    "        print(\"B's show method\")\n",
    "        super().show()\n",
    "\n",
    "class C(Mixin, A):  # Mixin before A\n",
    "    def show(self):\n",
    "        print(\"C's show method\")\n",
    "        super().show()\n",
    "\n",
    "class D(B, C):  # Multiple inheritance\n",
    "    def show(self):\n",
    "        print(\"D's show method\")\n",
    "        super().show()\n",
    "\n",
    "d = D()\n",
    "d.show()\n",
    "\n",
    "print(D.__mro__)\n",
    "\n"
   ]
  },
  {
   "cell_type": "code",
   "execution_count": 153,
   "metadata": {},
   "outputs": [
    {
     "name": "stdout",
     "output_type": "stream",
     "text": [
      "I am Emma, my father is John and my mother is Sarah.\n",
      "6 Feet\n",
      "Blue\n",
      "Father (John) is speaking.\n"
     ]
    }
   ],
   "source": [
    "class Mother:\n",
    "    def __init__(self, mother_name: str) -> None:\n",
    "        self.mother_name = mother_name\n",
    "        self.eye_color = \"Blue\"\n",
    "\n",
    "    def speaking(self):\n",
    "        return f\"Mother ({self.mother_name}) is speaking.\"\n",
    "\n",
    "class Father:\n",
    "    def __init__(self, father_name: str) -> None:\n",
    "        self.father_name = father_name\n",
    "        self.height = \"6 Feet\"\n",
    "\n",
    "    def speaking(self):\n",
    "        return f\"Father ({self.father_name}) is speaking.\"\n",
    "\n",
    "# Child inherits from both Mother and Father\n",
    "class Child(Father, Mother):\n",
    "    def __init__(self, mother_name: str, father_name: str, child_name: str) -> None:\n",
    "        # Manually calling both parent class constructors\n",
    "        Father.__init__( self,father_name)\n",
    "        Mother.__init__(self, mother_name)\n",
    "\n",
    "        self.child_name = child_name\n",
    "\n",
    "    def introduce(self):\n",
    "        return f\"I am {self.child_name}, my father is {self.father_name} and my mother is {self.mother_name}.\"\n",
    "\n",
    "# Creating an object of Child class\n",
    "child = Child(\"Sarah\", \"John\", \"Emma\")\n",
    "\n",
    "print(child.introduce())   # ✅ Works fine\n",
    "print(child.height)        # ✅ Inherited from Father\n",
    "print(child.eye_color)     # ✅ Inherited from Mother\n",
    "print(child.speaking())    # ❌ Calls Father's speaking() due to MRO\n"
   ]
  },
  {
   "cell_type": "code",
   "execution_count": 152,
   "metadata": {},
   "outputs": [
    {
     "ename": "AttributeError",
     "evalue": "'Child' object has no attribute 'mother_name'",
     "output_type": "error",
     "traceback": [
      "\u001b[31m---------------------------------------------------------------------------\u001b[39m",
      "\u001b[31mAttributeError\u001b[39m                            Traceback (most recent call last)",
      "\u001b[36mCell\u001b[39m\u001b[36m \u001b[39m\u001b[32mIn[152]\u001b[39m\u001b[32m, line 31\u001b[39m\n\u001b[32m     28\u001b[39m \u001b[38;5;66;03m# Creating an object of Child class\u001b[39;00m\n\u001b[32m     29\u001b[39m child = Child(\u001b[33m\"\u001b[39m\u001b[33mSarah\u001b[39m\u001b[33m\"\u001b[39m, \u001b[33m\"\u001b[39m\u001b[33mJohn\u001b[39m\u001b[33m\"\u001b[39m,\u001b[33m\"\u001b[39m\u001b[33memma\u001b[39m\u001b[33m\"\u001b[39m)\n\u001b[32m---> \u001b[39m\u001b[32m31\u001b[39m \u001b[38;5;28mprint\u001b[39m(\u001b[43mchild\u001b[49m\u001b[43m.\u001b[49m\u001b[43mintroduce\u001b[49m\u001b[43m(\u001b[49m\u001b[43m)\u001b[49m)  \u001b[38;5;66;03m# ❌ Will raise AttributeError (mother_name is missing)\u001b[39;00m\n\u001b[32m     32\u001b[39m \u001b[38;5;28mprint\u001b[39m(child.height)       \u001b[38;5;66;03m# ✅ Inherited from Father\u001b[39;00m\n\u001b[32m     33\u001b[39m \u001b[38;5;28mprint\u001b[39m(child.eye_color)    \u001b[38;5;66;03m# ❌ AttributeError because Mother.__init__() was not called\u001b[39;00m\n",
      "\u001b[36mCell\u001b[39m\u001b[36m \u001b[39m\u001b[32mIn[152]\u001b[39m\u001b[32m, line 26\u001b[39m, in \u001b[36mChild.introduce\u001b[39m\u001b[34m(self)\u001b[39m\n\u001b[32m     25\u001b[39m \u001b[38;5;28;01mdef\u001b[39;00m\u001b[38;5;250m \u001b[39m\u001b[34mintroduce\u001b[39m(\u001b[38;5;28mself\u001b[39m):\n\u001b[32m---> \u001b[39m\u001b[32m26\u001b[39m     \u001b[38;5;28;01mreturn\u001b[39;00m \u001b[33mf\u001b[39m\u001b[33m\"\u001b[39m\u001b[33mI am \u001b[39m\u001b[38;5;132;01m{\u001b[39;00m\u001b[38;5;28mself\u001b[39m.child_name\u001b[38;5;132;01m}\u001b[39;00m\u001b[33m, my father is \u001b[39m\u001b[38;5;132;01m{\u001b[39;00m\u001b[38;5;28mself\u001b[39m.father_name\u001b[38;5;132;01m}\u001b[39;00m\u001b[33m and my mother is \u001b[39m\u001b[38;5;132;01m{\u001b[39;00m\u001b[38;5;28;43mself\u001b[39;49m\u001b[43m.\u001b[49m\u001b[43mmother_name\u001b[49m\u001b[38;5;132;01m}\u001b[39;00m\u001b[33m.\u001b[39m\u001b[33m\"\u001b[39m\n",
      "\u001b[31mAttributeError\u001b[39m: 'Child' object has no attribute 'mother_name'"
     ]
    }
   ],
   "source": [
    "class Mother:\n",
    "    def __init__(self, mother_name: str) -> None:\n",
    "        self.mother_name = mother_name\n",
    "        self.eye_color = \"Blue\"\n",
    "\n",
    "    def speaking(self):\n",
    "        return f\"Mother ({self.mother_name}) is speaking.\"\n",
    "\n",
    "class Father:\n",
    "    def __init__(self, father_name: str) -> None:\n",
    "        self.father_name = father_name\n",
    "        # self.favourite_food = favourite_food\n",
    "        self.height = \"6 Feet\"\n",
    "\n",
    "    def speaking(self):\n",
    "        return f\"Father ({self.father_name}) is speaking.\"\n",
    "\n",
    "# Child inherits from both Mother and Father\n",
    "class Child(Father, Mother):\n",
    "    def __init__(self, mother_name: str, father_name: str, child_name: str) -> None:\n",
    "        super().__init__(father_name)  # Calls first parent in MRO (Father)\n",
    "        # super().__init__(mother_name)  # Calls first parent in MRO (Father)\n",
    "        self.child_name = child_name\n",
    "\n",
    "    def introduce(self):\n",
    "        return f\"I am {self.child_name}, my father is {self.father_name} and my mother is {self.mother_name}.\"\n",
    "\n",
    "# Creating an object of Child class\n",
    "child = Child(\"Sarah\", \"John\",\"emma\")\n",
    "\n",
    "print(child.introduce())  # ❌ Will raise AttributeError (mother_name is missing)\n",
    "print(child.height)       # ✅ Inherited from Father\n",
    "print(child.eye_color)    # ❌ AttributeError because Mother.__init__() was not called\n",
    "print(child.speaking())   # ✅ Calls Father's speaking() due to MRO\n"
   ]
  },
  {
   "cell_type": "code",
   "execution_count": null,
   "metadata": {},
   "outputs": [
    {
     "name": "stdout",
     "output_type": "stream",
     "text": [
      "Initializing Child\n",
      "Initializing Mother\n",
      "Initializing Father\n",
      "Emma\n",
      "John\n",
      "Blue\n",
      "6 Feet\n"
     ]
    }
   ],
   "source": [
    "class Mother:\n",
    "    def __init__(self, mother_name: str) -> None:\n",
    "        print(\"Initializing Mother\")\n",
    "        self.mother_name = mother_name\n",
    "        self.eye_color = \"Blue\"\n",
    "\n",
    "class Father:\n",
    "    def __init__(self, father_name: str) -> None:\n",
    "        print(\"Initializing Father\")\n",
    "        self.father_name = father_name\n",
    "        self.height = \"6 Feet\"\n",
    "\n",
    "class Child(Father, Mother):\n",
    "    def __init__(self, mother_name: str, father_name: str, child_name: str) -> None:\n",
    "        print(\"Initializing Child\")\n",
    "        # super().__init__(father_name)  # Calls Father first (MRO)\n",
    "        Mother.__init__(self, mother_name) #   Calls Mother second\n",
    "        Father.__init__(self, father_name) #   Calls Mother second\n",
    "        # super().__init__(mother_name)  # ❌ Wrong: This resets attributes!\n",
    "        # super().__init__(father_name,mother_name)  # ❌ Wrong: cannot call 2 parents \n",
    "\n",
    "        self.child_name = child_name\n",
    "\n",
    "# Creating an object of Child class\n",
    "child = Child(\"Sarah\", \"John\", \"Emma\")\n",
    "\n",
    "print(child.child_name)   # ✅ Emma\n",
    "print(child.father_name)  # ✅ John (from Father)\n",
    "# # print(child.mother_name)  # ❌ ERROR! (Mother's __init__() was overridden)\n",
    "print(child.eye_color)    # ❌ ERROR! (Mother's attributes were lost)\n",
    "print(child.height)       # ✅ 6 Feet (from Father)\n"
   ]
  },
  {
   "cell_type": "code",
   "execution_count": null,
   "metadata": {},
   "outputs": [
    {
     "name": "stdout",
     "output_type": "stream",
     "text": [
      "Initializing Child\n",
      "Initializing Father\n",
      "Initializing Mother\n"
     ]
    },
    {
     "ename": "TypeError",
     "evalue": "object.__init__() takes exactly one argument (the instance to initialize)",
     "output_type": "error",
     "traceback": [
      "\u001b[31m---------------------------------------------------------------------------\u001b[39m",
      "\u001b[31mTypeError\u001b[39m                                 Traceback (most recent call last)",
      "\u001b[36mCell\u001b[39m\u001b[36m \u001b[39m\u001b[32mIn[117]\u001b[39m\u001b[32m, line 25\u001b[39m\n\u001b[32m     22\u001b[39m         \u001b[38;5;28mself\u001b[39m.child_name = child_name\n\u001b[32m     24\u001b[39m \u001b[38;5;66;03m# Creating an instance\u001b[39;00m\n\u001b[32m---> \u001b[39m\u001b[32m25\u001b[39m child = \u001b[43mChild\u001b[49m\u001b[43m(\u001b[49m\u001b[33;43m\"\u001b[39;49m\u001b[33;43mSarah\u001b[39;49m\u001b[33;43m\"\u001b[39;49m\u001b[43m,\u001b[49m\u001b[43m \u001b[49m\u001b[33;43m\"\u001b[39;49m\u001b[33;43mJohn\u001b[39;49m\u001b[33;43m\"\u001b[39;49m\u001b[43m,\u001b[49m\u001b[43m \u001b[49m\u001b[33;43m\"\u001b[39;49m\u001b[33;43mEmma\u001b[39;49m\u001b[33;43m\"\u001b[39;49m\u001b[43m)\u001b[49m\n\u001b[32m     27\u001b[39m \u001b[38;5;28mprint\u001b[39m(child.child_name)   \u001b[38;5;66;03m# ✅ Emma\u001b[39;00m\n\u001b[32m     28\u001b[39m \u001b[38;5;28mprint\u001b[39m(child.father_name)  \u001b[38;5;66;03m# ✅ John (from Father)   \u001b[39;00m\n",
      "\u001b[36mCell\u001b[39m\u001b[36m \u001b[39m\u001b[32mIn[117]\u001b[39m\u001b[32m, line 21\u001b[39m, in \u001b[36mChild.__init__\u001b[39m\u001b[34m(self, mother_name, father_name, child_name)\u001b[39m\n\u001b[32m     19\u001b[39m \u001b[38;5;28;01mdef\u001b[39;00m\u001b[38;5;250m \u001b[39m\u001b[34m__init__\u001b[39m(\u001b[38;5;28mself\u001b[39m, mother_name: \u001b[38;5;28mstr\u001b[39m, father_name: \u001b[38;5;28mstr\u001b[39m, child_name: \u001b[38;5;28mstr\u001b[39m) -> \u001b[38;5;28;01mNone\u001b[39;00m:\n\u001b[32m     20\u001b[39m     \u001b[38;5;28mprint\u001b[39m(\u001b[33m\"\u001b[39m\u001b[33mInitializing Child\u001b[39m\u001b[33m\"\u001b[39m)\n\u001b[32m---> \u001b[39m\u001b[32m21\u001b[39m     \u001b[38;5;28;43msuper\u001b[39;49m\u001b[43m(\u001b[49m\u001b[43m)\u001b[49m\u001b[43m.\u001b[49m\u001b[34;43m__init__\u001b[39;49m\u001b[43m(\u001b[49m\u001b[43mfather_name\u001b[49m\u001b[43m,\u001b[49m\u001b[43m \u001b[49m\u001b[43mmother_name\u001b[49m\u001b[43m)\u001b[49m  \u001b[38;5;66;03m# Calls Parent constructors in MRO\u001b[39;00m\n\u001b[32m     22\u001b[39m     \u001b[38;5;28mself\u001b[39m.child_name = child_name\n",
      "\u001b[36mCell\u001b[39m\u001b[36m \u001b[39m\u001b[32mIn[117]\u001b[39m\u001b[32m, line 15\u001b[39m, in \u001b[36mFather.__init__\u001b[39m\u001b[34m(self, father_name, *args, **kwargs)\u001b[39m\n\u001b[32m     13\u001b[39m \u001b[38;5;28mself\u001b[39m.height = \u001b[33m\"\u001b[39m\u001b[33m6 Feet\u001b[39m\u001b[33m\"\u001b[39m\n\u001b[32m     14\u001b[39m \u001b[38;5;66;03m# super().__init__(*args, **kwargs)  # Calls next in MRO\u001b[39;00m\n\u001b[32m---> \u001b[39m\u001b[32m15\u001b[39m \u001b[38;5;28;43msuper\u001b[39;49m\u001b[43m(\u001b[49m\u001b[43m)\u001b[49m\u001b[43m.\u001b[49m\u001b[34;43m__init__\u001b[39;49m\u001b[43m(\u001b[49m\u001b[38;5;28;43mself\u001b[39;49m\u001b[43m,\u001b[49m\u001b[43mfather_name\u001b[49m\u001b[43m)\u001b[49m\n",
      "\u001b[36mCell\u001b[39m\u001b[36m \u001b[39m\u001b[32mIn[117]\u001b[39m\u001b[32m, line 7\u001b[39m, in \u001b[36mMother.__init__\u001b[39m\u001b[34m(self, mother_name, *args, **kwargs)\u001b[39m\n\u001b[32m      5\u001b[39m \u001b[38;5;28mself\u001b[39m.eye_color = \u001b[33m\"\u001b[39m\u001b[33mBlue\u001b[39m\u001b[33m\"\u001b[39m\n\u001b[32m      6\u001b[39m \u001b[38;5;66;03m# super().__init__(*args, **kwargs)  # Calls next in MRO\u001b[39;00m\n\u001b[32m----> \u001b[39m\u001b[32m7\u001b[39m \u001b[38;5;28;43msuper\u001b[39;49m\u001b[43m(\u001b[49m\u001b[43m)\u001b[49m\u001b[43m.\u001b[49m\u001b[34;43m__init__\u001b[39;49m\u001b[43m(\u001b[49m\u001b[38;5;28;43mself\u001b[39;49m\u001b[43m,\u001b[49m\u001b[43mmother_name\u001b[49m\u001b[43m)\u001b[49m\n",
      "\u001b[31mTypeError\u001b[39m: object.__init__() takes exactly one argument (the instance to initialize)"
     ]
    }
   ],
   "source": [
    "class Mother:\n",
    "    def __init__(self, mother_name: str, *args, **kwargs) -> None:\n",
    "        print(\"Initializing Mother\")\n",
    "        self.mother_name = mother_name\n",
    "        self.eye_color = \"Blue\"\n",
    "        # super().__init__(*args, **kwargs)  # Calls next in MRO\n",
    "\n",
    "class Father:\n",
    "    def __init__(self, father_name: str, *args, **kwargs) -> None:\n",
    "        print(\"Initializing Father\")\n",
    "        self.father_name = father_name\n",
    "        self.height = \"6 Feet\"\n",
    "        # super().__init__(*args, **kwargs)  # Calls next in MRO\n",
    "\n",
    "\n",
    "class Child(Father, Mother):\n",
    "    def __init__(self, mother_name: str, father_name: str, child_name: str) -> None:\n",
    "        print(\"Initializing Child\")\n",
    "        super().__init__(father_name, mother_name)  # Calls Parent constructors in MRO\n",
    "        self.child_name = child_name\n",
    "\n",
    "# Creating an instance\n",
    "child = Child(\"Sarah\", \"John\", \"Emma\")\n",
    "\n",
    "print(child.child_name)   # ✅ Emma\n",
    "print(child.father_name)  # ✅ John (from Father)   \n",
    "print(child.mother_name)  # ✅ Sarah (from Mother)\n",
    "print(child.eye_color)    # ✅ Blue (from Mother)\n",
    "print(child.height)       # ✅ 6 Feet (from Father)\n",
    "\n"
   ]
  },
  {
   "cell_type": "code",
   "execution_count": 154,
   "metadata": {},
   "outputs": [
    {
     "name": "stdout",
     "output_type": "stream",
     "text": [
      "Flying high!\n",
      "Swimming deep!\n"
     ]
    }
   ],
   "source": [
    "# First parent class\n",
    "class Bird:\n",
    "    def fly(self):\n",
    "        return \"Flying high!\"\n",
    "\n",
    "# Second parent class\n",
    "class Fish:\n",
    "    def swim(self):\n",
    "        return \"Swimming deep!\"\n",
    "\n",
    "# Child class (inherits from both Bird and Fish)\n",
    "class FlyingFish(Bird, Fish):\n",
    "    pass\n",
    "\n",
    "# Create an instance of the FlyingFish class\n",
    "flying_fish = FlyingFish()\n",
    "print(flying_fish.fly())  # Output: Flying high!\n",
    "print(flying_fish.swim())  # Output: Swimming deep!"
   ]
  },
  {
   "cell_type": "code",
   "execution_count": 167,
   "metadata": {},
   "outputs": [
    {
     "name": "stdout",
     "output_type": "stream",
     "text": [
      "Toyota Corolla (2022 red)\n"
     ]
    }
   ],
   "source": [
    "# Parent class\n",
    "class Vehicle:\n",
    "    def __init__(self, brand, model):\n",
    "        self.brand = brand\n",
    "        self.model = model\n",
    "        self.color = \"red\"\n",
    "\n",
    "    def display(self):\n",
    "        return f\"{self.brand} {self.model}\"\n",
    "\n",
    "# Child class (inherits from Vehicle)\n",
    "class Car(Vehicle):\n",
    "    def __init__(self, brand, model, year):\n",
    "        super().__init__(brand, model)  # Call the parent class constructor\n",
    "        self.year = year\n",
    "\n",
    "    # Override the display method\n",
    "    def display(self):\n",
    "        return f\"{self.brand} {self.model} ({self.year} {self.color})\"\n",
    "\n",
    "# Create an instance of the Car class\n",
    "car = Car(\"Toyota\", \"Corolla\", 2022 )\n",
    "print(car.display())  # Output: Toyota Corolla (2022)"
   ]
  }
 ],
 "metadata": {
  "kernelspec": {
   "display_name": "Python 3",
   "language": "python",
   "name": "python3"
  },
  "language_info": {
   "codemirror_mode": {
    "name": "ipython",
    "version": 3
   },
   "file_extension": ".py",
   "mimetype": "text/x-python",
   "name": "python",
   "nbconvert_exporter": "python",
   "pygments_lexer": "ipython3",
   "version": "3.13.2"
  }
 },
 "nbformat": 4,
 "nbformat_minor": 2
}
